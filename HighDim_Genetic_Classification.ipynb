{
 "cells": [
  {
   "cell_type": "markdown",
   "metadata": {
    "id": "O5yKxs3r7NfH"
   },
   "source": [
    "# KAGGLE COMPETITION: GENETIC DATA  CLASSIFICATION"
   ]
  },
  {
   "cell_type": "markdown",
   "metadata": {
    "id": "QOHlLU8d7Fq5"
   },
   "source": [
    "**Problem Statement:**\n",
    "In this project, we aim to correctly classify genetic data with over 650 features. The features do not have inferential names and thus this is a pure machine learning problem. \n",
    "\n",
    "The overall strategy included the following steps:\n",
    "\n",
    "1.   Pre-Processing of data\n",
    "2.   Feature Selection\n",
    "3.   Scaling Data and spliting to train and test\n",
    "4.   model building and finding right hyperparameters\n",
    "5.   model comparison\n",
    "6.   model stacking\n",
    "\n",
    "**Pre-processing:**\n",
    "Here we performed some basic steps to visualize the data and understand the underlying variations. We did the following:\n",
    "\n",
    "*   Identified and deleted columns with only one unique value\n",
    "*   Analyzed the columns and deleted a column if it had 1 unique \n",
    "*   Identified any missing data and null values; we found none\n",
    "*   Ensured that all object datatypes were converted into numeric datatypes\n",
    "*   Identified categorical variables in the train set and one hot encoded them. We noticed that the test set had two additional one hot encoded columns thus we had to delete these columns so that the train and test set have the same number of columns\n",
    "* We then utilized correlations to detect high correlations within the 575 features and drop the features with a correlation of more than 0.95. This further reduced the number of features to around 332.\n",
    "*   Scaled data using the min max scaler\n",
    "\n",
    "**Feature Selection and Division into Train and Validation Set:**\n",
    "We used the BorutaPy method to selected supported features 30 for other classifiers. We used the random forest classifier within this method to rate features as per their importance.\n",
    "\n",
    "This set of data was then split into train and validation sets for model building and comparison.\n",
    "\n",
    "**Model Building:**\n",
    "We built models for random forests, knn, XGboost, Gradient Boosting, SVC, Adabooster, ExtraTree and Neural Networks. For each of the models we utilized grid search to find the optimal parameters. We also used the StackingClassifier to combine the best random forest, knn, XGboost and GB methods. While the stacking classifier had a good accuracy, either the gradient boosting method or knn method alone outperformed the results. \n",
    "\n",
    "**Model Comparison:**\n",
    "We used the F1 score to compare results for each of the models. Since this is a very imbalanced dataset, using validation accuracy would be a very inapproriate measure. \n",
    "We noticed that for different sets of features(we tried models with 15, 46 and 100 features) gradient boost,knn and neural networks had the best performance. \n",
    "\n",
    "**Model Stacking and Voting:**\n",
    "Since the StackingClassifier did not give the best result, we created a voting method to utilize the probabilities of neural networks, gradient boosting and knn. This helped maximize the AUC for the final model and helped us achieve a score of 0.72151 on kaggle. \n",
    "\n",
    "**Baseline Learning:**\n",
    "The baseline learning from this project was that feature selection is a very important step in model building. The correct selection of features helps contribute the most to the predictions and having irrelavant features or highly correlated features reduced the accuracy of the models.  \n",
    "\n",
    "\n",
    "\n",
    "\n",
    "\n"
   ]
  },
  {
   "cell_type": "markdown",
   "metadata": {
    "id": "JnzZldVnFHfd"
   },
   "source": [
    "# CODE"
   ]
  },
  {
   "cell_type": "code",
   "execution_count": null,
   "metadata": {
    "colab": {
     "base_uri": "https://localhost:8080/",
     "height": 71
    },
    "id": "izCWaa2H3kqS",
    "outputId": "17e987b1-8095-4dbf-db0e-08e0d004a49d"
   },
   "outputs": [
    {
     "name": "stderr",
     "output_type": "stream",
     "text": [
      "/usr/local/lib/python3.6/dist-packages/statsmodels/tools/_testing.py:19: FutureWarning: pandas.util.testing is deprecated. Use the functions in the public API at pandas.testing instead.\n",
      "  import pandas.util.testing as tm\n"
     ]
    }
   ],
   "source": [
    "# Utilities\n",
    "import numpy as np\n",
    "from numpy import loadtxt\n",
    "#from sklearn.externals.six import StringIO\n",
    "import pandas as pd\n",
    "import warnings\n",
    "#import pydotplus #pip install pydotplus\n",
    "\n",
    "# Classifiers\n",
    "from sklearn.ensemble import AdaBoostClassifier\n",
    "from sklearn.ensemble import ExtraTreesClassifier\n",
    "from sklearn.ensemble import RandomForestClassifier\n",
    "from sklearn.ensemble import GradientBoostingClassifier\n",
    "from sklearn.multiclass import OutputCodeClassifier\n",
    "from sklearn.naive_bayes import GaussianNB\n",
    "from sklearn.tree import DecisionTreeClassifier\n",
    "from sklearn.tree import DecisionTreeClassifier\n",
    "from sklearn.tree import plot_tree, export_graphviz\n",
    "from sklearn.svm import LinearSVC\n",
    "from sklearn.svm import SVC\n",
    "import xgboost as xgb\n",
    "\n",
    "from sklearn.neighbors import KNeighborsClassifier\n",
    "from sklearn.metrics import classification_report\n",
    "from sklearn.model_selection import train_test_split\n",
    "from sklearn.metrics import roc_auc_score\n",
    "from sklearn.model_selection import GridSearchCV\n",
    "\n",
    "\n",
    "import os\n",
    "from sklearn.preprocessing import StandardScaler\n",
    "from sklearn.model_selection import train_test_split\n",
    "from sklearn.model_selection import GridSearchCV\n",
    "from keras.wrappers.scikit_learn import KerasClassifier\n",
    "from keras.models import Sequential\n",
    "from keras.layers import Dense, Activation, Dropout\n",
    "from keras.optimizers import SGD\n",
    "\n",
    "\n",
    "from numpy.random import seed\n",
    "\n",
    "# Metrics\n",
    "from sklearn.metrics import accuracy_score\n",
    "from sklearn.metrics import f1_score\n",
    "\n",
    "# Model selection\n",
    "from sklearn.model_selection import cross_val_score\n",
    "from sklearn.model_selection import GridSearchCV\n",
    "from sklearn.model_selection import KFold\n",
    "from sklearn.model_selection import train_test_split\n",
    "\n",
    "# Data visualization\n",
    "from matplotlib.colors import ListedColormap\n",
    "import matplotlib.pyplot as plt\n",
    "import seaborn as sns\n",
    "\n",
    "from sklearn.datasets import make_classification\n",
    "from sklearn.model_selection import RepeatedStratifiedKFold\n",
    "from sklearn.model_selection import GridSearchCV\n",
    "from sklearn.ensemble import GradientBoostingClassifier\n",
    "\n",
    "from sklearn.preprocessing import MinMaxScaler\n",
    "\n",
    "%matplotlib inline\n",
    "from boruta import BorutaPy\n",
    "from BorutaShap import BorutaShap, load_data\n",
    "from sklearn.ensemble import RandomForestClassifier\n",
    "from xgboost import XGBClassifier\n",
    "\n",
    "from math import sqrt\n",
    "from sklearn.metrics import mean_absolute_error, mean_squared_error, r2_score\n",
    "from sklearn.metrics import median_absolute_error\n",
    "from sklearn.metrics import accuracy_score, precision_score, recall_score\n",
    "from sklearn.metrics import f1_score, confusion_matrix, classification_report \n"
   ]
  },
  {
   "cell_type": "markdown",
   "metadata": {
    "id": "EfSKvCtJiF9D"
   },
   "source": [
    "Code taken from below link to view the output of the models\n",
    "\n",
    "https://github.com/tandonneur/AdvancedAnalytics/blob/AA1/AdvancedAnalytics/Tree.py"
   ]
  },
  {
   "cell_type": "code",
   "execution_count": null,
   "metadata": {
    "id": "1uk1rQ1afQgC"
   },
   "outputs": [],
   "source": [
    "    def display_split_metrics(dt, Xt, yt, Xv, yv):\n",
    "        predict_t = dt.predict(Xt)\n",
    "        predict_v = dt.predict(Xv)\n",
    "        depth = dt.max_depth\n",
    "        print(\"{:.<23s}{:>10s}{:>15s}\".format('\\nModel Metrics', \\\n",
    "                                      'Training', 'Validation'))\n",
    "        print(\"{:.<23s}{:9d}{:15d}\".format('Observations', \\\n",
    "                                          Xt.shape[0], Xv.shape[0]))\n",
    "        print(\"{:.<23s}{:>9s}{:>15s}\".format('Split Criterion', \\\n",
    "                                      dt.criterion, dt.criterion))\n",
    "        if depth==None:\n",
    "            print(\"{:.<23s}{:>9s}{:>15s}\".format('Max Depth', \\\n",
    "                                          'None', 'None'))\n",
    "        else:\n",
    "            print(\"{:.<23s}{:9d}{:15d}\".format('Max Depth',   \\\n",
    "                                          depth, depth))\n",
    "        print(\"{:.<23s}{:9d}{:15d}\".format('Minimum Split Size',   \\\n",
    "                         dt.min_samples_split, dt.min_samples_split))\n",
    "        print(\"{:.<23s}{:9d}{:15d}\".format('Minimum Leaf  Size',   \\\n",
    "                         dt.min_samples_leaf, dt.min_samples_leaf))\n",
    "\n",
    "        R2t = r2_score(yt, predict_t)\n",
    "        R2v = r2_score(yv, predict_v)\n",
    "        print(\"{:.<23s}{:9.4f}{:15.4f}\".format('R-Squared', R2t, R2v))\n",
    "        print(\"{:.<23s}{:9.4f}{:15.4f}\".format('Mean Absolute Error', \\\n",
    "                      mean_absolute_error(yt,predict_t), \\\n",
    "                      mean_absolute_error(yv,predict_v)))\n",
    "        print(\"{:.<23s}{:9.4f}{:15.4f}\".format('Median Absolute Error', \\\n",
    "                      median_absolute_error(yt,predict_t), \\\n",
    "                      median_absolute_error(yv,predict_v)))\n",
    "        print(\"{:.<23s}{:9.4f}{:15.4f}\".format('Avg Squared Error', \\\n",
    "                      mean_squared_error(yt,predict_t), \\\n",
    "                      mean_squared_error(yv,predict_v)))\n",
    "        print(\"{:.<23s}{:9.4f}{:15.4f}\".format('Square Root ASE', \\\n",
    "                      sqrt(mean_squared_error(yt,predict_t)), \\\n",
    "                      sqrt(mean_squared_error(yv,predict_v))))\n",
    "        \n",
    "    def display_importance(dt, col, top='all', plot=False):\n",
    "        nx = dt.n_features_\n",
    "        if nx != len(col):\n",
    "            print(\"NX=\", nx)\n",
    "            print(\"col length \", len(col))\n",
    "            raise RuntimeError(\"  Call to display_importance invalid\\n\"+\\\n",
    "                  \"  Number of feature labels (col) not equal to the \" +\\\n",
    "                  \"number of features in the decision tree.\")\n",
    "            sys.exit()\n",
    "        if type(top) != int and type(top) != str:\n",
    "            raise RuntimeError(\"   Call to display_importance invalid\\n\"+\\\n",
    "                  \"   Value of top is invalid.  Must be set to 'all' or\"+\\\n",
    "                  \" an integer less than the number of columns in X.\")\n",
    "            sys.exit()\n",
    "        if type(top) == str and top != 'all':\n",
    "            raise RuntimeError(\"   Call to display_importance invalid\\n\"+\\\n",
    "                  \"   Value of top is invalid.  Must be set to 'all' or\"+\\\n",
    "                  \" an integer less than the number of columns in X.\")\n",
    "            sys.exit()\n",
    "        max_label = 6\n",
    "        for i in range(len(col)):\n",
    "            if len(col[i]) > max_label:\n",
    "                max_label = len(col[i])+4\n",
    "        label_format = (\"{:.<%i\" %max_label)+\"s}{:9.4f}\"\n",
    "        \n",
    "        features = []\n",
    "        this_col = []\n",
    "        for i in range(nx):\n",
    "            features.append(dt.feature_importances_[i])\n",
    "            this_col.append(col[i])\n",
    "        sorted = False\n",
    "        while (sorted==False):\n",
    "            sorted = True\n",
    "            for i in range(nx-1):\n",
    "                if features[i]<features[i+1]:\n",
    "                    sorted=False\n",
    "                    x = features[i]\n",
    "                    c = this_col[i]\n",
    "                    features[i] = features[i+1]\n",
    "                    this_col[i] = this_col[i+1]\n",
    "                    features[i+1] = x\n",
    "                    this_col[i+1] = c\n",
    "        print(\"\")\n",
    "        label_format2 = (\"{:.<%i\" %max_label)+\"s}{:s}\"\n",
    "        print(label_format2.format(\"FEATURE\", \" IMPORTANCE\"))\n",
    "        n_x = nx\n",
    "        if type(top) == int:\n",
    "            if top <= n_x and top > 0:\n",
    "                n_x = top\n",
    "        for i in range(n_x):\n",
    "            print(label_format.format(this_col[i], features[i]))\n",
    "        print(\"\")\n",
    "        \n",
    "        if plot==False:\n",
    "            return\n",
    "        f = pd.DataFrame()\n",
    "        f['feature'] = this_col[0:n_x]\n",
    "        f['importance'] = features[0:n_x]\n",
    "        f.sort_values(by=['importance'], ascending=True, inplace=True)\n",
    "        f.set_index('feature', inplace=True)\n",
    "        # Plot using Pandas plot which uses pyplot\n",
    "        print(\"\\nFeature Importances:\")\n",
    "        plt.figure() # clears any exiting plot\n",
    "        plt_ = f.plot(kind='barh', figsize=(8, 10), fontsize=14)\n",
    "        plt_.set_ylabel(\"Features\", fontname=\"Arial\", fontsize=14)\n",
    "        plt.figure() # Forces immediate display and clears plot\n",
    "        plt.show()"
   ]
  },
  {
   "cell_type": "code",
   "execution_count": null,
   "metadata": {
    "id": "6wLhDLIYk1we"
   },
   "outputs": [],
   "source": [
    "    def display_metrics(dt, X, y):\n",
    "        if len(dt.classes_) == 2:\n",
    "            numpy_y = y\n",
    "            if type(numpy_y[0])==str:\n",
    "                classes_ = dt.classes_\n",
    "            else:\n",
    "                classes_ = [str(int(dt.classes_[0])), str(int(dt.classes_[1]))]\n",
    "            z = np.zeros(len(y))\n",
    "            predictions = dt.predict(X) # get binary class predictions\n",
    "            conf_mat = metrics.confusion_matrix(y_true=y, y_pred=predictions)\n",
    "            tmisc = conf_mat[0][1]+conf_mat[1][0]\n",
    "            misc = 100*(tmisc)/(len(y))\n",
    "            for i in range(len(y)):\n",
    "                if numpy_y[i] == 1:\n",
    "                    z[i] = 1\n",
    "            probability = dt.predict_proba(X) # get binary probabilities\n",
    "            #probability = dt.predict_proba(X)\n",
    "            print(\"\\nModel Metrics\")\n",
    "            print(\"{:.<27s}{:10d}\".format('Observations', X.shape[0]))\n",
    "            print(\"{:.<27s}{:10d}\".format('Features', X.shape[1]))\n",
    "            if dt.max_depth==None:\n",
    "                print(\"{:.<27s}{:>10s}\".format('Maximum Tree Depth',\\\n",
    "                                  \"None\"))\n",
    "            else:\n",
    "                print(\"{:.<27s}{:10d}\".format('Maximum Tree Depth',\\\n",
    "                                  dt.max_depth))\n",
    "            print(\"{:.<27s}{:10d}\".format('Minimum Leaf Size', \\\n",
    "                                  dt.min_samples_leaf))\n",
    "            print(\"{:.<27s}{:10d}\".format('Minimum split Size', \\\n",
    "                                  dt.min_samples_split))\n",
    "            print(\"{:.<27s}{:10.4f}\".format('Mean Absolute Error', \\\n",
    "                          mean_absolute_error(z,probability[:, 1])))\n",
    "            print(\"{:.<27s}{:10.4f}\".format('Avg Squared Error', \\\n",
    "                          mean_squared_error(z,probability[:, 1])))\n",
    "            acc = accuracy_score(y, predictions)\n",
    "            print(\"{:.<27s}{:10.4f}\".format('Accuracy', acc))\n",
    "            if type(numpy_y[0]) == str:\n",
    "                pre  = precision_score(y, predictions, pos_label=classes_[1])\n",
    "                tpr  = recall_score(y, predictions, pos_label=classes_[1])\n",
    "                tpr0 = recall_score(y, predictions, pos_label=classes_[0])\n",
    "                f1   =  f1_score(y,predictions, pos_label=classes_[1])\n",
    "            else:\n",
    "                pre  = precision_score(y, predictions)\n",
    "                tpr  = recall_score(y, predictions)\n",
    "                tpr0 = recall_score(y, predictions, pos_label=0)\n",
    "                f1   =  f1_score(y,predictions)\n",
    "            print(\"{:.<27s}{:10.4f}\".format('Precision', pre))\n",
    "            print(\"{:.<27s}{:10.4f}\".format('Recall (Sensitivity)', tpr))\n",
    "            print(\"{:.<27s}{:10.4f}\".format('Specificity', tpr0))\n",
    "            print(\"{:.<27s}{:10.4f}\".format('F1-Score', f1))\n",
    "            print(\"{:.<27s}{:10d}\".format(\\\n",
    "                    'Total Misclassifications', tmisc))\n",
    "            print(\"{:.<27s}{:9.1f}{:s}\".format(\\\n",
    "                    'MISC (Misclassification)', misc, '%'))\n",
    "            n_    = [conf_mat[0][0]+conf_mat[0][1], conf_mat[1][0]+conf_mat[1][1]]\n",
    "            miscc = [100*conf_mat[0][1]/n_[0], 100*conf_mat[1][0]/n_[1]]\n",
    "            for i in range(2):\n",
    "                print(\"{:s}{:<16s}{:>9.1f}{:<1s}\".format(\\\n",
    "                      '     class ', classes_[i], miscc[i], '%'))\n",
    "            print(\"\\n\\n     Confusion     Class     Class\")\n",
    "            print(\"       Matrix\", end=\"\")\n",
    "            print(\"{:1s}{:>10s}{:>10s}\".format(\" \", classes_[0], classes_[1]))\n",
    "            \n",
    "            for i in range(2):\n",
    "                print(\"{:s}{:.<6s}\".format('  Class ', classes_[i]), end=\"\")\n",
    "                for j in range(2):\n",
    "                    print(\"{:>10d}\".format(conf_mat[i][j]), end=\"\")\n",
    "                print(\"\")\n",
    "            print(\"\")\n",
    "        \n",
    "        else:\n",
    "            n_classes = len(dt.classes_)\n",
    "            n_obs     = len(y)\n",
    "            try:\n",
    "                if n_classes < 2:\n",
    "                    raise RuntimeError(\"  Call to display_nominal_metrics \"+\n",
    "                      \"invalid.\\n  Target has less than two classes.\\n\")\n",
    "                    sys.exit()\n",
    "            except:\n",
    "                raise RuntimeError(\"  Call to display_nominal_metrics \"+\n",
    "                      \"invalid.\\n  Target has less than two classes.\\n\")\n",
    "                sys.exit()\n",
    "    \n",
    "            np_y = np.ravel(y)\n",
    "            classes_ = [\" \"]*len(dt.classes_)\n",
    "            if type(np_y[0])==str:\n",
    "                classes_ = dt.classes_\n",
    "            else:\n",
    "                for i in range(len(dt.classes_)):\n",
    "                    classes_[i] = str(int(dt.classes_[i]))\n",
    "            probability = dt.predict_proba(X) # get class probabilitie\n",
    "            predictions = dt.predict(X) # get nominal class predictions\n",
    "            conf_mat = metrics.confusion_matrix(y_true=y, y_pred=predictions)\n",
    "            misc  = 0\n",
    "            miscc = []\n",
    "            n_    = []\n",
    "            for i in range(n_classes):\n",
    "                miscc.append(0)\n",
    "                n_.append(0)\n",
    "                for j in range(n_classes):\n",
    "                    n_[i] = n_[i] + conf_mat[i][j]\n",
    "                    if i != j:\n",
    "                        misc = misc + conf_mat[i][j]\n",
    "                        miscc[i] = miscc[i] + conf_mat[i][j]\n",
    "                miscc[i] = 100*miscc[i]/n_[i]\n",
    "            tmisc    = misc\n",
    "            misc     = 100*misc/n_obs\n",
    "            ase_sum  = 0\n",
    "            mase_sum = 0\n",
    "            for i in range(n_obs):\n",
    "                for j in range(n_classes):\n",
    "                    if np_y[i] == dt.classes_[j]:\n",
    "                        ase_sum  += (1-probability[i,j])*(1-probability[i,j])\n",
    "                        mase_sum += 1-probability[i,j]\n",
    "                    else:\n",
    "                        ase_sum  += probability[i,j]*probability[i,j]\n",
    "                        mase_sum += probability[i,j]\n",
    "            ase  = ase_sum/(n_classes*n_obs)\n",
    "            mase = mase_sum/(n_classes*n_obs)\n",
    "            print(\"\\nModel Metrics\")\n",
    "            print(\"{:.<27s}{:10d}\".format('Observations', X.shape[0]))\n",
    "            print(\"{:.<27s}{:10d}\".format('Features', X.shape[1]))\n",
    "            if type(dt) == RandomForestClassifier:\n",
    "                print(\"{:.<27s}{:10d}\".format('Trees in Forest', \\\n",
    "                                  dt.n_estimators))\n",
    "            if dt.max_depth==None:\n",
    "                print(\"{:.<27s}{:>10s}\".format('Maximum Tree Depth',\\\n",
    "                                  \"None\"))\n",
    "            else:\n",
    "                print(\"{:.<27s}{:10d}\".format('Maximum Tree Depth',\\\n",
    "                                  dt.max_depth))\n",
    "            print(\"{:.<27s}{:10d}\".format('Minimum Leaf Size', \\\n",
    "                                  dt.min_samples_leaf))\n",
    "            print(\"{:.<27s}{:10d}\".format('Minimum split Size', \\\n",
    "                                  dt.min_samples_split))\n",
    "            \n",
    "            print(\"{:.<27s}{:10.4f}\".format('ASE', ase))\n",
    "            print(\"{:.<27s}{:10.4f}\".format('Root ASE', sqrt(ase)))\n",
    "            print(\"{:.<27s}{:10.4f}\".format('Mean Absolute Error', mase))\n",
    "            acc = accuracy_score(np_y, predictions)\n",
    "            print(\"{:.<27s}{:10.4f}\".format('Accuracy', acc))\n",
    "            pre = precision_score(np_y, predictions, average='macro')\n",
    "            print(\"{:.<27s}{:10.4f}\".format('Precision', pre))\n",
    "            tpr = recall_score(np_y, predictions, average='macro')\n",
    "            print(\"{:.<27s}{:10.4f}\".format('Recall (Sensitivity)', tpr))\n",
    "            f1 =  f1_score(np_y,predictions, average='macro')\n",
    "            print(\"{:.<27s}{:10.4f}\".format('F1-Score', f1))\n",
    "            print(\"{:.<27s}{:10d}\".format(\\\n",
    "                    'Total Misclassifications', tmisc))\n",
    "            print(\"{:.<27s}{:9.1f}{:s}\".format(\\\n",
    "                    'MISC (Misclassification)', misc, '%'))\n",
    "            \n",
    "            if type(dt.classes_[0]) == str:\n",
    "                fstr = \"{:s}{:.<16s}{:>9.1f}{:<1s}\"\n",
    "            else:\n",
    "                fstr = \"{:s}{:.<16.0f}{:>9.1f}{:<1s}\"\n",
    "            for i in range(len(dt.classes_)):\n",
    "                print(fstr.format(\\\n",
    "                      '     class ', dt.classes_[i], miscc[i], '%'))      \n",
    "                \n",
    "            print(\"\\n\\n     Confusion\")\n",
    "            print(\"       Matrix    \", end=\"\")\n",
    "            \n",
    "            fstr1 = \"{:>7s}{:<3.0f}\"\n",
    "            if type(dt.classes_[0]) == str:\n",
    "                fstr2 = \"{:.<15s}\"\n",
    "            else:\n",
    "                fstr2 = \"{:s}{:.<6.0f}\"\n",
    "            for i in range(n_classes):\n",
    "                if type(dt.classes_[0]) == str:\n",
    "                    print(fstr1.format('Class ', i), end=\"\")\n",
    "                else:\n",
    "                    print(fstr1.format('Class ', dt.classes_[i]), end=\"\")\n",
    "                    \n",
    "            print(\"\")\n",
    "            for i in range(n_classes):\n",
    "                if type(dt.classes_[0]) == str:\n",
    "                    print(fstr2.format(str(i)+\" \"+dt.classes_[i]), end=\"\")\n",
    "                else:\n",
    "                    print(fstr2.format('Class ', dt.classes_[i]), end=\"\")\n",
    "                    \n",
    "                for j in range(n_classes):\n",
    "                    print(\"{:>10d}\".format(conf_mat[i][j]), end=\"\")\n",
    "                print(\"\")\n",
    "            print(\"\")\n",
    "            \n",
    "            cr = classification_report(np_y, predictions, dt.classes_)\n",
    "            print(\"\\n\",cr)"
   ]
  },
  {
   "cell_type": "markdown",
   "metadata": {
    "id": "yMwuSVJFye-u"
   },
   "source": [
    "Load Train Data"
   ]
  },
  {
   "cell_type": "code",
   "execution_count": 618,
   "metadata": {
    "colab": {
     "base_uri": "https://localhost:8080/",
     "height": 397
    },
    "id": "nemiZrC62kno",
    "outputId": "77fd8f4f-dc63-4da0-890e-1b05da74fbee"
   },
   "outputs": [
    {
     "data": {
      "text/html": [
       "<div>\n",
       "<style scoped>\n",
       "    .dataframe tbody tr th:only-of-type {\n",
       "        vertical-align: middle;\n",
       "    }\n",
       "\n",
       "    .dataframe tbody tr th {\n",
       "        vertical-align: top;\n",
       "    }\n",
       "\n",
       "    .dataframe thead th {\n",
       "        text-align: right;\n",
       "    }\n",
       "</style>\n",
       "<table border=\"1\" class=\"dataframe\">\n",
       "  <thead>\n",
       "    <tr style=\"text-align: right;\">\n",
       "      <th></th>\n",
       "      <th>x1</th>\n",
       "      <th>x2</th>\n",
       "      <th>x3</th>\n",
       "      <th>x4</th>\n",
       "      <th>x5</th>\n",
       "      <th>x6</th>\n",
       "      <th>x7</th>\n",
       "      <th>x8</th>\n",
       "      <th>x9</th>\n",
       "      <th>x10</th>\n",
       "      <th>x11</th>\n",
       "      <th>x12</th>\n",
       "      <th>x13</th>\n",
       "      <th>x14</th>\n",
       "      <th>x15</th>\n",
       "      <th>x16</th>\n",
       "      <th>x17</th>\n",
       "      <th>x18</th>\n",
       "      <th>x19</th>\n",
       "      <th>x20</th>\n",
       "      <th>x21</th>\n",
       "      <th>x22</th>\n",
       "      <th>x23</th>\n",
       "      <th>x24</th>\n",
       "      <th>x25</th>\n",
       "      <th>x26</th>\n",
       "      <th>x27</th>\n",
       "      <th>x28</th>\n",
       "      <th>x29</th>\n",
       "      <th>x30</th>\n",
       "      <th>x31</th>\n",
       "      <th>x32</th>\n",
       "      <th>x33</th>\n",
       "      <th>x34</th>\n",
       "      <th>x35</th>\n",
       "      <th>x36</th>\n",
       "      <th>x37</th>\n",
       "      <th>x38</th>\n",
       "      <th>x39</th>\n",
       "      <th>x40</th>\n",
       "      <th>...</th>\n",
       "      <th>z185</th>\n",
       "      <th>z186</th>\n",
       "      <th>z187</th>\n",
       "      <th>z188</th>\n",
       "      <th>z189</th>\n",
       "      <th>z190</th>\n",
       "      <th>z191</th>\n",
       "      <th>z192</th>\n",
       "      <th>z193</th>\n",
       "      <th>z194</th>\n",
       "      <th>z195</th>\n",
       "      <th>z196</th>\n",
       "      <th>z197</th>\n",
       "      <th>z198</th>\n",
       "      <th>z199</th>\n",
       "      <th>z200</th>\n",
       "      <th>z201</th>\n",
       "      <th>z202</th>\n",
       "      <th>z203</th>\n",
       "      <th>z204</th>\n",
       "      <th>z205</th>\n",
       "      <th>z206</th>\n",
       "      <th>z207</th>\n",
       "      <th>z208</th>\n",
       "      <th>z209</th>\n",
       "      <th>z210</th>\n",
       "      <th>z211</th>\n",
       "      <th>z212</th>\n",
       "      <th>z213</th>\n",
       "      <th>z214</th>\n",
       "      <th>z215</th>\n",
       "      <th>z216</th>\n",
       "      <th>z217</th>\n",
       "      <th>z218</th>\n",
       "      <th>z219</th>\n",
       "      <th>z220</th>\n",
       "      <th>z221</th>\n",
       "      <th>z222</th>\n",
       "      <th>phase</th>\n",
       "      <th>output</th>\n",
       "    </tr>\n",
       "  </thead>\n",
       "  <tbody>\n",
       "    <tr>\n",
       "      <th>count</th>\n",
       "      <td>4584.0</td>\n",
       "      <td>4584.000000</td>\n",
       "      <td>4584.000000</td>\n",
       "      <td>4584.000000</td>\n",
       "      <td>4584.000000</td>\n",
       "      <td>4584.000000</td>\n",
       "      <td>4584.000000</td>\n",
       "      <td>4584.000000</td>\n",
       "      <td>4584.000000</td>\n",
       "      <td>4584.000000</td>\n",
       "      <td>4.584000e+03</td>\n",
       "      <td>4584.000000</td>\n",
       "      <td>4584.000000</td>\n",
       "      <td>4584.0</td>\n",
       "      <td>4584.000000</td>\n",
       "      <td>4584.000000</td>\n",
       "      <td>4584.000000</td>\n",
       "      <td>4584.000000</td>\n",
       "      <td>4584.000000</td>\n",
       "      <td>4584.000000</td>\n",
       "      <td>4584.000000</td>\n",
       "      <td>4584.000000</td>\n",
       "      <td>4584.000000</td>\n",
       "      <td>4584.000000</td>\n",
       "      <td>4584.000000</td>\n",
       "      <td>4584.000000</td>\n",
       "      <td>4584.000000</td>\n",
       "      <td>4584.000000</td>\n",
       "      <td>4584.000000</td>\n",
       "      <td>4584.000000</td>\n",
       "      <td>4584.000000</td>\n",
       "      <td>4584.000000</td>\n",
       "      <td>4584.000000</td>\n",
       "      <td>4584.000000</td>\n",
       "      <td>4584.000000</td>\n",
       "      <td>4584.000000</td>\n",
       "      <td>4584.000000</td>\n",
       "      <td>4584.000000</td>\n",
       "      <td>4584.0</td>\n",
       "      <td>4584.000000</td>\n",
       "      <td>...</td>\n",
       "      <td>4584.000000</td>\n",
       "      <td>4584.000000</td>\n",
       "      <td>4584.000000</td>\n",
       "      <td>4584.000000</td>\n",
       "      <td>4584.000000</td>\n",
       "      <td>4584.000000</td>\n",
       "      <td>4584.000000</td>\n",
       "      <td>4584.000000</td>\n",
       "      <td>4584.000000</td>\n",
       "      <td>4584.000000</td>\n",
       "      <td>4584.000000</td>\n",
       "      <td>4584.000000</td>\n",
       "      <td>4584.000000</td>\n",
       "      <td>4584.000000</td>\n",
       "      <td>4584.000000</td>\n",
       "      <td>4584.000000</td>\n",
       "      <td>4584.000000</td>\n",
       "      <td>4584.000000</td>\n",
       "      <td>4584.000000</td>\n",
       "      <td>4584.000000</td>\n",
       "      <td>4584.000000</td>\n",
       "      <td>4584.000000</td>\n",
       "      <td>4584.000000</td>\n",
       "      <td>4584.000000</td>\n",
       "      <td>4584.000000</td>\n",
       "      <td>4584.000000</td>\n",
       "      <td>4584.000000</td>\n",
       "      <td>4584.000000</td>\n",
       "      <td>4584.000000</td>\n",
       "      <td>4584.000000</td>\n",
       "      <td>4584.000000</td>\n",
       "      <td>4584.000000</td>\n",
       "      <td>4584.000000</td>\n",
       "      <td>4584.000000</td>\n",
       "      <td>4584.000000</td>\n",
       "      <td>4584.000000</td>\n",
       "      <td>4584.000000</td>\n",
       "      <td>4584.000000</td>\n",
       "      <td>4584.000000</td>\n",
       "      <td>4584.000000</td>\n",
       "    </tr>\n",
       "    <tr>\n",
       "      <th>mean</th>\n",
       "      <td>0.0</td>\n",
       "      <td>0.000218</td>\n",
       "      <td>0.000218</td>\n",
       "      <td>0.625436</td>\n",
       "      <td>-270.199043</td>\n",
       "      <td>1.801323</td>\n",
       "      <td>-4.654634</td>\n",
       "      <td>253.735831</td>\n",
       "      <td>0.021039</td>\n",
       "      <td>-0.000004</td>\n",
       "      <td>7.860448e-07</td>\n",
       "      <td>-0.673253</td>\n",
       "      <td>-0.673813</td>\n",
       "      <td>401.0</td>\n",
       "      <td>0.065934</td>\n",
       "      <td>0.011565</td>\n",
       "      <td>-0.145060</td>\n",
       "      <td>2.449079</td>\n",
       "      <td>8.415797</td>\n",
       "      <td>48.366928</td>\n",
       "      <td>51.562827</td>\n",
       "      <td>201.363002</td>\n",
       "      <td>199.636998</td>\n",
       "      <td>0.505406</td>\n",
       "      <td>0.502785</td>\n",
       "      <td>0.498281</td>\n",
       "      <td>0.495787</td>\n",
       "      <td>0.005038</td>\n",
       "      <td>0.010695</td>\n",
       "      <td>-1.200341</td>\n",
       "      <td>-2.574862</td>\n",
       "      <td>0.994234</td>\n",
       "      <td>1.978907</td>\n",
       "      <td>-0.498975</td>\n",
       "      <td>-0.880011</td>\n",
       "      <td>0.003660</td>\n",
       "      <td>0.004529</td>\n",
       "      <td>0.003276</td>\n",
       "      <td>1.0</td>\n",
       "      <td>0.998909</td>\n",
       "      <td>...</td>\n",
       "      <td>-0.001722</td>\n",
       "      <td>0.019543</td>\n",
       "      <td>0.091861</td>\n",
       "      <td>0.103333</td>\n",
       "      <td>-0.000881</td>\n",
       "      <td>0.012746</td>\n",
       "      <td>0.088951</td>\n",
       "      <td>0.109739</td>\n",
       "      <td>0.000245</td>\n",
       "      <td>0.007745</td>\n",
       "      <td>0.084676</td>\n",
       "      <td>0.115435</td>\n",
       "      <td>0.000771</td>\n",
       "      <td>0.004310</td>\n",
       "      <td>0.079328</td>\n",
       "      <td>0.120402</td>\n",
       "      <td>0.378132</td>\n",
       "      <td>0.045943</td>\n",
       "      <td>0.038567</td>\n",
       "      <td>0.035548</td>\n",
       "      <td>0.883565</td>\n",
       "      <td>-0.320608</td>\n",
       "      <td>0.176541</td>\n",
       "      <td>0.008742</td>\n",
       "      <td>1.029528</td>\n",
       "      <td>0.005900</td>\n",
       "      <td>-0.000527</td>\n",
       "      <td>0.000846</td>\n",
       "      <td>-0.000890</td>\n",
       "      <td>-0.002341</td>\n",
       "      <td>-0.001628</td>\n",
       "      <td>0.001754</td>\n",
       "      <td>0.001374</td>\n",
       "      <td>0.001404</td>\n",
       "      <td>-57.916190</td>\n",
       "      <td>96.554052</td>\n",
       "      <td>-52.630948</td>\n",
       "      <td>28.735112</td>\n",
       "      <td>2.519634</td>\n",
       "      <td>0.844895</td>\n",
       "    </tr>\n",
       "    <tr>\n",
       "      <th>std</th>\n",
       "      <td>0.0</td>\n",
       "      <td>0.014770</td>\n",
       "      <td>0.014770</td>\n",
       "      <td>0.484063</td>\n",
       "      <td>163.971643</td>\n",
       "      <td>1.143173</td>\n",
       "      <td>3.714967</td>\n",
       "      <td>147.405918</td>\n",
       "      <td>0.026384</td>\n",
       "      <td>0.000472</td>\n",
       "      <td>1.003973e-04</td>\n",
       "      <td>0.410731</td>\n",
       "      <td>0.408907</td>\n",
       "      <td>0.0</td>\n",
       "      <td>0.084968</td>\n",
       "      <td>0.034136</td>\n",
       "      <td>0.970844</td>\n",
       "      <td>7.736657</td>\n",
       "      <td>10.553403</td>\n",
       "      <td>51.504836</td>\n",
       "      <td>50.388406</td>\n",
       "      <td>30.443159</td>\n",
       "      <td>30.443159</td>\n",
       "      <td>0.307467</td>\n",
       "      <td>0.307420</td>\n",
       "      <td>0.312939</td>\n",
       "      <td>0.312939</td>\n",
       "      <td>0.008616</td>\n",
       "      <td>0.017431</td>\n",
       "      <td>2.488225</td>\n",
       "      <td>5.303437</td>\n",
       "      <td>0.009383</td>\n",
       "      <td>0.266208</td>\n",
       "      <td>0.451910</td>\n",
       "      <td>0.497151</td>\n",
       "      <td>0.015019</td>\n",
       "      <td>0.023055</td>\n",
       "      <td>0.023537</td>\n",
       "      <td>0.0</td>\n",
       "      <td>0.033012</td>\n",
       "      <td>...</td>\n",
       "      <td>0.080801</td>\n",
       "      <td>0.234080</td>\n",
       "      <td>0.879742</td>\n",
       "      <td>0.999683</td>\n",
       "      <td>0.075878</td>\n",
       "      <td>0.185141</td>\n",
       "      <td>0.856201</td>\n",
       "      <td>1.056164</td>\n",
       "      <td>0.068907</td>\n",
       "      <td>0.153782</td>\n",
       "      <td>0.819768</td>\n",
       "      <td>1.106119</td>\n",
       "      <td>0.072094</td>\n",
       "      <td>0.136196</td>\n",
       "      <td>0.773061</td>\n",
       "      <td>1.149342</td>\n",
       "      <td>1.368749</td>\n",
       "      <td>0.173770</td>\n",
       "      <td>0.225859</td>\n",
       "      <td>0.215712</td>\n",
       "      <td>0.401590</td>\n",
       "      <td>0.377781</td>\n",
       "      <td>0.208049</td>\n",
       "      <td>0.152648</td>\n",
       "      <td>9.424620</td>\n",
       "      <td>0.303462</td>\n",
       "      <td>0.226518</td>\n",
       "      <td>0.176635</td>\n",
       "      <td>0.151178</td>\n",
       "      <td>0.118343</td>\n",
       "      <td>0.099405</td>\n",
       "      <td>0.070156</td>\n",
       "      <td>0.078443</td>\n",
       "      <td>0.091211</td>\n",
       "      <td>243.742549</td>\n",
       "      <td>597.912778</td>\n",
       "      <td>599.208382</td>\n",
       "      <td>217.842477</td>\n",
       "      <td>1.158998</td>\n",
       "      <td>0.362044</td>\n",
       "    </tr>\n",
       "    <tr>\n",
       "      <th>min</th>\n",
       "      <td>0.0</td>\n",
       "      <td>0.000000</td>\n",
       "      <td>0.000000</td>\n",
       "      <td>0.000000</td>\n",
       "      <td>-474.588020</td>\n",
       "      <td>-0.237454</td>\n",
       "      <td>-19.295360</td>\n",
       "      <td>0.026692</td>\n",
       "      <td>0.005007</td>\n",
       "      <td>-0.004008</td>\n",
       "      <td>-1.403825e-03</td>\n",
       "      <td>-1.186501</td>\n",
       "      <td>-1.183511</td>\n",
       "      <td>401.0</td>\n",
       "      <td>0.005132</td>\n",
       "      <td>0.000026</td>\n",
       "      <td>-10.873812</td>\n",
       "      <td>-1.895961</td>\n",
       "      <td>2.002909</td>\n",
       "      <td>5.000000</td>\n",
       "      <td>6.000000</td>\n",
       "      <td>59.000000</td>\n",
       "      <td>54.000000</td>\n",
       "      <td>0.002494</td>\n",
       "      <td>0.000000</td>\n",
       "      <td>0.002494</td>\n",
       "      <td>0.000000</td>\n",
       "      <td>0.000000</td>\n",
       "      <td>0.000000</td>\n",
       "      <td>-34.268626</td>\n",
       "      <td>-71.651789</td>\n",
       "      <td>0.897756</td>\n",
       "      <td>0.369042</td>\n",
       "      <td>-1.142077</td>\n",
       "      <td>-2.227640</td>\n",
       "      <td>-0.028452</td>\n",
       "      <td>-0.052804</td>\n",
       "      <td>-0.071405</td>\n",
       "      <td>1.0</td>\n",
       "      <td>0.000000</td>\n",
       "      <td>...</td>\n",
       "      <td>-1.466428</td>\n",
       "      <td>-1.830944</td>\n",
       "      <td>-2.914010</td>\n",
       "      <td>-3.855927</td>\n",
       "      <td>-1.190867</td>\n",
       "      <td>-1.715698</td>\n",
       "      <td>-2.884024</td>\n",
       "      <td>-3.994357</td>\n",
       "      <td>-0.749181</td>\n",
       "      <td>-1.416121</td>\n",
       "      <td>-2.809086</td>\n",
       "      <td>-4.114182</td>\n",
       "      <td>-1.038215</td>\n",
       "      <td>-1.437065</td>\n",
       "      <td>-2.693310</td>\n",
       "      <td>-4.214760</td>\n",
       "      <td>0.000002</td>\n",
       "      <td>0.000005</td>\n",
       "      <td>0.000003</td>\n",
       "      <td>-1.355065</td>\n",
       "      <td>-0.186746</td>\n",
       "      <td>-1.919535</td>\n",
       "      <td>-0.652350</td>\n",
       "      <td>-0.902451</td>\n",
       "      <td>-23.927539</td>\n",
       "      <td>-2.431573</td>\n",
       "      <td>-2.710044</td>\n",
       "      <td>-2.969042</td>\n",
       "      <td>-3.579157</td>\n",
       "      <td>-3.758199</td>\n",
       "      <td>-3.805788</td>\n",
       "      <td>-0.999448</td>\n",
       "      <td>-1.886137</td>\n",
       "      <td>-1.264762</td>\n",
       "      <td>-2182.646032</td>\n",
       "      <td>-6674.270678</td>\n",
       "      <td>-8311.046315</td>\n",
       "      <td>-3671.954955</td>\n",
       "      <td>1.000000</td>\n",
       "      <td>0.000000</td>\n",
       "    </tr>\n",
       "    <tr>\n",
       "      <th>25%</th>\n",
       "      <td>0.0</td>\n",
       "      <td>0.000000</td>\n",
       "      <td>0.000000</td>\n",
       "      <td>0.000000</td>\n",
       "      <td>-383.328439</td>\n",
       "      <td>0.815996</td>\n",
       "      <td>-6.708809</td>\n",
       "      <td>108.809493</td>\n",
       "      <td>0.007504</td>\n",
       "      <td>-0.000081</td>\n",
       "      <td>-1.830000e-05</td>\n",
       "      <td>-0.953787</td>\n",
       "      <td>-0.955931</td>\n",
       "      <td>401.0</td>\n",
       "      <td>0.013603</td>\n",
       "      <td>0.000185</td>\n",
       "      <td>-0.573949</td>\n",
       "      <td>-0.196140</td>\n",
       "      <td>3.001755</td>\n",
       "      <td>14.000000</td>\n",
       "      <td>17.000000</td>\n",
       "      <td>188.000000</td>\n",
       "      <td>186.000000</td>\n",
       "      <td>0.226933</td>\n",
       "      <td>0.224439</td>\n",
       "      <td>0.216334</td>\n",
       "      <td>0.213840</td>\n",
       "      <td>0.000000</td>\n",
       "      <td>0.000000</td>\n",
       "      <td>-1.746096</td>\n",
       "      <td>-3.598217</td>\n",
       "      <td>0.992519</td>\n",
       "      <td>1.890822</td>\n",
       "      <td>-0.832918</td>\n",
       "      <td>-1.130523</td>\n",
       "      <td>0.000002</td>\n",
       "      <td>-0.000028</td>\n",
       "      <td>-0.000222</td>\n",
       "      <td>1.0</td>\n",
       "      <td>1.000000</td>\n",
       "      <td>...</td>\n",
       "      <td>-0.011503</td>\n",
       "      <td>-0.132089</td>\n",
       "      <td>-0.483361</td>\n",
       "      <td>-0.558598</td>\n",
       "      <td>-0.011419</td>\n",
       "      <td>-0.097753</td>\n",
       "      <td>-0.475181</td>\n",
       "      <td>-0.586953</td>\n",
       "      <td>-0.010807</td>\n",
       "      <td>-0.070722</td>\n",
       "      <td>-0.463067</td>\n",
       "      <td>-0.615519</td>\n",
       "      <td>-0.011193</td>\n",
       "      <td>-0.050641</td>\n",
       "      <td>-0.437879</td>\n",
       "      <td>-0.643117</td>\n",
       "      <td>0.005314</td>\n",
       "      <td>0.000653</td>\n",
       "      <td>0.000308</td>\n",
       "      <td>-0.007051</td>\n",
       "      <td>0.552857</td>\n",
       "      <td>-0.536561</td>\n",
       "      <td>0.042894</td>\n",
       "      <td>-0.060843</td>\n",
       "      <td>-5.095319</td>\n",
       "      <td>-0.043907</td>\n",
       "      <td>-0.037979</td>\n",
       "      <td>-0.034356</td>\n",
       "      <td>-0.028027</td>\n",
       "      <td>-0.025305</td>\n",
       "      <td>-0.022183</td>\n",
       "      <td>-0.018118</td>\n",
       "      <td>-0.017379</td>\n",
       "      <td>-0.021389</td>\n",
       "      <td>-31.817506</td>\n",
       "      <td>-1.715924</td>\n",
       "      <td>-11.180312</td>\n",
       "      <td>-0.050475</td>\n",
       "      <td>1.000000</td>\n",
       "      <td>1.000000</td>\n",
       "    </tr>\n",
       "    <tr>\n",
       "      <th>50%</th>\n",
       "      <td>0.0</td>\n",
       "      <td>0.000000</td>\n",
       "      <td>0.000000</td>\n",
       "      <td>1.000000</td>\n",
       "      <td>-351.317222</td>\n",
       "      <td>1.578367</td>\n",
       "      <td>-3.324030</td>\n",
       "      <td>313.157669</td>\n",
       "      <td>0.011282</td>\n",
       "      <td>0.000003</td>\n",
       "      <td>-4.695000e-07</td>\n",
       "      <td>-0.878900</td>\n",
       "      <td>-0.876103</td>\n",
       "      <td>401.0</td>\n",
       "      <td>0.032272</td>\n",
       "      <td>0.001041</td>\n",
       "      <td>-0.067315</td>\n",
       "      <td>0.515831</td>\n",
       "      <td>4.512882</td>\n",
       "      <td>27.000000</td>\n",
       "      <td>33.000000</td>\n",
       "      <td>201.000000</td>\n",
       "      <td>200.000000</td>\n",
       "      <td>0.511222</td>\n",
       "      <td>0.507481</td>\n",
       "      <td>0.493766</td>\n",
       "      <td>0.491272</td>\n",
       "      <td>0.002500</td>\n",
       "      <td>0.004988</td>\n",
       "      <td>-0.466775</td>\n",
       "      <td>-0.977110</td>\n",
       "      <td>0.997506</td>\n",
       "      <td>2.078146</td>\n",
       "      <td>-0.652700</td>\n",
       "      <td>-0.986582</td>\n",
       "      <td>0.000147</td>\n",
       "      <td>0.000100</td>\n",
       "      <td>0.000020</td>\n",
       "      <td>1.0</td>\n",
       "      <td>1.000000</td>\n",
       "      <td>...</td>\n",
       "      <td>0.000331</td>\n",
       "      <td>0.032802</td>\n",
       "      <td>0.116573</td>\n",
       "      <td>0.148684</td>\n",
       "      <td>0.000240</td>\n",
       "      <td>0.027602</td>\n",
       "      <td>0.115674</td>\n",
       "      <td>0.155795</td>\n",
       "      <td>0.000613</td>\n",
       "      <td>0.019391</td>\n",
       "      <td>0.115908</td>\n",
       "      <td>0.165078</td>\n",
       "      <td>0.000391</td>\n",
       "      <td>0.012517</td>\n",
       "      <td>0.111055</td>\n",
       "      <td>0.170932</td>\n",
       "      <td>0.047010</td>\n",
       "      <td>0.005822</td>\n",
       "      <td>0.001903</td>\n",
       "      <td>0.001793</td>\n",
       "      <td>0.873398</td>\n",
       "      <td>-0.199564</td>\n",
       "      <td>0.134708</td>\n",
       "      <td>0.024752</td>\n",
       "      <td>1.236051</td>\n",
       "      <td>-0.000582</td>\n",
       "      <td>-0.001978</td>\n",
       "      <td>-0.000011</td>\n",
       "      <td>-0.000039</td>\n",
       "      <td>-0.001262</td>\n",
       "      <td>-0.000383</td>\n",
       "      <td>0.000673</td>\n",
       "      <td>0.000374</td>\n",
       "      <td>0.000507</td>\n",
       "      <td>-2.919292</td>\n",
       "      <td>0.098110</td>\n",
       "      <td>-0.492411</td>\n",
       "      <td>0.001721</td>\n",
       "      <td>3.000000</td>\n",
       "      <td>1.000000</td>\n",
       "    </tr>\n",
       "    <tr>\n",
       "      <th>75%</th>\n",
       "      <td>0.0</td>\n",
       "      <td>0.000000</td>\n",
       "      <td>0.000000</td>\n",
       "      <td>1.000000</td>\n",
       "      <td>-177.051209</td>\n",
       "      <td>2.741501</td>\n",
       "      <td>-2.027700</td>\n",
       "      <td>370.832095</td>\n",
       "      <td>0.021861</td>\n",
       "      <td>0.000083</td>\n",
       "      <td>1.680000e-05</td>\n",
       "      <td>-0.438429</td>\n",
       "      <td>-0.441524</td>\n",
       "      <td>401.0</td>\n",
       "      <td>0.080450</td>\n",
       "      <td>0.006472</td>\n",
       "      <td>0.288371</td>\n",
       "      <td>2.290317</td>\n",
       "      <td>8.744414</td>\n",
       "      <td>62.000000</td>\n",
       "      <td>68.000000</td>\n",
       "      <td>215.000000</td>\n",
       "      <td>213.000000</td>\n",
       "      <td>0.780549</td>\n",
       "      <td>0.778055</td>\n",
       "      <td>0.783042</td>\n",
       "      <td>0.780549</td>\n",
       "      <td>0.007538</td>\n",
       "      <td>0.014963</td>\n",
       "      <td>0.000000</td>\n",
       "      <td>0.000000</td>\n",
       "      <td>1.000000</td>\n",
       "      <td>2.162606</td>\n",
       "      <td>-0.273427</td>\n",
       "      <td>-0.596573</td>\n",
       "      <td>0.001184</td>\n",
       "      <td>0.001249</td>\n",
       "      <td>0.000739</td>\n",
       "      <td>1.0</td>\n",
       "      <td>1.000000</td>\n",
       "      <td>...</td>\n",
       "      <td>0.011997</td>\n",
       "      <td>0.186050</td>\n",
       "      <td>0.705248</td>\n",
       "      <td>0.805862</td>\n",
       "      <td>0.011415</td>\n",
       "      <td>0.135306</td>\n",
       "      <td>0.686093</td>\n",
       "      <td>0.848968</td>\n",
       "      <td>0.011565</td>\n",
       "      <td>0.096431</td>\n",
       "      <td>0.657642</td>\n",
       "      <td>0.891573</td>\n",
       "      <td>0.011790</td>\n",
       "      <td>0.066072</td>\n",
       "      <td>0.619093</td>\n",
       "      <td>0.926662</td>\n",
       "      <td>0.230666</td>\n",
       "      <td>0.034349</td>\n",
       "      <td>0.012723</td>\n",
       "      <td>0.025651</td>\n",
       "      <td>1.183641</td>\n",
       "      <td>-0.048712</td>\n",
       "      <td>0.266695</td>\n",
       "      <td>0.103179</td>\n",
       "      <td>7.413748</td>\n",
       "      <td>0.042440</td>\n",
       "      <td>0.035776</td>\n",
       "      <td>0.031739</td>\n",
       "      <td>0.028810</td>\n",
       "      <td>0.023123</td>\n",
       "      <td>0.020556</td>\n",
       "      <td>0.020727</td>\n",
       "      <td>0.019355</td>\n",
       "      <td>0.022440</td>\n",
       "      <td>-0.277689</td>\n",
       "      <td>13.684733</td>\n",
       "      <td>-0.032526</td>\n",
       "      <td>0.483496</td>\n",
       "      <td>4.000000</td>\n",
       "      <td>1.000000</td>\n",
       "    </tr>\n",
       "    <tr>\n",
       "      <th>max</th>\n",
       "      <td>0.0</td>\n",
       "      <td>1.000000</td>\n",
       "      <td>1.000000</td>\n",
       "      <td>1.000000</td>\n",
       "      <td>418.085156</td>\n",
       "      <td>4.368496</td>\n",
       "      <td>6.250661</td>\n",
       "      <td>588.309282</td>\n",
       "      <td>0.423408</td>\n",
       "      <td>0.003588</td>\n",
       "      <td>2.879726e-03</td>\n",
       "      <td>1.042790</td>\n",
       "      <td>1.042606</td>\n",
       "      <td>401.0</td>\n",
       "      <td>0.887009</td>\n",
       "      <td>0.786785</td>\n",
       "      <td>7.820058</td>\n",
       "      <td>173.555281</td>\n",
       "      <td>169.363088</td>\n",
       "      <td>334.000000</td>\n",
       "      <td>347.000000</td>\n",
       "      <td>347.000000</td>\n",
       "      <td>342.000000</td>\n",
       "      <td>1.000000</td>\n",
       "      <td>0.997506</td>\n",
       "      <td>1.000000</td>\n",
       "      <td>0.997506</td>\n",
       "      <td>0.102210</td>\n",
       "      <td>0.189526</td>\n",
       "      <td>17.434388</td>\n",
       "      <td>36.523697</td>\n",
       "      <td>1.000000</td>\n",
       "      <td>2.243399</td>\n",
       "      <td>2.229140</td>\n",
       "      <td>1.002523</td>\n",
       "      <td>0.331227</td>\n",
       "      <td>0.587930</td>\n",
       "      <td>0.963447</td>\n",
       "      <td>1.0</td>\n",
       "      <td>1.000000</td>\n",
       "      <td>...</td>\n",
       "      <td>0.631538</td>\n",
       "      <td>1.474071</td>\n",
       "      <td>2.052054</td>\n",
       "      <td>2.387930</td>\n",
       "      <td>0.643300</td>\n",
       "      <td>1.809480</td>\n",
       "      <td>2.047813</td>\n",
       "      <td>2.497545</td>\n",
       "      <td>0.745860</td>\n",
       "      <td>2.019058</td>\n",
       "      <td>2.002571</td>\n",
       "      <td>2.631526</td>\n",
       "      <td>0.890379</td>\n",
       "      <td>2.071163</td>\n",
       "      <td>1.919859</td>\n",
       "      <td>2.752912</td>\n",
       "      <td>33.307364</td>\n",
       "      <td>8.590121</td>\n",
       "      <td>4.687157</td>\n",
       "      <td>1.384252</td>\n",
       "      <td>2.021060</td>\n",
       "      <td>0.525255</td>\n",
       "      <td>1.373544</td>\n",
       "      <td>0.518990</td>\n",
       "      <td>19.021743</td>\n",
       "      <td>4.707621</td>\n",
       "      <td>4.719559</td>\n",
       "      <td>2.421462</td>\n",
       "      <td>1.877386</td>\n",
       "      <td>1.553275</td>\n",
       "      <td>0.916725</td>\n",
       "      <td>0.708321</td>\n",
       "      <td>1.548114</td>\n",
       "      <td>2.949784</td>\n",
       "      <td>2408.234281</td>\n",
       "      <td>6111.797852</td>\n",
       "      <td>6412.126601</td>\n",
       "      <td>2816.376179</td>\n",
       "      <td>4.000000</td>\n",
       "      <td>1.000000</td>\n",
       "    </tr>\n",
       "  </tbody>\n",
       "</table>\n",
       "<p>8 rows × 668 columns</p>\n",
       "</div>"
      ],
      "text/plain": [
       "           x1           x2           x3  ...         z222        phase       output\n",
       "count  4584.0  4584.000000  4584.000000  ...  4584.000000  4584.000000  4584.000000\n",
       "mean      0.0     0.000218     0.000218  ...    28.735112     2.519634     0.844895\n",
       "std       0.0     0.014770     0.014770  ...   217.842477     1.158998     0.362044\n",
       "min       0.0     0.000000     0.000000  ... -3671.954955     1.000000     0.000000\n",
       "25%       0.0     0.000000     0.000000  ...    -0.050475     1.000000     1.000000\n",
       "50%       0.0     0.000000     0.000000  ...     0.001721     3.000000     1.000000\n",
       "75%       0.0     0.000000     0.000000  ...     0.483496     4.000000     1.000000\n",
       "max       0.0     1.000000     1.000000  ...  2816.376179     4.000000     1.000000\n",
       "\n",
       "[8 rows x 668 columns]"
      ]
     },
     "execution_count": 618,
     "metadata": {
      "tags": []
     },
     "output_type": "execute_result"
    }
   ],
   "source": [
    "df_train = pd.read_csv('/content/train_data.csv', sep=',')\n",
    "df_train.head\n",
    "df_train.describe()"
   ]
  },
  {
   "cell_type": "markdown",
   "metadata": {
    "id": "PRO2szB2nJ8a"
   },
   "source": [
    "## Feature Engineering\n",
    "\n",
    "1. Drop Values with NA : there was none\n",
    "2. Drop Unique values : Dropped 108 Columns\n",
    "3. Drop columns with Low variance: Dropped 1 column\n",
    "4. Drop column with correlation >0.95 : Dropped 242 Column\n",
    "5. Select Columns using Boruta : 32 Features Selected\n",
    "\n"
   ]
  },
  {
   "cell_type": "markdown",
   "metadata": {
    "id": "ySuXRcCL6fCc"
   },
   "source": [
    "Drop all the columns that has more than 50% NA's ,but there is none in this data.There is no columns with null data"
   ]
  },
  {
   "cell_type": "code",
   "execution_count": null,
   "metadata": {
    "colab": {
     "base_uri": "https://localhost:8080/",
     "height": 34
    },
    "id": "-SOulLg54sR-",
    "outputId": "46509ec0-e0e9-4472-ff8b-689bc23df454"
   },
   "outputs": [
    {
     "data": {
      "text/plain": [
       "(4584, 670)"
      ]
     },
     "execution_count": 16,
     "metadata": {
      "tags": []
     },
     "output_type": "execute_result"
    }
   ],
   "source": [
    "half_count = len(df_train) / 2\n",
    "df_train = df_train.dropna(thresh=half_count,axis=1)\n",
    "df_train.shape"
   ]
  },
  {
   "cell_type": "markdown",
   "metadata": {
    "id": "VbnPb_9S6Qs5"
   },
   "source": [
    "Let’s look for any columns that contain only one unique value and remove them. These columns won’t be useful for the model since they don’t add any information . Drop the columns with 1 unique value"
   ]
  },
  {
   "cell_type": "code",
   "execution_count": null,
   "metadata": {
    "colab": {
     "base_uri": "https://localhost:8080/",
     "height": 34
    },
    "id": "Ua7QpMjG6Fu1",
    "outputId": "10446804-549d-4d66-ab8a-24482bc2f250"
   },
   "outputs": [
    {
     "data": {
      "text/plain": [
       "(4584, 562)"
      ]
     },
     "execution_count": 17,
     "metadata": {
      "tags": []
     },
     "output_type": "execute_result"
    }
   ],
   "source": [
    "df_train = df_train.loc[:,df_train.apply(pd.Series.nunique) != 1]\n",
    "df_train.shape"
   ]
  },
  {
   "cell_type": "markdown",
   "metadata": {
    "id": "y12qjEgoGGrY"
   },
   "source": [
    "Output Column Frequency and Percentage .Dataset is imbalances"
   ]
  },
  {
   "cell_type": "code",
   "execution_count": null,
   "metadata": {
    "colab": {
     "base_uri": "https://localhost:8080/",
     "height": 458
    },
    "id": "3q6oFOtA-L9k",
    "outputId": "aed21cca-f2ac-45b3-aaa7-ef8a55651b5f"
   },
   "outputs": [
    {
     "data": {
      "image/png": "[encoded data removed]",
      "text/plain": [
       "<Figure size 1008x504 with 2 Axes>"
      ]
     },
     "metadata": {
      "needs_background": "light",
      "tags": []
     },
     "output_type": "display_data"
    }
   ],
   "source": [
    "fig, axs = plt.subplots(1,2,figsize=(14,7))\n",
    "sns.countplot(x='output',data=df_train,ax=axs[0])\n",
    "axs[0].set_title(\"Frequency\")\n",
    "df_train.output.value_counts().plot(x=None,y=None, kind='pie', ax=axs[1],autopct='%1.2f%%')\n",
    "axs[1].set_title(\"Percentage\")\n",
    "plt.show()"
   ]
  },
  {
   "cell_type": "markdown",
   "metadata": {
    "id": "M-MZwXPn_JBh"
   },
   "source": [
    "Evaluate Data"
   ]
  },
  {
   "cell_type": "code",
   "execution_count": null,
   "metadata": {
    "id": "LiJ8WR6xaNIZ"
   },
   "outputs": [],
   "source": [
    "# Utility functions to evaluate data\n",
    "results=[]\n",
    "cat_results=[]\n",
    "def evaluate_data(df,cut_of_count=15,categorical_only=True):\n",
    "    # Check for range of unique values for the train data\n",
    "    for i in range(df.shape[1]):\n",
    "        vals = np.unique(df.iloc[:, i])\n",
    "        if len(vals) < cut_of_count:\n",
    "            print(df.columns[i], ': (Categorical) {} unique value(s) - {}'.format(len(vals), vals))\n",
    "            cat_results.append(df.columns[i])\n",
    "        else:\n",
    "            if categorical_only == False:\n",
    "                if df.iloc[:, i].dtype == object:\n",
    "                    print(df.columns[i], ': (Continuous) range of values of type string {',df.iloc[:, i].unique().size,' values}')\n",
    "                else:\n",
    "                    print(df.columns[i], ': (Continuous) range of values - ', '[ {} to {}]'.format(df.iloc[:, i].min(), df.iloc[:, i].max()), ' {',df.iloc[:, i].unique().size,' values}')\n",
    "            results.append(df.columns[i])\n",
    "    return results ,cat_results"
   ]
  },
  {
   "cell_type": "markdown",
   "metadata": {
    "id": "3YMjAwed3F46"
   },
   "source": [
    "## Categorical Data"
   ]
  },
  {
   "cell_type": "code",
   "execution_count": null,
   "metadata": {
    "colab": {
     "base_uri": "https://localhost:8080/",
     "height": 1000
    },
    "id": "laa3qEzx18gV",
    "outputId": "9980a7a1-45dd-4640-cda4-c1cda0522d24"
   },
   "outputs": [
    {
     "name": "stdout",
     "output_type": "stream",
     "text": [
      "x2 : (Categorical) 2 unique value(s) - [0 1]\n",
      "x3 : (Categorical) 2 unique value(s) - [0 1]\n",
      "x4 : (Categorical) 2 unique value(s) - [0 1]\n",
      "x40 : (Categorical) 2 unique value(s) - [0 1]\n",
      "x41 : (Categorical) 2 unique value(s) - [0 1]\n",
      "x42 : (Categorical) 2 unique value(s) - [0 1]\n",
      "x43 : (Categorical) 2 unique value(s) - [0 1]\n",
      "x44 : (Categorical) 2 unique value(s) - [0 1]\n",
      "x45 : (Categorical) 2 unique value(s) - [0 1]\n",
      "x46 : (Categorical) 2 unique value(s) - [0 1]\n",
      "x47 : (Categorical) 2 unique value(s) - [0 1]\n",
      "x101 : (Categorical) 2 unique value(s) - [0 1]\n",
      "x102 : (Categorical) 3 unique value(s) - [0 1 4]\n",
      "x114 : (Categorical) 2 unique value(s) - [0 1]\n",
      "x115 : (Categorical) 2 unique value(s) - [0 1]\n",
      "x116 : (Categorical) 2 unique value(s) - [0 1]\n",
      "x117 : (Categorical) 2 unique value(s) - [0 1]\n",
      "x118 : (Categorical) 2 unique value(s) - [0 1]\n",
      "y2 : (Categorical) 2 unique value(s) - [0 1]\n",
      "y3 : (Categorical) 2 unique value(s) - [0 1]\n",
      "y4 : (Categorical) 2 unique value(s) - [0 1]\n",
      "y40 : (Categorical) 2 unique value(s) - [0 1]\n",
      "y41 : (Categorical) 2 unique value(s) - [0 1]\n",
      "y42 : (Categorical) 2 unique value(s) - [0 1]\n",
      "y43 : (Categorical) 2 unique value(s) - [0 1]\n",
      "y44 : (Categorical) 2 unique value(s) - [0 1]\n",
      "y45 : (Categorical) 2 unique value(s) - [0 1]\n",
      "y46 : (Categorical) 2 unique value(s) - [0 1]\n",
      "y47 : (Categorical) 2 unique value(s) - [0 1]\n",
      "y101 : (Categorical) 4 unique value(s) - [0 1 2 5]\n",
      "y102 : (Categorical) 2 unique value(s) - [0 1]\n",
      "y114 : (Categorical) 2 unique value(s) - [0 1]\n",
      "y115 : (Categorical) 2 unique value(s) - [0 1]\n",
      "y116 : (Categorical) 2 unique value(s) - [0 1]\n",
      "y117 : (Categorical) 2 unique value(s) - [0 1]\n",
      "y118 : (Categorical) 2 unique value(s) - [0 1]\n",
      "z2 : (Categorical) 2 unique value(s) - [0 1]\n",
      "z3 : (Categorical) 2 unique value(s) - [0 1]\n",
      "z4 : (Categorical) 2 unique value(s) - [0 1]\n",
      "z41 : (Categorical) 2 unique value(s) - [0 1]\n",
      "z42 : (Categorical) 2 unique value(s) - [0 1]\n",
      "z43 : (Categorical) 2 unique value(s) - [0 1]\n",
      "z44 : (Categorical) 2 unique value(s) - [0 1]\n",
      "z45 : (Categorical) 2 unique value(s) - [0 1]\n",
      "z46 : (Categorical) 2 unique value(s) - [0 1]\n",
      "z47 : (Categorical) 2 unique value(s) - [0 1]\n",
      "z101 : (Categorical) 3 unique value(s) - [0 1 2]\n",
      "z102 : (Categorical) 4 unique value(s) - [0 1 2 3]\n",
      "z114 : (Categorical) 2 unique value(s) - [0 1]\n",
      "z115 : (Categorical) 2 unique value(s) - [0 1]\n",
      "z116 : (Categorical) 2 unique value(s) - [0 1]\n",
      "z117 : (Categorical) 2 unique value(s) - [0 1]\n",
      "z118 : (Categorical) 2 unique value(s) - [0 1]\n",
      "z119 : (Categorical) 2 unique value(s) - [0 1]\n",
      "phase : (Categorical) 4 unique value(s) - [1 2 3 4]\n",
      "subject__A : (Categorical) 2 unique value(s) - [0 1]\n",
      "subject__B : (Categorical) 2 unique value(s) - [0 1]\n",
      "subject__C : (Categorical) 2 unique value(s) - [0 1]\n",
      "subject__D : (Categorical) 2 unique value(s) - [0 1]\n",
      "subject__F : (Categorical) 2 unique value(s) - [0 1]\n",
      "subject__G : (Categorical) 2 unique value(s) - [0 1]\n",
      "subject__H : (Categorical) 2 unique value(s) - [0 1]\n",
      "subject__I : (Categorical) 2 unique value(s) - [0 1]\n",
      "subject__K : (Categorical) 2 unique value(s) - [0 1]\n",
      "subject__L : (Categorical) 2 unique value(s) - [0 1]\n",
      "subject__M : (Categorical) 2 unique value(s) - [0 1]\n",
      "state__A : (Categorical) 2 unique value(s) - [0 1]\n",
      "state__B : (Categorical) 2 unique value(s) - [0 1]\n",
      "state__C : (Categorical) 2 unique value(s) - [0 1]\n",
      "state__D : (Categorical) 2 unique value(s) - [0 1]\n",
      "state__E : (Categorical) 2 unique value(s) - [0 1]\n"
     ]
    }
   ],
   "source": [
    "colums_numeric , columns_cat =evaluate_data(df_train)"
   ]
  },
  {
   "cell_type": "markdown",
   "metadata": {
    "id": "mICdhgIg_eMR"
   },
   "source": [
    "Datatypes"
   ]
  },
  {
   "cell_type": "code",
   "execution_count": null,
   "metadata": {
    "colab": {
     "base_uri": "https://localhost:8080/",
     "height": 102
    },
    "id": "qdrqrtQO_gl-",
    "outputId": "0c034507-aaca-4ab8-8d5a-5e522ee1fbd2"
   },
   "outputs": [
    {
     "name": "stdout",
     "output_type": "stream",
     "text": [
      "Data types and their frequency\n",
      "float64    474\n",
      "int64       86\n",
      "object       2\n",
      "dtype: int64\n"
     ]
    }
   ],
   "source": [
    "print(\"Data types and their frequency\\n{}\".format(df_train.dtypes.value_counts()))\n"
   ]
  },
  {
   "cell_type": "code",
   "execution_count": null,
   "metadata": {
    "colab": {
     "base_uri": "https://localhost:8080/",
     "height": 68
    },
    "id": "hc3v9yXTCLHv",
    "outputId": "a938ec7c-7487-45ed-f1ac-0d99e06ccd56"
   },
   "outputs": [
    {
     "name": "stdout",
     "output_type": "stream",
     "text": [
      "subject    K\n",
      "state      C\n",
      "Name: 0, dtype: object\n"
     ]
    }
   ],
   "source": [
    "object_columns_df = df_train.select_dtypes(include=['object'])\n",
    "print(object_columns_df.iloc[0])"
   ]
  },
  {
   "cell_type": "markdown",
   "metadata": {
    "id": "Odq8cWtB_tyQ"
   },
   "source": [
    "Convert categorical to numeric using one hot encoder"
   ]
  },
  {
   "cell_type": "code",
   "execution_count": null,
   "metadata": {
    "colab": {
     "base_uri": "https://localhost:8080/",
     "height": 391
    },
    "id": "a3u4RLU8_ygw",
    "outputId": "3595d519-6599-4aef-b098-1e99c8052304"
   },
   "outputs": [
    {
     "name": "stdout",
     "output_type": "stream",
     "text": [
      "subject :\n",
      "I    663\n",
      "G    518\n",
      "B    513\n",
      "K    468\n",
      "L    444\n",
      "D    420\n",
      "A    380\n",
      "C    361\n",
      "F    330\n",
      "M    306\n",
      "H    181\n",
      "Name: subject, dtype: int64 \n",
      "\n",
      "state :\n",
      "C    2106\n",
      "B    1502\n",
      "D     576\n",
      "A     398\n",
      "E       2\n",
      "Name: state, dtype: int64 \n",
      "\n"
     ]
    }
   ],
   "source": [
    "cols = ['subject','state']\n",
    "for name in cols:\n",
    "    print(name,':')\n",
    "    print(df_train[name].value_counts(),'\\n')"
   ]
  },
  {
   "cell_type": "code",
   "execution_count": null,
   "metadata": {
    "colab": {
     "base_uri": "https://localhost:8080/",
     "height": 338
    },
    "id": "jjPcaEyMGKzH",
    "outputId": "84117205-2efd-4732-b181-5606825b862e"
   },
   "outputs": [
    {
     "data": {
      "text/html": [
       "<div>\n",
       "<style scoped>\n",
       "    .dataframe tbody tr th:only-of-type {\n",
       "        vertical-align: middle;\n",
       "    }\n",
       "\n",
       "    .dataframe tbody tr th {\n",
       "        vertical-align: top;\n",
       "    }\n",
       "\n",
       "    .dataframe thead th {\n",
       "        text-align: right;\n",
       "    }\n",
       "</style>\n",
       "<table border=\"1\" class=\"dataframe\">\n",
       "  <thead>\n",
       "    <tr style=\"text-align: right;\">\n",
       "      <th></th>\n",
       "      <th>x2</th>\n",
       "      <th>x3</th>\n",
       "      <th>x4</th>\n",
       "      <th>x5</th>\n",
       "      <th>x6</th>\n",
       "      <th>x7</th>\n",
       "      <th>x8</th>\n",
       "      <th>x9</th>\n",
       "      <th>x10</th>\n",
       "      <th>x11</th>\n",
       "      <th>x12</th>\n",
       "      <th>x13</th>\n",
       "      <th>x15</th>\n",
       "      <th>x16</th>\n",
       "      <th>x17</th>\n",
       "      <th>x18</th>\n",
       "      <th>x19</th>\n",
       "      <th>x20</th>\n",
       "      <th>x21</th>\n",
       "      <th>x22</th>\n",
       "      <th>x23</th>\n",
       "      <th>x24</th>\n",
       "      <th>x25</th>\n",
       "      <th>x26</th>\n",
       "      <th>x27</th>\n",
       "      <th>x28</th>\n",
       "      <th>x29</th>\n",
       "      <th>x30</th>\n",
       "      <th>x31</th>\n",
       "      <th>x32</th>\n",
       "      <th>x33</th>\n",
       "      <th>x34</th>\n",
       "      <th>x35</th>\n",
       "      <th>x36</th>\n",
       "      <th>x37</th>\n",
       "      <th>x38</th>\n",
       "      <th>x40</th>\n",
       "      <th>x41</th>\n",
       "      <th>x42</th>\n",
       "      <th>x43</th>\n",
       "      <th>...</th>\n",
       "      <th>z201</th>\n",
       "      <th>z202</th>\n",
       "      <th>z203</th>\n",
       "      <th>z204</th>\n",
       "      <th>z205</th>\n",
       "      <th>z206</th>\n",
       "      <th>z207</th>\n",
       "      <th>z208</th>\n",
       "      <th>z209</th>\n",
       "      <th>z210</th>\n",
       "      <th>z211</th>\n",
       "      <th>z212</th>\n",
       "      <th>z213</th>\n",
       "      <th>z214</th>\n",
       "      <th>z215</th>\n",
       "      <th>z216</th>\n",
       "      <th>z217</th>\n",
       "      <th>z218</th>\n",
       "      <th>z219</th>\n",
       "      <th>z220</th>\n",
       "      <th>z221</th>\n",
       "      <th>z222</th>\n",
       "      <th>phase</th>\n",
       "      <th>output</th>\n",
       "      <th>subject__A</th>\n",
       "      <th>subject__B</th>\n",
       "      <th>subject__C</th>\n",
       "      <th>subject__D</th>\n",
       "      <th>subject__F</th>\n",
       "      <th>subject__G</th>\n",
       "      <th>subject__H</th>\n",
       "      <th>subject__I</th>\n",
       "      <th>subject__K</th>\n",
       "      <th>subject__L</th>\n",
       "      <th>subject__M</th>\n",
       "      <th>state__A</th>\n",
       "      <th>state__B</th>\n",
       "      <th>state__C</th>\n",
       "      <th>state__D</th>\n",
       "      <th>state__E</th>\n",
       "    </tr>\n",
       "  </thead>\n",
       "  <tbody>\n",
       "    <tr>\n",
       "      <th>0</th>\n",
       "      <td>0</td>\n",
       "      <td>0</td>\n",
       "      <td>1</td>\n",
       "      <td>-323.106605</td>\n",
       "      <td>2.694366</td>\n",
       "      <td>-1.987520</td>\n",
       "      <td>261.092784</td>\n",
       "      <td>0.013704</td>\n",
       "      <td>0.000100</td>\n",
       "      <td>-8.900000e-06</td>\n",
       "      <td>-0.806753</td>\n",
       "      <td>-0.805752</td>\n",
       "      <td>0.043217</td>\n",
       "      <td>0.001868</td>\n",
       "      <td>0.012497</td>\n",
       "      <td>-0.463844</td>\n",
       "      <td>5.481409</td>\n",
       "      <td>67</td>\n",
       "      <td>78</td>\n",
       "      <td>193</td>\n",
       "      <td>208</td>\n",
       "      <td>0.551122</td>\n",
       "      <td>0.548628</td>\n",
       "      <td>0.127182</td>\n",
       "      <td>0.124688</td>\n",
       "      <td>0.002506</td>\n",
       "      <td>0.007481</td>\n",
       "      <td>-0.746494</td>\n",
       "      <td>-2.239481</td>\n",
       "      <td>0.995012</td>\n",
       "      <td>2.172739</td>\n",
       "      <td>-0.689267</td>\n",
       "      <td>-0.906939</td>\n",
       "      <td>0.000347</td>\n",
       "      <td>0.000291</td>\n",
       "      <td>0.000559</td>\n",
       "      <td>1</td>\n",
       "      <td>1</td>\n",
       "      <td>1</td>\n",
       "      <td>0</td>\n",
       "      <td>...</td>\n",
       "      <td>0.274774</td>\n",
       "      <td>0.013800</td>\n",
       "      <td>0.005993</td>\n",
       "      <td>0.015053</td>\n",
       "      <td>1.022254</td>\n",
       "      <td>-0.204758</td>\n",
       "      <td>0.099795</td>\n",
       "      <td>0.062382</td>\n",
       "      <td>8.510045</td>\n",
       "      <td>-0.220163</td>\n",
       "      <td>0.019842</td>\n",
       "      <td>-0.123706</td>\n",
       "      <td>0.047685</td>\n",
       "      <td>0.069165</td>\n",
       "      <td>0.021831</td>\n",
       "      <td>-0.006764</td>\n",
       "      <td>-0.004930</td>\n",
       "      <td>-0.005554</td>\n",
       "      <td>5.246375</td>\n",
       "      <td>-7.534092</td>\n",
       "      <td>3.530736</td>\n",
       "      <td>-0.539045</td>\n",
       "      <td>3</td>\n",
       "      <td>1</td>\n",
       "      <td>0</td>\n",
       "      <td>0</td>\n",
       "      <td>0</td>\n",
       "      <td>0</td>\n",
       "      <td>0</td>\n",
       "      <td>0</td>\n",
       "      <td>0</td>\n",
       "      <td>0</td>\n",
       "      <td>1</td>\n",
       "      <td>0</td>\n",
       "      <td>0</td>\n",
       "      <td>0</td>\n",
       "      <td>0</td>\n",
       "      <td>1</td>\n",
       "      <td>0</td>\n",
       "      <td>0</td>\n",
       "    </tr>\n",
       "    <tr>\n",
       "      <th>1</th>\n",
       "      <td>0</td>\n",
       "      <td>0</td>\n",
       "      <td>1</td>\n",
       "      <td>-376.084691</td>\n",
       "      <td>0.969696</td>\n",
       "      <td>-6.933765</td>\n",
       "      <td>355.311648</td>\n",
       "      <td>0.030292</td>\n",
       "      <td>-0.000153</td>\n",
       "      <td>8.830000e-07</td>\n",
       "      <td>-0.940358</td>\n",
       "      <td>-0.937867</td>\n",
       "      <td>0.080432</td>\n",
       "      <td>0.006469</td>\n",
       "      <td>-0.840971</td>\n",
       "      <td>5.311628</td>\n",
       "      <td>12.116713</td>\n",
       "      <td>45</td>\n",
       "      <td>65</td>\n",
       "      <td>194</td>\n",
       "      <td>207</td>\n",
       "      <td>0.384040</td>\n",
       "      <td>0.381546</td>\n",
       "      <td>0.376559</td>\n",
       "      <td>0.374065</td>\n",
       "      <td>0.002500</td>\n",
       "      <td>0.004988</td>\n",
       "      <td>-0.883335</td>\n",
       "      <td>-1.766671</td>\n",
       "      <td>0.997506</td>\n",
       "      <td>1.803625</td>\n",
       "      <td>-0.642837</td>\n",
       "      <td>-1.362523</td>\n",
       "      <td>0.005266</td>\n",
       "      <td>0.004333</td>\n",
       "      <td>-0.003138</td>\n",
       "      <td>1</td>\n",
       "      <td>1</td>\n",
       "      <td>0</td>\n",
       "      <td>0</td>\n",
       "      <td>...</td>\n",
       "      <td>0.075075</td>\n",
       "      <td>0.257914</td>\n",
       "      <td>0.042138</td>\n",
       "      <td>-0.009052</td>\n",
       "      <td>1.141471</td>\n",
       "      <td>-0.613013</td>\n",
       "      <td>0.305763</td>\n",
       "      <td>0.003132</td>\n",
       "      <td>-7.212686</td>\n",
       "      <td>-0.042147</td>\n",
       "      <td>-0.169557</td>\n",
       "      <td>-0.019917</td>\n",
       "      <td>-0.021723</td>\n",
       "      <td>0.000820</td>\n",
       "      <td>0.025202</td>\n",
       "      <td>0.034347</td>\n",
       "      <td>0.022757</td>\n",
       "      <td>0.052506</td>\n",
       "      <td>-3.727741</td>\n",
       "      <td>-2.854443</td>\n",
       "      <td>-0.699268</td>\n",
       "      <td>-0.054074</td>\n",
       "      <td>4</td>\n",
       "      <td>1</td>\n",
       "      <td>1</td>\n",
       "      <td>0</td>\n",
       "      <td>0</td>\n",
       "      <td>0</td>\n",
       "      <td>0</td>\n",
       "      <td>0</td>\n",
       "      <td>0</td>\n",
       "      <td>0</td>\n",
       "      <td>0</td>\n",
       "      <td>0</td>\n",
       "      <td>0</td>\n",
       "      <td>0</td>\n",
       "      <td>0</td>\n",
       "      <td>1</td>\n",
       "      <td>0</td>\n",
       "      <td>0</td>\n",
       "    </tr>\n",
       "    <tr>\n",
       "      <th>2</th>\n",
       "      <td>0</td>\n",
       "      <td>0</td>\n",
       "      <td>0</td>\n",
       "      <td>91.955425</td>\n",
       "      <td>2.621643</td>\n",
       "      <td>-2.581162</td>\n",
       "      <td>51.357206</td>\n",
       "      <td>0.036668</td>\n",
       "      <td>-0.000104</td>\n",
       "      <td>-9.220000e-05</td>\n",
       "      <td>0.240181</td>\n",
       "      <td>0.229315</td>\n",
       "      <td>0.274750</td>\n",
       "      <td>0.075487</td>\n",
       "      <td>-0.062232</td>\n",
       "      <td>-0.579688</td>\n",
       "      <td>14.667095</td>\n",
       "      <td>52</td>\n",
       "      <td>48</td>\n",
       "      <td>204</td>\n",
       "      <td>197</td>\n",
       "      <td>0.411471</td>\n",
       "      <td>0.408978</td>\n",
       "      <td>0.324190</td>\n",
       "      <td>0.321696</td>\n",
       "      <td>0.000000</td>\n",
       "      <td>0.000000</td>\n",
       "      <td>0.000000</td>\n",
       "      <td>0.000000</td>\n",
       "      <td>1.000000</td>\n",
       "      <td>2.121199</td>\n",
       "      <td>0.818939</td>\n",
       "      <td>-0.345764</td>\n",
       "      <td>-0.001580</td>\n",
       "      <td>-0.003453</td>\n",
       "      <td>-0.005586</td>\n",
       "      <td>1</td>\n",
       "      <td>1</td>\n",
       "      <td>1</td>\n",
       "      <td>1</td>\n",
       "      <td>...</td>\n",
       "      <td>0.131711</td>\n",
       "      <td>0.039174</td>\n",
       "      <td>0.015169</td>\n",
       "      <td>0.100816</td>\n",
       "      <td>1.366627</td>\n",
       "      <td>-0.926140</td>\n",
       "      <td>0.479792</td>\n",
       "      <td>-0.167468</td>\n",
       "      <td>17.736288</td>\n",
       "      <td>-0.326885</td>\n",
       "      <td>-0.153421</td>\n",
       "      <td>-0.172136</td>\n",
       "      <td>-0.361434</td>\n",
       "      <td>-0.182390</td>\n",
       "      <td>-0.116249</td>\n",
       "      <td>-0.101260</td>\n",
       "      <td>-0.086813</td>\n",
       "      <td>-0.101497</td>\n",
       "      <td>-7.510594</td>\n",
       "      <td>19.564182</td>\n",
       "      <td>-17.008130</td>\n",
       "      <td>4.945392</td>\n",
       "      <td>3</td>\n",
       "      <td>1</td>\n",
       "      <td>0</td>\n",
       "      <td>0</td>\n",
       "      <td>0</td>\n",
       "      <td>1</td>\n",
       "      <td>0</td>\n",
       "      <td>0</td>\n",
       "      <td>0</td>\n",
       "      <td>0</td>\n",
       "      <td>0</td>\n",
       "      <td>0</td>\n",
       "      <td>0</td>\n",
       "      <td>0</td>\n",
       "      <td>0</td>\n",
       "      <td>1</td>\n",
       "      <td>0</td>\n",
       "      <td>0</td>\n",
       "    </tr>\n",
       "    <tr>\n",
       "      <th>3</th>\n",
       "      <td>0</td>\n",
       "      <td>0</td>\n",
       "      <td>1</td>\n",
       "      <td>-391.814586</td>\n",
       "      <td>1.866914</td>\n",
       "      <td>-2.510799</td>\n",
       "      <td>382.900317</td>\n",
       "      <td>0.007947</td>\n",
       "      <td>-0.000028</td>\n",
       "      <td>2.990000e-05</td>\n",
       "      <td>-0.978424</td>\n",
       "      <td>-0.977094</td>\n",
       "      <td>0.012307</td>\n",
       "      <td>0.000151</td>\n",
       "      <td>0.227388</td>\n",
       "      <td>-0.048079</td>\n",
       "      <td>3.178819</td>\n",
       "      <td>36</td>\n",
       "      <td>35</td>\n",
       "      <td>185</td>\n",
       "      <td>216</td>\n",
       "      <td>0.027431</td>\n",
       "      <td>0.024938</td>\n",
       "      <td>0.379052</td>\n",
       "      <td>0.376559</td>\n",
       "      <td>0.012626</td>\n",
       "      <td>0.024938</td>\n",
       "      <td>-4.876954</td>\n",
       "      <td>-9.753908</td>\n",
       "      <td>0.987531</td>\n",
       "      <td>2.185079</td>\n",
       "      <td>-0.936042</td>\n",
       "      <td>-1.012427</td>\n",
       "      <td>-0.000084</td>\n",
       "      <td>-0.000405</td>\n",
       "      <td>-0.000674</td>\n",
       "      <td>1</td>\n",
       "      <td>1</td>\n",
       "      <td>1</td>\n",
       "      <td>0</td>\n",
       "      <td>...</td>\n",
       "      <td>0.148457</td>\n",
       "      <td>0.007344</td>\n",
       "      <td>0.000267</td>\n",
       "      <td>-0.000647</td>\n",
       "      <td>0.454765</td>\n",
       "      <td>0.090908</td>\n",
       "      <td>0.204667</td>\n",
       "      <td>0.247985</td>\n",
       "      <td>4.269935</td>\n",
       "      <td>-0.030693</td>\n",
       "      <td>0.024398</td>\n",
       "      <td>0.015897</td>\n",
       "      <td>-0.065115</td>\n",
       "      <td>-0.014740</td>\n",
       "      <td>0.005236</td>\n",
       "      <td>0.018056</td>\n",
       "      <td>0.030856</td>\n",
       "      <td>-0.161398</td>\n",
       "      <td>-6.435819</td>\n",
       "      <td>2.174453</td>\n",
       "      <td>-0.153956</td>\n",
       "      <td>-0.003958</td>\n",
       "      <td>2</td>\n",
       "      <td>0</td>\n",
       "      <td>0</td>\n",
       "      <td>0</td>\n",
       "      <td>0</td>\n",
       "      <td>0</td>\n",
       "      <td>0</td>\n",
       "      <td>1</td>\n",
       "      <td>0</td>\n",
       "      <td>0</td>\n",
       "      <td>0</td>\n",
       "      <td>0</td>\n",
       "      <td>0</td>\n",
       "      <td>0</td>\n",
       "      <td>0</td>\n",
       "      <td>1</td>\n",
       "      <td>0</td>\n",
       "      <td>0</td>\n",
       "    </tr>\n",
       "    <tr>\n",
       "      <th>4</th>\n",
       "      <td>0</td>\n",
       "      <td>0</td>\n",
       "      <td>0</td>\n",
       "      <td>-363.823732</td>\n",
       "      <td>2.951346</td>\n",
       "      <td>-3.726368</td>\n",
       "      <td>330.527539</td>\n",
       "      <td>0.010074</td>\n",
       "      <td>-0.000004</td>\n",
       "      <td>-2.060000e-05</td>\n",
       "      <td>-0.915454</td>\n",
       "      <td>-0.907291</td>\n",
       "      <td>0.032879</td>\n",
       "      <td>0.001081</td>\n",
       "      <td>0.746032</td>\n",
       "      <td>0.262103</td>\n",
       "      <td>4.029558</td>\n",
       "      <td>94</td>\n",
       "      <td>106</td>\n",
       "      <td>176</td>\n",
       "      <td>225</td>\n",
       "      <td>0.082294</td>\n",
       "      <td>0.079800</td>\n",
       "      <td>0.503741</td>\n",
       "      <td>0.501247</td>\n",
       "      <td>0.000000</td>\n",
       "      <td>0.000000</td>\n",
       "      <td>0.000000</td>\n",
       "      <td>0.000000</td>\n",
       "      <td>1.000000</td>\n",
       "      <td>2.063019</td>\n",
       "      <td>-0.774391</td>\n",
       "      <td>-0.971482</td>\n",
       "      <td>0.000072</td>\n",
       "      <td>0.000002</td>\n",
       "      <td>0.000007</td>\n",
       "      <td>1</td>\n",
       "      <td>1</td>\n",
       "      <td>1</td>\n",
       "      <td>0</td>\n",
       "      <td>...</td>\n",
       "      <td>0.038829</td>\n",
       "      <td>0.011851</td>\n",
       "      <td>0.002387</td>\n",
       "      <td>0.021547</td>\n",
       "      <td>0.939191</td>\n",
       "      <td>-0.233462</td>\n",
       "      <td>0.082224</td>\n",
       "      <td>-0.073768</td>\n",
       "      <td>6.658360</td>\n",
       "      <td>-0.019151</td>\n",
       "      <td>-0.051658</td>\n",
       "      <td>0.074298</td>\n",
       "      <td>0.009625</td>\n",
       "      <td>-0.015878</td>\n",
       "      <td>-0.010804</td>\n",
       "      <td>-0.016153</td>\n",
       "      <td>-0.017226</td>\n",
       "      <td>-0.016454</td>\n",
       "      <td>-2.581403</td>\n",
       "      <td>3.011932</td>\n",
       "      <td>-1.281361</td>\n",
       "      <td>0.192647</td>\n",
       "      <td>2</td>\n",
       "      <td>1</td>\n",
       "      <td>0</td>\n",
       "      <td>0</td>\n",
       "      <td>1</td>\n",
       "      <td>0</td>\n",
       "      <td>0</td>\n",
       "      <td>0</td>\n",
       "      <td>0</td>\n",
       "      <td>0</td>\n",
       "      <td>0</td>\n",
       "      <td>0</td>\n",
       "      <td>0</td>\n",
       "      <td>0</td>\n",
       "      <td>0</td>\n",
       "      <td>1</td>\n",
       "      <td>0</td>\n",
       "      <td>0</td>\n",
       "    </tr>\n",
       "  </tbody>\n",
       "</table>\n",
       "<p>5 rows × 576 columns</p>\n",
       "</div>"
      ],
      "text/plain": [
       "   x2  x3  x4          x5  ...  state__B  state__C  state__D  state__E\n",
       "0   0   0   1 -323.106605  ...         0         1         0         0\n",
       "1   0   0   1 -376.084691  ...         0         1         0         0\n",
       "2   0   0   0   91.955425  ...         0         1         0         0\n",
       "3   0   0   1 -391.814586  ...         0         1         0         0\n",
       "4   0   0   0 -363.823732  ...         0         1         0         0\n",
       "\n",
       "[5 rows x 576 columns]"
      ]
     },
     "execution_count": 24,
     "metadata": {
      "tags": []
     },
     "output_type": "execute_result"
    }
   ],
   "source": [
    "#convert subject and state in the train set to one hot encoded values \n",
    "df_train = pd.get_dummies(df_train, columns=['subject', 'state'],prefix_sep=\"__\")\n",
    "df_train.head()"
   ]
  },
  {
   "cell_type": "markdown",
   "metadata": {
    "id": "g4oVdRnd_ock"
   },
   "source": [
    "Label column assigned to Y"
   ]
  },
  {
   "cell_type": "code",
   "execution_count": null,
   "metadata": {
    "id": "luCgYEIMXBrh"
   },
   "outputs": [],
   "source": [
    "#Pandas df for output\n",
    "Y=pd.DataFrame(df_train['output'])\n",
    "#List\n",
    "Y1 = df_train['output'].values\n",
    "df_train = df_train.drop('output',1)"
   ]
  },
  {
   "cell_type": "markdown",
   "metadata": {
    "id": "i8iPr9gs6Ixc"
   },
   "source": [
    "Removing features with low variance"
   ]
  },
  {
   "cell_type": "code",
   "execution_count": null,
   "metadata": {
    "colab": {
     "base_uri": "https://localhost:8080/",
     "height": 238
    },
    "id": "SHwd4eoy4fsT",
    "outputId": "dff340a3-713a-4b0e-bc9f-6fb628998f6c"
   },
   "outputs": [
    {
     "data": {
      "text/plain": [
       "array([[   1.        , -323.1066054 ,    2.69436556, ...,    3.        ,\n",
       "           0.        ,    1.        ],\n",
       "       [   1.        , -376.0846906 ,    0.96969557, ...,    4.        ,\n",
       "           0.        ,    1.        ],\n",
       "       [   0.        ,   91.95542546,    2.62164291, ...,    3.        ,\n",
       "           0.        ,    1.        ],\n",
       "       ...,\n",
       "       [   1.        , -179.7944976 ,    3.86817243, ...,    4.        ,\n",
       "           0.        ,    1.        ],\n",
       "       [   1.        , -393.0020501 ,    1.19628711, ...,    3.        ,\n",
       "           0.        ,    1.        ],\n",
       "       [   1.        , -155.1769731 ,    2.48653846, ...,    3.        ,\n",
       "           0.        ,    0.        ]])"
      ]
     },
     "execution_count": 130,
     "metadata": {
      "tags": []
     },
     "output_type": "execute_result"
    }
   ],
   "source": [
    "from sklearn.feature_selection import VarianceThreshold\n",
    "sel = VarianceThreshold(threshold=(.8 * (1 - .8)))\n",
    "sel.fit_transform(df_train)"
   ]
  },
  {
   "cell_type": "code",
   "execution_count": null,
   "metadata": {
    "colab": {
     "base_uri": "https://localhost:8080/",
     "height": 34
    },
    "id": "wuDnNJCcCu6P",
    "outputId": "c9660765-222e-4bb5-9e50-5b2b9f33f96d"
   },
   "outputs": [
    {
     "data": {
      "text/plain": [
       "(4584, 332)"
      ]
     },
     "execution_count": 131,
     "metadata": {
      "tags": []
     },
     "output_type": "execute_result"
    }
   ],
   "source": [
    "df_train.shape"
   ]
  },
  {
   "cell_type": "markdown",
   "metadata": {
    "id": "pHGs-rvr__oq"
   },
   "source": [
    "Pairwise Correlation and drop the columns that are highly correlated"
   ]
  },
  {
   "cell_type": "code",
   "execution_count": null,
   "metadata": {
    "id": "mdYOSPL07vKq"
   },
   "outputs": [],
   "source": [
    "#Pairwise correlations:\n",
    "\n",
    "rs = np.random.RandomState(0)\n",
    "df = pd.DataFrame(rs.rand(10, 10))\n",
    "corr = df_train.corr()"
   ]
  },
  {
   "cell_type": "code",
   "execution_count": null,
   "metadata": {
    "id": "UxwkjTtY78Ta"
   },
   "outputs": [],
   "source": [
    "#Deleting the highly correlated columns with correlation higher than 0.95\n",
    "\n",
    "# Create correlation matrix\n",
    "corr_matrix = df_train.corr().abs()\n",
    "\n",
    "# Select upper triangle of correlation matrix\n",
    "upper = corr_matrix.where(np.triu(np.ones(corr_matrix.shape), k=1).astype(np.bool))\n",
    "\n",
    "# Find features with correlation greater than 0.95\n",
    "to_drop = [column for column in upper.columns if any(upper[column] > 0.95)]\n",
    "\n",
    "# Drop features \n",
    "df_train.drop(to_drop, axis=1, inplace=True)"
   ]
  },
  {
   "cell_type": "code",
   "execution_count": null,
   "metadata": {
    "colab": {
     "base_uri": "https://localhost:8080/",
     "height": 34
    },
    "id": "UnEWmP1d_6mt",
    "outputId": "e961e847-6c2d-4dbf-c669-b4cc46ffcdad"
   },
   "outputs": [
    {
     "data": {
      "text/plain": [
       "(4584, 332)"
      ]
     },
     "execution_count": 134,
     "metadata": {
      "tags": []
     },
     "output_type": "execute_result"
    }
   ],
   "source": [
    "df_train.shape"
   ]
  },
  {
   "cell_type": "code",
   "execution_count": null,
   "metadata": {
    "id": "7mKwaFffEsr2"
   },
   "outputs": [],
   "source": [
    "#Pandas df for train\n",
    "X=df_train\n",
    "#List\n",
    "X1 = df_train.values"
   ]
  },
  {
   "cell_type": "markdown",
   "metadata": {
    "id": "fVFL--ZjANsW"
   },
   "source": [
    "## Load the Test data "
   ]
  },
  {
   "cell_type": "code",
   "execution_count": 385,
   "metadata": {
    "colab": {
     "base_uri": "https://localhost:8080/",
     "height": 34
    },
    "id": "LQZyWaFNPesU",
    "outputId": "85102df3-29f5-4020-b911-5042eb43f6d1"
   },
   "outputs": [
    {
     "data": {
      "text/plain": [
       "(1732, 669)"
      ]
     },
     "execution_count": 385,
     "metadata": {
      "tags": []
     },
     "output_type": "execute_result"
    }
   ],
   "source": [
    "#Download test data\n",
    "X_test1 = pd.read_csv('/content/test_data.csv', sep=',')\n",
    "X_test1.shape"
   ]
  },
  {
   "cell_type": "code",
   "execution_count": 386,
   "metadata": {
    "colab": {
     "base_uri": "https://localhost:8080/",
     "height": 425
    },
    "id": "aBrxqLW8kzLa",
    "outputId": "0c31b3ca-baaa-419a-9f08-a80756a577bb"
   },
   "outputs": [
    {
     "name": "stdout",
     "output_type": "stream",
     "text": [
      "subject :\n",
      "J    629\n",
      "E    312\n",
      "I    124\n",
      "G     88\n",
      "D     83\n",
      "B     78\n",
      "L     71\n",
      "C     71\n",
      "K     69\n",
      "F     60\n",
      "A     59\n",
      "M     55\n",
      "H     33\n",
      "Name: subject, dtype: int64 \n",
      "\n",
      "state :\n",
      "C    841\n",
      "B    525\n",
      "D    253\n",
      "A    112\n",
      "E      1\n",
      "Name: state, dtype: int64 \n",
      "\n"
     ]
    }
   ],
   "source": [
    "cols = ['subject','state']\n",
    "for name in cols:\n",
    "    print(name,':')\n",
    "    print(X_test1[name].value_counts(),'\\n')"
   ]
  },
  {
   "cell_type": "markdown",
   "metadata": {
    "id": "2zy73CofAaFa"
   },
   "source": [
    "Covert Categorical values to numeric using one hot encoder"
   ]
  },
  {
   "cell_type": "code",
   "execution_count": 387,
   "metadata": {
    "id": "jaeAFW51Qu1s"
   },
   "outputs": [],
   "source": [
    "#List categorical columns to process\n",
    "cat_columns = [\"subject\", \"state\"]\n",
    "\n",
    "#Add the newly created columns in the train data to cat_dummies\n",
    "cat_dummies = [col for col in df_train\n",
    "               if \"__\" in col \n",
    "               and col.split(\"__\")[0] in cat_columns]\n",
    "\n",
    "#Use this to enforce order in test data\n",
    "processed_columns = list(df_train.columns[:])"
   ]
  },
  {
   "cell_type": "code",
   "execution_count": 388,
   "metadata": {
    "id": "gB-B0Q2JSf4Q"
   },
   "outputs": [],
   "source": [
    "#One hot encode test data\n",
    "df_test_processed = pd.get_dummies(X_test1, \n",
    "                                   columns=cat_columns,prefix_sep=\"__\")"
   ]
  },
  {
   "cell_type": "markdown",
   "metadata": {
    "id": "QdzTycm5Aio3"
   },
   "source": [
    "Remove Columns from Test Data based on training"
   ]
  },
  {
   "cell_type": "code",
   "execution_count": 389,
   "metadata": {
    "colab": {
     "base_uri": "https://localhost:8080/",
     "height": 51
    },
    "id": "YIKqVSRcSfvQ",
    "outputId": "6f50a39e-ab2e-4483-9d2e-8703e8af8a91"
   },
   "outputs": [
    {
     "name": "stdout",
     "output_type": "stream",
     "text": [
      "Removing additional feature subject__E\n",
      "Removing additional feature subject__J\n"
     ]
    }
   ],
   "source": [
    "# Remove additional columns in test data\n",
    "for col in df_test_processed.columns:\n",
    "    if (\"__\" in col) and (col.split(\"__\")[0] in cat_columns) and col not in cat_dummies:\n",
    "        print(\"Removing additional feature {}\".format(col))\n",
    "        df_test_processed.drop(col, axis=1, inplace=True)\n",
    "  \n",
    "#Add the missing columns from the train data. Set all missing columns to a vector of 0s since those values did not appear in the test data.\n",
    "for col in cat_dummies:\n",
    "    if col not in df_test_processed.columns:\n",
    "        print(\"Adding missing feature {}\".format(col))\n",
    "        df_test_processed[col] = 0\n",
    "\n",
    "#Reorder columns in test data\n",
    "df_test_processed = df_test_processed[processed_columns]\n",
    "\n"
   ]
  },
  {
   "cell_type": "code",
   "execution_count": 390,
   "metadata": {
    "id": "C9LtPHK4TITV"
   },
   "outputs": [],
   "source": [
    "#Deleting columns from test set that have been previously processed out of train set\n",
    "col=df_train.columns.tolist()\n",
    "X_test1=df_test_processed[col]"
   ]
  },
  {
   "cell_type": "code",
   "execution_count": 391,
   "metadata": {
    "colab": {
     "base_uri": "https://localhost:8080/",
     "height": 323
    },
    "id": "fmQMwwkkKRxN",
    "outputId": "a5a9169f-c822-4cee-ec10-55ffa01b9a71"
   },
   "outputs": [
    {
     "name": "stdout",
     "output_type": "stream",
     "text": [
      "   x2  x3  x4          x5  ...  state__B  state__C  state__D  state__E\n",
      "0   0   0   1    4.665949  ...         0         0         1         0\n",
      "1   0   0   0 -398.299487  ...         0         0         1         0\n",
      "2   0   0   1 -380.902140  ...         1         0         0         0\n",
      "3   0   0   1 -342.784123  ...         0         1         0         0\n",
      "4   0   0   1    6.248502  ...         1         0         0         0\n",
      "\n",
      "[5 rows x 332 columns]\n",
      "(1732, 332)\n",
      "    x2   x3   x4        x5  ...  state__B  state__C  state__D  state__E\n",
      "0  0.0  0.0  1.0  0.169694  ...       0.0       1.0       0.0       0.0\n",
      "1  0.0  0.0  1.0  0.110346  ...       0.0       1.0       0.0       0.0\n",
      "2  0.0  0.0  0.0  0.634659  ...       0.0       1.0       0.0       0.0\n",
      "3  0.0  0.0  1.0  0.092725  ...       0.0       1.0       0.0       0.0\n",
      "4  0.0  0.0  0.0  0.124082  ...       0.0       1.0       0.0       0.0\n",
      "\n",
      "[5 rows x 332 columns]\n",
      "(4584, 332)\n"
     ]
    }
   ],
   "source": [
    "#Ensuring that both train and test set have the same number of columns\n",
    "print(X_test1.head())\n",
    "print(X_test1.shape)\n",
    "print(df_train.head())\n",
    "print(df_train.shape)"
   ]
  },
  {
   "cell_type": "code",
   "execution_count": 392,
   "metadata": {
    "colab": {
     "base_uri": "https://localhost:8080/",
     "height": 34
    },
    "id": "ed364vPKS_d5",
    "outputId": "089a1458-4c8c-4ca7-bb7c-348df6b99f6c"
   },
   "outputs": [
    {
     "data": {
      "text/plain": [
       "pandas.core.frame.DataFrame"
      ]
     },
     "execution_count": 392,
     "metadata": {
      "tags": []
     },
     "output_type": "execute_result"
    }
   ],
   "source": [
    "type(X_test1)"
   ]
  },
  {
   "cell_type": "code",
   "execution_count": 393,
   "metadata": {
    "colab": {
     "base_uri": "https://localhost:8080/",
     "height": 34
    },
    "id": "azLL3CyD8EjA",
    "outputId": "205d417e-bc02-4a86-db8e-d69ff1b5f142"
   },
   "outputs": [
    {
     "data": {
      "text/plain": [
       "(4584, 332)"
      ]
     },
     "execution_count": 393,
     "metadata": {
      "tags": []
     },
     "output_type": "execute_result"
    }
   ],
   "source": [
    "X.shape"
   ]
  },
  {
   "cell_type": "markdown",
   "metadata": {
    "id": "fNVU8Jeroquv"
   },
   "source": [
    "## Scaling Data\n",
    "\n",
    "MinMax Scaler is used"
   ]
  },
  {
   "cell_type": "code",
   "execution_count": 394,
   "metadata": {
    "id": "8VTshdIsmASL"
   },
   "outputs": [],
   "source": [
    "min_max_scaler = MinMaxScaler()\n",
    "featuresX = X.columns\n",
    "featurestest1=X_test1.columns\n",
    "\n",
    "X[featuresX]=min_max_scaler.fit_transform(X)\n",
    "X_test1[featurestest1]=min_max_scaler.fit_transform(X_test1)"
   ]
  },
  {
   "cell_type": "markdown",
   "metadata": {
    "id": "Ykugy09Eouki"
   },
   "source": [
    "## Feature Selection\n",
    "\n",
    "Select features using Boruta"
   ]
  },
  {
   "cell_type": "code",
   "execution_count": 357,
   "metadata": {
    "colab": {
     "base_uri": "https://localhost:8080/",
     "height": 561
    },
    "id": "ApTAjRENG2iB",
    "outputId": "493f332d-1953-44e6-8698-641482da98c0"
   },
   "outputs": [
    {
     "name": "stdout",
     "output_type": "stream",
     "text": [
      "Features to keep: Index(['x5', 'x8', 'x34', 'x35', 'x60', 'x112', 'x145', 'x204', 'y5', 'y8',\n",
      "       'y34', 'y35', 'y112', 'y204', 'z5', 'z8', 'z34', 'z58', 'z59', 'z69',\n",
      "       'z75', 'z145', 'z202', 'z204', 'z205', 'z206', 'z207', 'subject__G',\n",
      "       'subject__K', 'subject__M'],\n",
      "      dtype='object')\n",
      "Features that are weak: Index(['x59', 'x157', 'x203', 'y36', 'y70', 'y82', 'y83', 'y94', 'y145',\n",
      "       'y146', 'z35', 'z112'],\n",
      "      dtype='object')\n",
      "Ranking: [285 285 236   1  43  20   1  72 136 198 105 144  18  33 172 168 108 137\n",
      " 127 224 113  61   1   1  95  79  88 285 256 250 241 264 258 279 254  41\n",
      "   2   1 217 214  85 143 215  62  70  12  94 285 285   3  76  54   1 247\n",
      " 260 273 273 231 221 221 229 218 225 226 217 148 207 174 183   1   5   9\n",
      "  36   2  28 133 212 181 202 165 201 169 211  49 130  57  68  24   2   1\n",
      "  31  22  35  84 204 203 166 134 119 143 132 120 154   7  26 285 285 271\n",
      "   1  55  11   1  53  90  80  45  33 115 116 150 128 209 122 163 228  69\n",
      "  93   1   1   2  67  87 285 258 249 243 268 259 266 261  57 193 208 140\n",
      "   2 197 110  82   2   2  44   2 247 285 192  74  22   1 247 245 276 279\n",
      " 266 199 179 174 156 108 106 158 178  92 194 150 102   2   2  37  53  15\n",
      "  27  17  82 135 163 113 189 160 187 163  46  19  66   1   3 129 126 100\n",
      " 152 147 121 104 141  60 181 171 123  65  58  59  34 285 269 244   1  29\n",
      "  40   1  87 156   9  23  77  64 118  13 113 189 159 223  51  43   1   2\n",
      "  47 113 103 234 238 271 263 252 276 276   1   1 213 153   1  92  99   1\n",
      "  50  74 101  90 242 268 227  63   3   2 256 241 254 232 274 263 176 146\n",
      " 117  97 132 185 196 211 152 187 145 110   1  38  76  84  71 138 200 195\n",
      " 177 189 205 175 161 185  14   1  16   1   1   1   1  40 207 157 170 139\n",
      "  98 182 168 125 124   3  25  31  48   6  78 235  96 222 192   1 239   9\n",
      "   1 219   1 251 233 237 230 285]\n",
      "All columns: Index(['x2', 'x3', 'x4', 'x5', 'x6', 'x7', 'x8', 'x9', 'x10', 'x11',\n",
      "       ...\n",
      "       'subject__H', 'subject__I', 'subject__K', 'subject__L', 'subject__M',\n",
      "       'state__A', 'state__B', 'state__C', 'state__D', 'state__E'],\n",
      "      dtype='object', length=332)\n"
     ]
    }
   ],
   "source": [
    "from sklearn.ensemble import RandomForestClassifier\n",
    "\n",
    "# initialize Boruta\n",
    "rf = RandomForestClassifier(n_jobs=-1, max_depth= 10, min_samples_split= 10, n_estimators= 40, random_state=82)\n",
    "feat_selector = BorutaPy(rf, n_estimators='auto', verbose=0, random_state=82)\n",
    "\n",
    "# fit Boruta (it accepts np.array, not pd.DataFrame)\n",
    "feat_selector.fit(np.array(X),Y.values.ravel())\n",
    "\n",
    "# Results\n",
    "features = X.columns\n",
    "print('Features to keep:', features[feat_selector.support_])\n",
    "print('Features that are weak:', features[feat_selector.support_weak_])\n",
    "print('Ranking:', feat_selector.ranking_)\n",
    "print(\"All columns:\",features)"
   ]
  },
  {
   "cell_type": "code",
   "execution_count": 395,
   "metadata": {
    "colab": {
     "base_uri": "https://localhost:8080/",
     "height": 54
    },
    "id": "-ivvhfsFoHMh",
    "outputId": "0759f008-025f-4e8d-feb3-32e43a3acb01"
   },
   "outputs": [
    {
     "name": "stdout",
     "output_type": "stream",
     "text": [
      "['x5', 'x8', 'x34', 'x35', 'x60', 'x112', 'x145', 'x204', 'y5', 'y8', 'y34', 'y35', 'y112', 'y204', 'z5', 'z8', 'z34', 'z58', 'z59', 'z69', 'z75', 'z145', 'z202', 'z204', 'z205', 'z206', 'z207', 'subject__G', 'subject__K', 'subject__M']\n"
     ]
    }
   ],
   "source": [
    "selected_features = [df_train.columns[i] for i, x in enumerate(feat_selector.support_) if x]\n",
    "print(selected_features)"
   ]
  },
  {
   "cell_type": "code",
   "execution_count": 396,
   "metadata": {
    "id": "IA41gSfVRjLm"
   },
   "outputs": [],
   "source": [
    "#selected_columns= features[feat_selector.support_]\n",
    "X_boruta=X[selected_features]\n",
    "#X_test=X_test[selected_columns]\n",
    "X_test1=X_test1[selected_features]"
   ]
  },
  {
   "cell_type": "code",
   "execution_count": 561,
   "metadata": {
    "id": "X26OoJhcGs3f"
   },
   "outputs": [],
   "source": [
    "#Spliting into train and test sets\n",
    "X_train, X_test, y_train, y_test = train_test_split(X_boruta , Y, test_size=0.25, random_state=82)\n",
    "#y_train = y_train.values.ravel"
   ]
  },
  {
   "cell_type": "code",
   "execution_count": 381,
   "metadata": {
    "colab": {
     "base_uri": "https://localhost:8080/",
     "height": 51
    },
    "id": "m7ObwgBdMj_y",
    "outputId": "af9cbfe9-7868-44ff-bbfe-47b96c4360a9"
   },
   "outputs": [
    {
     "name": "stdout",
     "output_type": "stream",
     "text": [
      "(1732, 32)\n",
      "(3438, 30)\n"
     ]
    }
   ],
   "source": [
    "\n",
    "print(X_test1.shape)\n",
    "print(X_train.shape)"
   ]
  },
  {
   "cell_type": "code",
   "execution_count": null,
   "metadata": {
    "id": "KxY5XKkGNMBO"
   },
   "outputs": [],
   "source": [
    "def show_confusion_matrix(cm, target_names):\n",
    "    plt.figure(figsize=(5, 5))\n",
    "    plt.imshow(cm, interpolation='nearest', cmap=plt.cm.binary)\n",
    "    plt.title('Confusion matrix')\n",
    "    plt.set_cmap('Blues')\n",
    "    plt.colorbar()\n",
    "    tick_marks = np.arange(len(target_names))\n",
    "    plt.xticks(tick_marks, target_names, rotation=60)\n",
    "    plt.yticks(tick_marks, target_names)\n",
    "    plt.ylabel('True label')\n",
    "    plt.xlabel('Predicted label')\n",
    "    plt.show()"
   ]
  },
  {
   "cell_type": "markdown",
   "metadata": {
    "id": "gbe_8ra9NM5A"
   },
   "source": [
    "**Random Forest Classifier** \n",
    "\n",
    "1. We are tring to find best n_estimator for Random forest and run the model and feature importance"
   ]
  },
  {
   "cell_type": "code",
   "execution_count": 398,
   "metadata": {
    "colab": {
     "base_uri": "https://localhost:8080/",
     "height": 51
    },
    "id": "wE-QBgYU2pM2",
    "outputId": "378cd33d-c96f-44a2-bcbe-12fd6341c768"
   },
   "outputs": [
    {
     "name": "stdout",
     "output_type": "stream",
     "text": [
      "Accuracy Score: 0.8595113438045375\n",
      "F1 Score: 0.9211943220753793\n"
     ]
    }
   ],
   "source": [
    "#Initial Random Forest Classifier\n",
    "clf = RandomForestClassifier(random_state=101,n_estimators=50)\n",
    "clf.fit(X_train,y_train)\n",
    "\n",
    "print(\"Accuracy Score:\",accuracy_score(y_test, clf.predict(X_test))) #predicting on 25% and getting accuracy\n",
    "print(\"F1 Score:\", f1_score(y_test,clf.predict(X_test))) #Do not try to optimize two metrics - decide on a metrics first"
   ]
  },
  {
   "cell_type": "code",
   "execution_count": null,
   "metadata": {
    "id": "C8aWpzAzG4JI"
   },
   "outputs": [],
   "source": [
    "scores = []\n",
    "\n",
    "for ne in range(10,100,10):\n",
    "    clf = RandomForestClassifier(n_estimators = ne, random_state=82)\n",
    "    score_list = cross_val_score(clf, X_train,y_train, cv=10,n_jobs=-1) #returns accuracy\n",
    "    #score_list = cross_val_score(clf, X, Y, cv=10, scoring='accuracy') #same as above\n",
    "    scores.append(score_list)"
   ]
  },
  {
   "cell_type": "code",
   "execution_count": null,
   "metadata": {
    "id": "Y_osabeeG8rX"
   },
   "outputs": [],
   "source": [
    "# to get the scores in the correct format for seaborn boxplot\n",
    "box_df = pd.DataFrame([np.arange(10,100,10), scores]).T\n",
    "box_df.columns = ['numoftrees','score']\n",
    "box_df = pd.DataFrame(np.array(scores))\n",
    "box_df['numoftrees'] = np.arange(10,100,10)\n",
    "box_df = box_df.melt(id_vars='numoftrees')"
   ]
  },
  {
   "cell_type": "code",
   "execution_count": null,
   "metadata": {
    "colab": {
     "base_uri": "https://localhost:8080/",
     "height": 350
    },
    "id": "YqxMR8wjG_m_",
    "outputId": "d625e8b1-c6e1-4572-abeb-d61b0a93cd1d"
   },
   "outputs": [
    {
     "data": {
      "image/png": "[encoded data removed]",
      "text/plain": [
       "<Figure size 864x360 with 1 Axes>"
      ]
     },
     "metadata": {
      "needs_background": "light",
      "tags": []
     },
     "output_type": "display_data"
    }
   ],
   "source": [
    "plt.figure(figsize=(12,5))\n",
    "sns.boxplot(x=\"numoftrees\", \n",
    "            y=\"value\", \n",
    "            data=box_df, \n",
    "            showmeans=True);\n",
    "plt.xlabel('Number of trees')\n",
    "plt.ylabel('Classification score')\n",
    "plt.title('Classification score as a function of the number of trees')\n",
    "plt.show()"
   ]
  },
  {
   "cell_type": "markdown",
   "metadata": {
    "id": "vQrDkePOHv_J"
   },
   "source": [
    "Based on above plot, looking at the mean classification scores, we will select number of trees = 20. "
   ]
  },
  {
   "cell_type": "code",
   "execution_count": 363,
   "metadata": {
    "colab": {
     "base_uri": "https://localhost:8080/",
     "height": 442
    },
    "id": "Y0yD-MeiH2mu",
    "outputId": "1cf84ece-47bf-488b-b5ec-0d242e9026d8"
   },
   "outputs": [
    {
     "name": "stdout",
     "output_type": "stream",
     "text": [
      "\n",
      "Model Metrics\n",
      "Observations...............      3438\n",
      "Features...................        30\n",
      "Maximum Tree Depth.........      None\n",
      "Minimum Leaf Size..........         1\n",
      "Minimum split Size.........         2\n",
      "Mean Absolute Error........    0.0754\n",
      "Avg Squared Error..........    0.0156\n",
      "Accuracy...................    0.9994\n",
      "Precision..................    0.9993\n",
      "Recall (Sensitivity).......    1.0000\n",
      "Specificity................    0.9962\n",
      "F1-Score...................    0.9997\n",
      "Total Misclassifications...         2\n",
      "MISC (Misclassification)...      0.1%\n",
      "     class 0                     0.4%\n",
      "     class 1                     0.0%\n",
      "\n",
      "\n",
      "     Confusion     Class     Class\n",
      "       Matrix          0         1\n",
      "  Class 0.....       524         2\n",
      "  Class 1.....         0      2912\n",
      "\n"
     ]
    }
   ],
   "source": [
    "from sklearn import metrics\n",
    "clf = RandomForestClassifier(n_estimators = 20, random_state=82 )\n",
    "clf.fit(X_train,y_train)\n",
    "accuracy_score(y_test, clf.predict(X_test)) \n",
    "display_metrics(clf,X_train,y_train.values)"
   ]
  },
  {
   "cell_type": "code",
   "execution_count": 364,
   "metadata": {
    "colab": {
     "base_uri": "https://localhost:8080/",
     "height": 578
    },
    "id": "sJdMQ-Y4i-rq",
    "outputId": "c5f7c8cb-cae5-4bfe-f43b-0177b0d89749"
   },
   "outputs": [
    {
     "name": "stdout",
     "output_type": "stream",
     "text": [
      "\n",
      "FEATURE....... IMPORTANCE\n",
      "subject__G....   0.0842\n",
      "y8............   0.0376\n",
      "z205..........   0.0374\n",
      "z75...........   0.0369\n",
      "y5............   0.0369\n",
      "x8............   0.0356\n",
      "x34...........   0.0351\n",
      "z202..........   0.0351\n",
      "x145..........   0.0350\n",
      "z34...........   0.0338\n",
      "y112..........   0.0337\n",
      "z8............   0.0335\n",
      "x35...........   0.0331\n",
      "y35...........   0.0331\n",
      "z204..........   0.0330\n",
      "x112..........   0.0327\n",
      "x60...........   0.0323\n",
      "z58...........   0.0323\n",
      "y34...........   0.0320\n",
      "z207..........   0.0308\n",
      "x204..........   0.0307\n",
      "z206..........   0.0306\n",
      "z59...........   0.0306\n",
      "y204..........   0.0301\n",
      "z5............   0.0294\n",
      "z145..........   0.0292\n",
      "x5............   0.0291\n",
      "z69...........   0.0289\n",
      "subject__M....   0.0180\n",
      "subject__K....   0.0094\n",
      "\n"
     ]
    }
   ],
   "source": [
    "display_importance(clf,selected_features)"
   ]
  },
  {
   "cell_type": "code",
   "execution_count": 365,
   "metadata": {
    "colab": {
     "base_uri": "https://localhost:8080/",
     "height": 442
    },
    "id": "PuKJyyQik7UL",
    "outputId": "d67b5d21-958a-4bae-ea0d-e3eaea232b49"
   },
   "outputs": [
    {
     "name": "stdout",
     "output_type": "stream",
     "text": [
      "\n",
      "Model Metrics\n",
      "Observations...............      1146\n",
      "Features...................        30\n",
      "Maximum Tree Depth.........      None\n",
      "Minimum Leaf Size..........         1\n",
      "Minimum split Size.........         2\n",
      "Mean Absolute Error........    0.2134\n",
      "Avg Squared Error..........    0.1076\n",
      "Accuracy...................    0.8508\n",
      "Precision..................    0.8685\n",
      "Recall (Sensitivity).......    0.9688\n",
      "Specificity................    0.2378\n",
      "F1-Score...................    0.9159\n",
      "Total Misclassifications...       171\n",
      "MISC (Misclassification)...     14.9%\n",
      "     class 0                    76.2%\n",
      "     class 1                     3.1%\n",
      "\n",
      "\n",
      "     Confusion     Class     Class\n",
      "       Matrix          0         1\n",
      "  Class 0.....        44       141\n",
      "  Class 1.....        30       931\n",
      "\n"
     ]
    }
   ],
   "source": [
    "display_metrics(clf,X_test,y_test.values)"
   ]
  },
  {
   "cell_type": "code",
   "execution_count": 366,
   "metadata": {
    "colab": {
     "base_uri": "https://localhost:8080/",
     "height": 324
    },
    "id": "ppFGulz_lPpA",
    "outputId": "0bb8e2bb-6f6d-4bac-ab92-1fb97250be99"
   },
   "outputs": [
    {
     "data": {
      "image/png": "[encoded data removed]",
      "text/plain": [
       "<Figure size 360x360 with 2 Axes>"
      ]
     },
     "metadata": {
      "needs_background": "light",
      "tags": []
     },
     "output_type": "display_data"
    }
   ],
   "source": [
    "from sklearn import metrics\n",
    "targets = [\"Low\", \"High\"]\n",
    "confusion_matrix = metrics.confusion_matrix(y_test,clf.predict(X_test))\n",
    "show_confusion_matrix(confusion_matrix, targets)"
   ]
  },
  {
   "cell_type": "markdown",
   "metadata": {
    "id": "IkCFJNmPVkko"
   },
   "source": [
    "#Interpretation: We can see model has Misclassification of 15 % and Highest is in 0's"
   ]
  },
  {
   "cell_type": "markdown",
   "metadata": {
    "id": "gDFrBwOwEShs"
   },
   "source": [
    "PCA"
   ]
  },
  {
   "cell_type": "code",
   "execution_count": null,
   "metadata": {
    "id": "K3hg-Dm42pNR"
   },
   "outputs": [],
   "source": [
    "# Plot the original training data\n",
    "from sklearn.decomposition import PCA\n",
    "pca = PCA(n_components=5)\n",
    "principalComponents = pca.fit_transform(X)\n",
    "fit = pca.fit(X)\n",
    "principalDf = pd.DataFrame(data = principalComponents\n",
    "             , columns = ['principal component 1', 'principal component 2', 'principal component 3','principal component 4',\n",
    "                          'principal component 5'])\n"
   ]
  },
  {
   "cell_type": "code",
   "execution_count": null,
   "metadata": {
    "colab": {
     "base_uri": "https://localhost:8080/",
     "height": 221
    },
    "id": "Cdpt6rzZOAsF",
    "outputId": "64d27814-3118-490c-b955-df242196ad63"
   },
   "outputs": [
    {
     "data": {
      "text/html": [
       "<div>\n",
       "<style scoped>\n",
       "    .dataframe tbody tr th:only-of-type {\n",
       "        vertical-align: middle;\n",
       "    }\n",
       "\n",
       "    .dataframe tbody tr th {\n",
       "        vertical-align: top;\n",
       "    }\n",
       "\n",
       "    .dataframe thead th {\n",
       "        text-align: right;\n",
       "    }\n",
       "</style>\n",
       "<table border=\"1\" class=\"dataframe\">\n",
       "  <thead>\n",
       "    <tr style=\"text-align: right;\">\n",
       "      <th></th>\n",
       "      <th>principal component 1</th>\n",
       "      <th>principal component 2</th>\n",
       "      <th>principal component 3</th>\n",
       "      <th>principal component 4</th>\n",
       "      <th>principal component 5</th>\n",
       "      <th>label</th>\n",
       "    </tr>\n",
       "  </thead>\n",
       "  <tbody>\n",
       "    <tr>\n",
       "      <th>0</th>\n",
       "      <td>164.577464</td>\n",
       "      <td>-49.158418</td>\n",
       "      <td>110.417820</td>\n",
       "      <td>-0.762059</td>\n",
       "      <td>-25.730517</td>\n",
       "      <td>1</td>\n",
       "    </tr>\n",
       "    <tr>\n",
       "      <th>1</th>\n",
       "      <td>181.431099</td>\n",
       "      <td>-28.537543</td>\n",
       "      <td>88.599538</td>\n",
       "      <td>-17.488229</td>\n",
       "      <td>-50.714255</td>\n",
       "      <td>1</td>\n",
       "    </tr>\n",
       "    <tr>\n",
       "      <th>2</th>\n",
       "      <td>81.844031</td>\n",
       "      <td>-99.542058</td>\n",
       "      <td>102.983707</td>\n",
       "      <td>6.480438</td>\n",
       "      <td>31.283918</td>\n",
       "      <td>1</td>\n",
       "    </tr>\n",
       "    <tr>\n",
       "      <th>3</th>\n",
       "      <td>88.862219</td>\n",
       "      <td>146.953385</td>\n",
       "      <td>-81.756042</td>\n",
       "      <td>-29.916717</td>\n",
       "      <td>-28.499538</td>\n",
       "      <td>0</td>\n",
       "    </tr>\n",
       "    <tr>\n",
       "      <th>4</th>\n",
       "      <td>141.002610</td>\n",
       "      <td>3.074718</td>\n",
       "      <td>59.372525</td>\n",
       "      <td>-10.386645</td>\n",
       "      <td>-46.219409</td>\n",
       "      <td>1</td>\n",
       "    </tr>\n",
       "  </tbody>\n",
       "</table>\n",
       "</div>"
      ],
      "text/plain": [
       "   principal component 1  principal component 2  ...  principal component 5  label\n",
       "0             164.577464             -49.158418  ...             -25.730517      1\n",
       "1             181.431099             -28.537543  ...             -50.714255      1\n",
       "2              81.844031             -99.542058  ...              31.283918      1\n",
       "3              88.862219             146.953385  ...             -28.499538      0\n",
       "4             141.002610               3.074718  ...             -46.219409      1\n",
       "\n",
       "[5 rows x 6 columns]"
      ]
     },
     "execution_count": 184,
     "metadata": {
      "tags": []
     },
     "output_type": "execute_result"
    }
   ],
   "source": [
    "finalDf=principalDf\n",
    "finalDf['label']=Y\n",
    "finalDf.head(5)\n"
   ]
  },
  {
   "cell_type": "code",
   "execution_count": null,
   "metadata": {
    "colab": {
     "base_uri": "https://localhost:8080/",
     "height": 513
    },
    "id": "GGlM9hQBNjpL",
    "outputId": "4ebb9763-bfd3-420d-bd66-b8c1ffa25155"
   },
   "outputs": [
    {
     "data": {
      "image/png": "[encoded data removed]",
      "text/plain": [
       "<Figure size 720x576 with 1 Axes>"
      ]
     },
     "metadata": {
      "needs_background": "light",
      "tags": []
     },
     "output_type": "display_data"
    }
   ],
   "source": [
    "#Plotting the projections by label\n",
    "\n",
    "import matplotlib.pyplot as plt\n",
    "import matplotlib.colors as colors\n",
    "import matplotlib.cm as cmx\n",
    "from pandas import read_csv\n",
    "\n",
    "plt.figure(figsize=(10,8))\n",
    "\n",
    "\n",
    "x=finalDf.iloc[:,[0]]\n",
    "y=finalDf.iloc[:,[1]]\n",
    "\n",
    "# Get unique names of labels\n",
    "uniq = list(set(finalDf['label']))\n",
    "\n",
    "# Set the color map to match the number of labels\n",
    "z = range(1,len(uniq))\n",
    "hot = plt.get_cmap('viridis')\n",
    "cNorm  = colors.Normalize(vmin=0, vmax=len(uniq))\n",
    "scalarMap = cmx.ScalarMappable(norm=cNorm, cmap=hot)\n",
    "\n",
    "# Plot each label\n",
    "for i in range(len(uniq)):\n",
    "    indx = finalDf['label'] == uniq[i]\n",
    "    plt.scatter(x[indx], y[indx], s=15, color=scalarMap.to_rgba(i), label=uniq[i])\n",
    "\n",
    "plt.xlabel('PC1')\n",
    "plt.ylabel('PC2')\n",
    "plt.title('Principle Components')\n",
    "plt.legend(loc='upper left')\n",
    "plt.show()"
   ]
  },
  {
   "cell_type": "markdown",
   "metadata": {
    "id": "Jg_gjo56X4Tw"
   },
   "source": [
    "**KNN classification**"
   ]
  },
  {
   "cell_type": "code",
   "execution_count": null,
   "metadata": {
    "colab": {
     "base_uri": "https://localhost:8080/",
     "height": 34
    },
    "id": "Z3zbUz_lYbMK",
    "outputId": "377a4135-2c54-44db-88cb-ce2421382a29"
   },
   "outputs": [
    {
     "name": "stdout",
     "output_type": "stream",
     "text": [
      "{'metric': 'euclidean', 'n_neighbors': 12, 'weights': 'distance'} 0.8583456044142039\n"
     ]
    }
   ],
   "source": [
    "#Using grid search to find optimal number of neighbors\n",
    "param_grid = { \n",
    "    'n_neighbors': [2,3,4,5,6,8,10,12,13,15],\n",
    "    'weights': ['uniform','distance'],\n",
    "    'metric':['euclidean','manhattan']\n",
    "}\n",
    "\n",
    "clf = KNeighborsClassifier()\n",
    "CV_knn = GridSearchCV(estimator=clf, param_grid=param_grid, cv= 5, n_jobs=-1)\n",
    "CV_knn.fit(X_train,y_train)\n",
    "print (CV_knn.best_params_, CV_knn.best_score_)"
   ]
  },
  {
   "cell_type": "code",
   "execution_count": null,
   "metadata": {
    "id": "h6fpUVkwgSON"
   },
   "outputs": [],
   "source": [
    "clfknn=KNeighborsClassifier(metric='euclidean',n_neighbors=12,weights='distance')\n",
    "clfknn.fit(X_train,y_train)\n",
    "f1_score(y_test,clfknn.predict(X_test))\n",
    "predictions = clfknn.predict(X_test)"
   ]
  },
  {
   "cell_type": "code",
   "execution_count": null,
   "metadata": {
    "colab": {
     "base_uri": "https://localhost:8080/",
     "height": 350
    },
    "id": "kYgI70l4KBdI",
    "outputId": "9248b90b-3416-40f6-dacc-b4fe76859c6b"
   },
   "outputs": [
    {
     "data": {
      "image/png": "[encoded data removed]",
      "text/plain": [
       "<Figure size 1080x360 with 2 Axes>"
      ]
     },
     "metadata": {
      "needs_background": "light",
      "tags": []
     },
     "output_type": "display_data"
    }
   ],
   "source": [
    "\"\"\"\n",
    "# Use KNN to perform classification of the test set\n",
    "\n",
    "from sklearn.neighbors import KNeighborsClassifier\n",
    "knn = KNeighborsClassifier(n_neighbors=3)\n",
    "knn.fit(X, Y)\n",
    "predictions = knn.predict(X_test)\n",
    "\"\"\"\n",
    "# Plot the actual classifications and predicted classifications side by side\n",
    "\n",
    "pca = PCA(n_components=5)\n",
    "X_test_new = pca.fit_transform(X_test)\n",
    "\n",
    "plt.figure(figsize=(15,5))\n",
    "ax1 = plt.subplot(1, 2, 1)\n",
    "ax1.scatter(X_test_new[:, 0], X_test_new[:, 1], c=y_test)\n",
    "ax1.set_title(\"Actual classifications\")\n",
    "ax1.set_xlabel(\"PC1\")\n",
    "ax1.set_ylabel(\"PC2\")\n",
    "\n",
    "ax2 = plt.subplot(1, 2, 2)\n",
    "ax2.scatter(X_test_new[:, 0], X_test_new[:, 1], c=predictions)\n",
    "ax2.set_title(\"Predicted classifications\")\n",
    "ax2.set_xlabel(\"PC1\")\n",
    "ax2.set_ylabel(\"PC2\")\n",
    "\n",
    "plt.show()"
   ]
  },
  {
   "cell_type": "code",
   "execution_count": null,
   "metadata": {
    "colab": {
     "base_uri": "https://localhost:8080/",
     "height": 34
    },
    "id": "e1vfKEmXMMpL",
    "outputId": "55124787-54e2-46da-e409-d8bd25d431e6"
   },
   "outputs": [
    {
     "data": {
      "text/plain": [
       "0.8342059336823735"
      ]
     },
     "execution_count": 200,
     "metadata": {
      "tags": []
     },
     "output_type": "execute_result"
    }
   ],
   "source": [
    "accuracy_score(y_test, predictions) "
   ]
  },
  {
   "cell_type": "code",
   "execution_count": 461,
   "metadata": {
    "colab": {
     "base_uri": "https://localhost:8080/",
     "height": 34
    },
    "id": "2kF9JzgG3rL_",
    "outputId": "8fa97dd6-6af0-4ac8-e0ea-5bc358227c16"
   },
   "outputs": [
    {
     "name": "stdout",
     "output_type": "stream",
     "text": [
      "auc 0.5013443203869843\n"
     ]
    }
   ],
   "source": [
    "print(\"auc\",roc_auc_score(y_test,predictions))"
   ]
  },
  {
   "cell_type": "code",
   "execution_count": null,
   "metadata": {
    "id": "6sf1NOHNiKmC"
   },
   "outputs": [],
   "source": [
    "preds = clfknn.predict_proba(X_test1)\n",
    "submithis = pd.DataFrame([X_test1_boruta.index,preds[:,1]]).T\n",
    "submithis.columns = ['id','output']\n",
    "submithis.id = submithis.id.astype(int)\n",
    "submithis.to_csv('submissionknn.csv',index=False)  "
   ]
  },
  {
   "cell_type": "markdown",
   "metadata": {
    "id": "SeIxYOYUkXMG"
   },
   "source": [
    "##**Random Forest Classification**\n",
    "\n",
    "We tried different hyperparameter values and belwo seems to be the best one\n",
    "\n",
    " Hyper parameter selected : class_weight': 'balanced', 'max_depth': 10, 'min_samples_split': 2, 'n_estimators': 70\n"
   ]
  },
  {
   "cell_type": "code",
   "execution_count": 374,
   "metadata": {
    "colab": {
     "base_uri": "https://localhost:8080/",
     "height": 34
    },
    "id": "3wPnAYpMkCdo",
    "outputId": "4dcf18ae-2d18-44c9-ef4f-18f8ba6eb813"
   },
   "outputs": [
    {
     "name": "stdout",
     "output_type": "stream",
     "text": [
      "{'class_weight': 'balanced', 'max_depth': 10, 'min_samples_split': 6, 'n_estimators': 20} 0.8502026844047256\n"
     ]
    }
   ],
   "source": [
    "param_grid = { \n",
    "    'n_estimators': [10,20,30,50,70,100],\n",
    "    'max_depth': [2,4,6,8,10],\n",
    "    'class_weight':['balanced'],\n",
    "    'min_samples_split':[2,4,6],\n",
    "}\n",
    "\n",
    "clf = RandomForestClassifier(random_state=82)\n",
    "CV_rfc = GridSearchCV(estimator=clf, param_grid=param_grid, cv= 5, n_jobs=-1)\n",
    "CV_rfc.fit(X_train,y_train)\n",
    "print (CV_rfc.best_params_, CV_rfc.best_score_)\n"
   ]
  },
  {
   "cell_type": "code",
   "execution_count": 377,
   "metadata": {
    "colab": {
     "base_uri": "https://localhost:8080/",
     "height": 34
    },
    "id": "2_br6B8BkQx2",
    "outputId": "4831e3f3-e401-4e1e-aff1-ef8aee11056b"
   },
   "outputs": [
    {
     "data": {
      "text/plain": [
       "0.837696335078534"
      ]
     },
     "execution_count": 377,
     "metadata": {
      "tags": []
     },
     "output_type": "execute_result"
    }
   ],
   "source": [
    "clfrfc = RandomForestClassifier( class_weight='balanced', max_depth= 10, min_samples_split= 2, \n",
    "                             n_estimators= 20, random_state=82)\n",
    "clfrfc.fit(X_train,y_train)\n",
    "accuracy_score(y_test,clfrfc.predict(X_test))"
   ]
  },
  {
   "cell_type": "code",
   "execution_count": 460,
   "metadata": {
    "colab": {
     "base_uri": "https://localhost:8080/",
     "height": 34
    },
    "id": "0F1HEp2p3SQF",
    "outputId": "2babcdd6-d3ec-4ba1-80d1-c74666d52549"
   },
   "outputs": [
    {
     "name": "stdout",
     "output_type": "stream",
     "text": [
      "auc 0.6893494951767584\n"
     ]
    }
   ],
   "source": [
    "print(\"auc\",roc_auc_score(y_test,clfrfc.predict(X_test)))"
   ]
  },
  {
   "cell_type": "code",
   "execution_count": 378,
   "metadata": {
    "colab": {
     "base_uri": "https://localhost:8080/",
     "height": 442
    },
    "id": "oSzC7vJF_JiL",
    "outputId": "637af4fc-0ee6-4163-c292-407d40b92339"
   },
   "outputs": [
    {
     "name": "stdout",
     "output_type": "stream",
     "text": [
      "\n",
      "Model Metrics\n",
      "Observations...............      1146\n",
      "Features...................        30\n",
      "Maximum Tree Depth.........        10\n",
      "Minimum Leaf Size..........         1\n",
      "Minimum split Size.........         2\n",
      "Mean Absolute Error........    0.2921\n",
      "Avg Squared Error..........    0.1297\n",
      "Accuracy...................    0.8377\n",
      "Precision..................    0.8991\n",
      "Recall (Sensitivity).......    0.9084\n",
      "Specificity................    0.4703\n",
      "F1-Score...................    0.9037\n",
      "Total Misclassifications...       186\n",
      "MISC (Misclassification)...     16.2%\n",
      "     class 0                    53.0%\n",
      "     class 1                     9.2%\n",
      "\n",
      "\n",
      "     Confusion     Class     Class\n",
      "       Matrix          0         1\n",
      "  Class 0.....        87        98\n",
      "  Class 1.....        88       873\n",
      "\n"
     ]
    }
   ],
   "source": [
    "display_metrics(clfrfc,X_test,y_test.values)"
   ]
  },
  {
   "cell_type": "code",
   "execution_count": 379,
   "metadata": {
    "colab": {
     "base_uri": "https://localhost:8080/",
     "height": 358
    },
    "id": "9sjeInQwB5jT",
    "outputId": "d3511d32-b20b-40bc-97d1-4ad4693d6ee6"
   },
   "outputs": [
    {
     "name": "stdout",
     "output_type": "stream",
     "text": [
      "[[ 87  98]\n",
      " [ 88 873]]\n"
     ]
    },
    {
     "data": {
      "image/png": "[encoded data removed]",
      "text/plain": [
       "<Figure size 360x360 with 2 Axes>"
      ]
     },
     "metadata": {
      "needs_background": "light",
      "tags": []
     },
     "output_type": "display_data"
    }
   ],
   "source": [
    "targets = [\"Low\", \"High\"]\n",
    "confusion_matrix = metrics.confusion_matrix(y_test,clfrfc.predict(X_test))\n",
    "print (confusion_matrix)\n",
    "show_confusion_matrix(confusion_matrix, targets)"
   ]
  },
  {
   "cell_type": "code",
   "execution_count": 459,
   "metadata": {
    "id": "A5VRywxqkrU-"
   },
   "outputs": [],
   "source": [
    "preds = clfrfc.predict_proba(X_test1)\n",
    "submithis = pd.DataFrame([X_test1_boruta.index,preds[:,1]]).T\n",
    "submithis.columns = ['id','output']\n",
    "submithis.id = submithis.id.astype(int)\n",
    "submithis.to_csv('submissionrfc.csv',index=False)  "
   ]
  },
  {
   "cell_type": "markdown",
   "metadata": {
    "id": "zkli1c4RWUvY"
   },
   "source": [
    "## Interpretation : Model has the misclassification of 16% , but compared to previous model it has reduced for 0's from 80 % to 55%. So predictions in not imbalance like before.It gave the higest AUC of 68 % compared to other individual classifier models"
   ]
  },
  {
   "cell_type": "markdown",
   "metadata": {
    "id": "SZ2BchssLfcu"
   },
   "source": [
    "## **DecisionTreeClassifier**\n",
    "\n",
    "we tried different hyper paramater for decision tree and below seems to the best\n",
    "\n",
    "class_weight= 'balanced', criterion='entropy', max_depth= 35,min_samples_split=2 random_state=82\n",
    "\n",
    "\n",
    "\n"
   ]
  },
  {
   "cell_type": "code",
   "execution_count": null,
   "metadata": {
    "id": "AmNrone9uM35"
   },
   "outputs": [],
   "source": [
    "from sklearn import metrics, preprocessing\n",
    "\n",
    "param_grid = {\n",
    "    'criterion' : ['gini', 'entropy'],\n",
    "    'max_depth': np.arange(5,500,10),\n",
    "    'class_weight':['balanced'],\n",
    "    'min_samples_split': np.arange(2,15,2),\n",
    "}\n",
    "\n",
    "clf = DecisionTreeClassifier(random_state=82)\n",
    "CV_rfc = GridSearchCV(estimator=clf, param_grid=param_grid, cv= 5, n_jobs=-1)\n",
    "CV_rfc.fit(X_train,y_train)\n",
    "print (CV_rfc.best_params_, CV_rfc.best_score_)\n"
   ]
  },
  {
   "cell_type": "code",
   "execution_count": 628,
   "metadata": {
    "colab": {
     "base_uri": "https://localhost:8080/",
     "height": 34
    },
    "id": "F9UM_YJo2DNe",
    "outputId": "732618bc-9587-4ebc-b455-5f4fa20c0d83"
   },
   "outputs": [
    {
     "data": {
      "text/plain": [
       "0.8176265270506108"
      ]
     },
     "execution_count": 628,
     "metadata": {
      "tags": []
     },
     "output_type": "execute_result"
    }
   ],
   "source": [
    "clfdtc = DecisionTreeClassifier( class_weight= 'balanced', criterion='entropy', max_depth= 35, min_samples_split= 2, \n",
    "                             random_state=82)\n",
    "clfdtc.fit(X_train,y_train)\n",
    "accuracy_score(y_test,clfdtc.predict(X_test))"
   ]
  },
  {
   "cell_type": "code",
   "execution_count": 633,
   "metadata": {
    "colab": {
     "base_uri": "https://localhost:8080/",
     "height": 34
    },
    "id": "dAwEipq4X4di",
    "outputId": "279844bf-44ae-41d9-88c3-c9e1ecdbaee1"
   },
   "outputs": [
    {
     "name": "stdout",
     "output_type": "stream",
     "text": [
      "auc 0.6599235031076862\n"
     ]
    }
   ],
   "source": [
    "print(\"auc\",roc_auc_score(y_test,clfdtc.predict(X_test)))"
   ]
  },
  {
   "cell_type": "code",
   "execution_count": 629,
   "metadata": {
    "colab": {
     "base_uri": "https://localhost:8080/",
     "height": 358
    },
    "id": "5ymzIKAKByj6",
    "outputId": "17e6b64c-551d-4f78-a746-c3ecc644542e"
   },
   "outputs": [
    {
     "name": "stdout",
     "output_type": "stream",
     "text": [
      "[[ 79 106]\n",
      " [103 858]]\n"
     ]
    },
    {
     "data": {
      "image/png": "[encoded data removed]",
      "text/plain": [
       "<Figure size 360x360 with 2 Axes>"
      ]
     },
     "metadata": {
      "needs_background": "light",
      "tags": []
     },
     "output_type": "display_data"
    }
   ],
   "source": [
    "targets = [\"Low\", \"High\"]\n",
    "confusion_matrix = metrics.confusion_matrix(y_test,clfdtc.predict(X_test))\n",
    "print (confusion_matrix)\n",
    "show_confusion_matrix(confusion_matrix, targets)"
   ]
  },
  {
   "cell_type": "code",
   "execution_count": 630,
   "metadata": {
    "id": "f515G18C27An"
   },
   "outputs": [],
   "source": [
    "preds = clfdtc.predict_proba(X_test1)\n",
    "submithis = pd.DataFrame([X_test1.index,preds[:,1]]).T\n",
    "submithis.columns = ['id','output']\n",
    "submithis.id = submithis.id.astype(int)\n",
    "submithis.to_csv('submissiondtc.csv',index=False)  "
   ]
  },
  {
   "cell_type": "code",
   "execution_count": 631,
   "metadata": {
    "colab": {
     "base_uri": "https://localhost:8080/",
     "height": 442
    },
    "id": "dWGPORMzN9Un",
    "outputId": "0169eceb-66b1-4a2b-b139-77230ed9faf5"
   },
   "outputs": [
    {
     "name": "stdout",
     "output_type": "stream",
     "text": [
      "\n",
      "Model Metrics\n",
      "Observations...............      1146\n",
      "Features...................        30\n",
      "Maximum Tree Depth.........        35\n",
      "Minimum Leaf Size..........         1\n",
      "Minimum split Size.........         2\n",
      "Mean Absolute Error........    0.1824\n",
      "Avg Squared Error..........    0.1824\n",
      "Accuracy...................    0.8176\n",
      "Precision..................    0.8900\n",
      "Recall (Sensitivity).......    0.8928\n",
      "Specificity................    0.4270\n",
      "F1-Score...................    0.8914\n",
      "Total Misclassifications...       209\n",
      "MISC (Misclassification)...     18.2%\n",
      "     class 0                    57.3%\n",
      "     class 1                    10.7%\n",
      "\n",
      "\n",
      "     Confusion     Class     Class\n",
      "       Matrix          0         1\n",
      "  Class 0.....        79       106\n",
      "  Class 1.....       103       858\n",
      "\n"
     ]
    }
   ],
   "source": [
    "display_metrics(clfdtc,X_test,y_test.values)"
   ]
  },
  {
   "cell_type": "code",
   "execution_count": null,
   "metadata": {
    "colab": {
     "base_uri": "https://localhost:8080/",
     "height": 669
    },
    "id": "VWReKKeLNWlD",
    "outputId": "952ad438-7d1d-4b50-a12b-6b6092dc82df"
   },
   "outputs": [
    {
     "data": {
      "text/html": [
       "<div>\n",
       "<style scoped>\n",
       "    .dataframe tbody tr th:only-of-type {\n",
       "        vertical-align: middle;\n",
       "    }\n",
       "\n",
       "    .dataframe tbody tr th {\n",
       "        vertical-align: top;\n",
       "    }\n",
       "\n",
       "    .dataframe thead th {\n",
       "        text-align: right;\n",
       "    }\n",
       "</style>\n",
       "<table border=\"1\" class=\"dataframe\">\n",
       "  <thead>\n",
       "    <tr style=\"text-align: right;\">\n",
       "      <th></th>\n",
       "      <th>feature</th>\n",
       "      <th>importance</th>\n",
       "    </tr>\n",
       "  </thead>\n",
       "  <tbody>\n",
       "    <tr>\n",
       "      <th>29</th>\n",
       "      <td>subject__G</td>\n",
       "      <td>0.110134</td>\n",
       "    </tr>\n",
       "    <tr>\n",
       "      <th>1</th>\n",
       "      <td>x5</td>\n",
       "      <td>0.091237</td>\n",
       "    </tr>\n",
       "    <tr>\n",
       "      <th>16</th>\n",
       "      <td>y112</td>\n",
       "      <td>0.048172</td>\n",
       "    </tr>\n",
       "    <tr>\n",
       "      <th>18</th>\n",
       "      <td>y148</td>\n",
       "      <td>0.047762</td>\n",
       "    </tr>\n",
       "    <tr>\n",
       "      <th>30</th>\n",
       "      <td>subject__K</td>\n",
       "      <td>0.046270</td>\n",
       "    </tr>\n",
       "    <tr>\n",
       "      <th>6</th>\n",
       "      <td>x108</td>\n",
       "      <td>0.044703</td>\n",
       "    </tr>\n",
       "    <tr>\n",
       "      <th>14</th>\n",
       "      <td>y20</td>\n",
       "      <td>0.044534</td>\n",
       "    </tr>\n",
       "    <tr>\n",
       "      <th>19</th>\n",
       "      <td>y210</td>\n",
       "      <td>0.040010</td>\n",
       "    </tr>\n",
       "    <tr>\n",
       "      <th>10</th>\n",
       "      <td>x205</td>\n",
       "      <td>0.039547</td>\n",
       "    </tr>\n",
       "    <tr>\n",
       "      <th>23</th>\n",
       "      <td>z22</td>\n",
       "      <td>0.039503</td>\n",
       "    </tr>\n",
       "    <tr>\n",
       "      <th>5</th>\n",
       "      <td>x68</td>\n",
       "      <td>0.037241</td>\n",
       "    </tr>\n",
       "    <tr>\n",
       "      <th>4</th>\n",
       "      <td>x38</td>\n",
       "      <td>0.037222</td>\n",
       "    </tr>\n",
       "    <tr>\n",
       "      <th>17</th>\n",
       "      <td>y145</td>\n",
       "      <td>0.036881</td>\n",
       "    </tr>\n",
       "    <tr>\n",
       "      <th>11</th>\n",
       "      <td>x211</td>\n",
       "      <td>0.035211</td>\n",
       "    </tr>\n",
       "    <tr>\n",
       "      <th>9</th>\n",
       "      <td>x202</td>\n",
       "      <td>0.034974</td>\n",
       "    </tr>\n",
       "    <tr>\n",
       "      <th>26</th>\n",
       "      <td>z58</td>\n",
       "      <td>0.032673</td>\n",
       "    </tr>\n",
       "    <tr>\n",
       "      <th>27</th>\n",
       "      <td>z59</td>\n",
       "      <td>0.029255</td>\n",
       "    </tr>\n",
       "    <tr>\n",
       "      <th>15</th>\n",
       "      <td>y33</td>\n",
       "      <td>0.026973</td>\n",
       "    </tr>\n",
       "    <tr>\n",
       "      <th>31</th>\n",
       "      <td>subject__M</td>\n",
       "      <td>0.026146</td>\n",
       "    </tr>\n",
       "    <tr>\n",
       "      <th>20</th>\n",
       "      <td>y211</td>\n",
       "      <td>0.023702</td>\n",
       "    </tr>\n",
       "  </tbody>\n",
       "</table>\n",
       "</div>"
      ],
      "text/plain": [
       "       feature  importance\n",
       "29  subject__G    0.110134\n",
       "1           x5    0.091237\n",
       "16        y112    0.048172\n",
       "18        y148    0.047762\n",
       "30  subject__K    0.046270\n",
       "6         x108    0.044703\n",
       "14         y20    0.044534\n",
       "19        y210    0.040010\n",
       "10        x205    0.039547\n",
       "23         z22    0.039503\n",
       "5          x68    0.037241\n",
       "4          x38    0.037222\n",
       "17        y145    0.036881\n",
       "11        x211    0.035211\n",
       "9         x202    0.034974\n",
       "26         z58    0.032673\n",
       "27         z59    0.029255\n",
       "15         y33    0.026973\n",
       "31  subject__M    0.026146\n",
       "20        y211    0.023702"
      ]
     },
     "execution_count": 247,
     "metadata": {
      "tags": []
     },
     "output_type": "execute_result"
    }
   ],
   "source": [
    "importance = pd.DataFrame({'feature':X_boruta.columns, 'importance':clfdtc.feature_importances_})\n",
    "importance.sort_values(['importance', 'feature'], ascending=[0, 1], inplace=True)\n",
    "importance[:20]"
   ]
  },
  {
   "cell_type": "markdown",
   "metadata": {
    "id": "xT37yq-nYFkC"
   },
   "source": [
    "##Interpretation: Decision tree has the miscalssification of 18.2% with higest in 0's due to imbalance of data. It has Auc od 65%"
   ]
  },
  {
   "cell_type": "markdown",
   "metadata": {
    "id": "LlXBrS5037Ht"
   },
   "source": [
    "###  Grid Search with XGBoost (Tuning learning_rate and n_estimators)\n",
    "\n",
    "- Lower values of learning_rate would require higher number of trees (n_estimators) to be added to the model.\n",
    "- Learning rate is intended to slow down the adaptation of the model to the training data.\n",
    "\n",
    "Run the model to find the best hyperparameter"
   ]
  },
  {
   "cell_type": "code",
   "execution_count": null,
   "metadata": {
    "colab": {
     "base_uri": "https://localhost:8080/",
     "height": 51
    },
    "id": "4B3-Jrm2LoZl",
    "outputId": "05456a2b-93c6-4d98-9155-57cd1a2d5e6c"
   },
   "outputs": [
    {
     "data": {
      "text/plain": [
       "{'learning_rate': [0.1, 0.5, 0.01, 0.05, 0.001, 0.0001],\n",
       " 'n_estimators': [50, 100, 200, 300, 400, 500, 600, 700]}"
      ]
     },
     "execution_count": 248,
     "metadata": {
      "tags": []
     },
     "output_type": "execute_result"
    }
   ],
   "source": [
    "n_estimators = [ 50, 100, 200, 300,400,500,600,700]  \n",
    "learning_rate = [0.1, 0.5, 0.01, 0.05,0.001,0.0001]  \n",
    "\n",
    "param_grid1 = {'learning_rate':learning_rate, 'n_estimators':n_estimators}\n",
    "param_grid1"
   ]
  },
  {
   "cell_type": "code",
   "execution_count": null,
   "metadata": {
    "colab": {
     "base_uri": "https://localhost:8080/",
     "height": 391
    },
    "id": "pL-j6lb73_tS",
    "outputId": "738f8f39-7a07-46d7-877b-a85dbd70accd"
   },
   "outputs": [
    {
     "name": "stdout",
     "output_type": "stream",
     "text": [
      "Fitting 5 folds for each of 48 candidates, totalling 240 fits\n"
     ]
    },
    {
     "name": "stderr",
     "output_type": "stream",
     "text": [
      "[Parallel(n_jobs=-1)]: Using backend LokyBackend with 4 concurrent workers.\n",
      "[Parallel(n_jobs=-1)]: Done  42 tasks      | elapsed:   27.1s\n",
      "[Parallel(n_jobs=-1)]: Done 192 tasks      | elapsed:  2.0min\n",
      "[Parallel(n_jobs=-1)]: Done 240 out of 240 | elapsed:  2.6min finished\n"
     ]
    },
    {
     "data": {
      "text/plain": [
       "GridSearchCV(cv=5, error_score=nan,\n",
       "             estimator=XGBClassifier(base_score=0.5, booster='gbtree',\n",
       "                                     colsample_bylevel=1, colsample_bynode=1,\n",
       "                                     colsample_bytree=1, gamma=0,\n",
       "                                     learning_rate=0.1, max_delta_step=0,\n",
       "                                     max_depth=3, min_child_weight=1,\n",
       "                                     missing=None, n_estimators=100, n_jobs=1,\n",
       "                                     nthread=None, objective='binary:logistic',\n",
       "                                     random_state=0, reg_alpha=0, reg_lambda=1,\n",
       "                                     scale_pos_weight=1, seed=None, silent=None,\n",
       "                                     subsample=1, verbosity=1),\n",
       "             iid='deprecated', n_jobs=-1,\n",
       "             param_grid={'learning_rate': [0.1, 0.5, 0.01, 0.05, 0.001, 0.0001],\n",
       "                         'n_estimators': [50, 100, 200, 300, 400, 500, 600,\n",
       "                                          700]},\n",
       "             pre_dispatch='2*n_jobs', refit=True, return_train_score=False,\n",
       "             scoring='accuracy', verbose=1)"
      ]
     },
     "execution_count": 249,
     "metadata": {
      "tags": []
     },
     "output_type": "execute_result"
    }
   ],
   "source": [
    "model = xgb.XGBClassifier()\n",
    "grid_search = GridSearchCV(model,param_grid=param_grid1, scoring=\"accuracy\", verbose=1, n_jobs=-1 , cv=5)\n",
    "grid_search.fit(X_train, y_train) #Default 3 folds"
   ]
  },
  {
   "cell_type": "code",
   "execution_count": null,
   "metadata": {
    "colab": {
     "base_uri": "https://localhost:8080/",
     "height": 51
    },
    "id": "qbi8J7Ed4Bjf",
    "outputId": "6282df45-155a-42c4-dd20-ef2cf4c8f02c"
   },
   "outputs": [
    {
     "name": "stdout",
     "output_type": "stream",
     "text": [
      "0.8568900003385125\n",
      "{'learning_rate': 0.1, 'n_estimators': 200}\n"
     ]
    }
   ],
   "source": [
    "print(grid_search.best_score_)\n",
    "print(grid_search.best_params_)"
   ]
  },
  {
   "cell_type": "code",
   "execution_count": 635,
   "metadata": {
    "colab": {
     "base_uri": "https://localhost:8080/",
     "height": 34
    },
    "id": "SFT2NAUyH6Kw",
    "outputId": "549c27be-0729-46b9-d26b-4e18090c70ac"
   },
   "outputs": [
    {
     "data": {
      "text/plain": [
       "0.8490401396160558"
      ]
     },
     "execution_count": 635,
     "metadata": {
      "tags": []
     },
     "output_type": "execute_result"
    }
   ],
   "source": [
    "clfxgb = xgb.XGBClassifier( learning_rate= 0.1, n_estimators=200,\n",
    "                             random_state=82)\n",
    "clfxgb.fit(X_train,y_train)\n",
    "accuracy_score(y_test,clfxgb.predict(X_test))"
   ]
  },
  {
   "cell_type": "code",
   "execution_count": 636,
   "metadata": {
    "colab": {
     "base_uri": "https://localhost:8080/",
     "height": 34
    },
    "id": "huk8ClGHYiC6",
    "outputId": "daa79731-0254-4a8d-8b52-4c4e582e14a3"
   },
   "outputs": [
    {
     "name": "stdout",
     "output_type": "stream",
     "text": [
      "auc 0.5869927159209156\n"
     ]
    }
   ],
   "source": [
    "print(\"auc\",roc_auc_score(y_test,clfxgb.predict(X_test)))"
   ]
  },
  {
   "cell_type": "code",
   "execution_count": null,
   "metadata": {
    "colab": {
     "base_uri": "https://localhost:8080/",
     "height": 358
    },
    "id": "XdXI4dlODZaV",
    "outputId": "9283675c-10b2-42a3-c9b0-fe7a70ad7dd7"
   },
   "outputs": [
    {
     "name": "stdout",
     "output_type": "stream",
     "text": [
      "[[ 26 159]\n",
      " [ 31 930]]\n"
     ]
    },
    {
     "data": {
      "image/png": "[encoded data removed]",
      "text/plain": [
       "<Figure size 360x360 with 2 Axes>"
      ]
     },
     "metadata": {
      "needs_background": "light",
      "tags": []
     },
     "output_type": "display_data"
    }
   ],
   "source": [
    "targets = [\"Low\", \"High\"]\n",
    "confusion_matrix = metrics.confusion_matrix(y_test,clfxgb.predict(X_test))\n",
    "print (confusion_matrix)\n",
    "show_confusion_matrix(confusion_matrix, targets)"
   ]
  },
  {
   "cell_type": "code",
   "execution_count": null,
   "metadata": {
    "id": "Zcl-UQmS4Eto"
   },
   "outputs": [],
   "source": [
    "preds = clfxgb.predict_proba(X_test1.values)\n",
    "submithis = pd.DataFrame([X_test1.index,preds[:,1]]).T\n",
    "submithis.columns = ['id','output']\n",
    "submithis.id = submithis.id.astype(int)\n",
    "submithis.to_csv('submissionxgb.csv',index=False) "
   ]
  },
  {
   "cell_type": "code",
   "execution_count": 637,
   "metadata": {
    "colab": {
     "base_uri": "https://localhost:8080/",
     "height": 295
    },
    "id": "CNyDL89TIV5b",
    "outputId": "a0800d8d-8555-474f-a4d5-a02e017adb6e"
   },
   "outputs": [
    {
     "data": {
      "image/png": "[encoded data removed]",
      "text/plain": [
       "<Figure size 432x288 with 1 Axes>"
      ]
     },
     "metadata": {
      "needs_background": "light",
      "tags": []
     },
     "output_type": "display_data"
    }
   ],
   "source": [
    "xgb.plot_importance(clfxgb)\n",
    "plt.show()"
   ]
  },
  {
   "cell_type": "markdown",
   "metadata": {
    "id": "kfFYSPvxZOrk"
   },
   "source": []
  },
  {
   "cell_type": "markdown",
   "metadata": {
    "id": "tRQA3kj8YtXL"
   },
   "source": [
    "#Interpretation: We can see the feature importance of the variable in which X60 have higer importance when compared to previous model subject_G has higher importance. Auc of the model is 58.6%"
   ]
  },
  {
   "cell_type": "markdown",
   "metadata": {
    "id": "PLdVAY5NUVJA"
   },
   "source": [
    "\n",
    "Detecting Early Stopping for XG boost:"
   ]
  },
  {
   "cell_type": "code",
   "execution_count": null,
   "metadata": {
    "id": "Cd_6yyFhTSAT"
   },
   "outputs": [],
   "source": [
    "model = xgb.XGBClassifier(learning_rate= 0.1, n_estimators=20,\n",
    "                             random_state=82)\n",
    "eval_set =  [(X_train, y_train), (X_test, y_test)]"
   ]
  },
  {
   "cell_type": "code",
   "execution_count": null,
   "metadata": {
    "colab": {
     "base_uri": "https://localhost:8080/",
     "height": 547
    },
    "id": "M8GgVXpnUi9q",
    "outputId": "ccbb880a-d122-4416-87e4-6c7baa720a3f"
   },
   "outputs": [
    {
     "name": "stdout",
     "output_type": "stream",
     "text": [
      "[0]\tvalidation_0-auc:0.762822\tvalidation_0-error:0.14078\tvalidation_0-logloss:0.638193\tvalidation_1-auc:0.701836\tvalidation_1-error:0.164049\tvalidation_1-logloss:0.641388\n",
      "Multiple eval metrics have been passed: 'validation_1-logloss' will be used for early stopping.\n",
      "\n",
      "Will train until validation_1-logloss hasn't improved in 10 rounds.\n",
      "[1]\tvalidation_0-auc:0.765168\tvalidation_0-error:0.13089\tvalidation_0-logloss:0.593146\tvalidation_1-auc:0.702109\tvalidation_1-error:0.158813\tvalidation_1-logloss:0.599369\n",
      "[2]\tvalidation_0-auc:0.773714\tvalidation_0-error:0.133508\tvalidation_0-logloss:0.555835\tvalidation_1-auc:0.709649\tvalidation_1-error:0.160558\tvalidation_1-logloss:0.564906\n",
      "[3]\tvalidation_0-auc:0.774147\tvalidation_0-error:0.130599\tvalidation_0-logloss:0.52456\tvalidation_1-auc:0.708533\tvalidation_1-error:0.169284\tvalidation_1-logloss:0.53652\n",
      "[4]\tvalidation_0-auc:0.77426\tvalidation_0-error:0.130599\tvalidation_0-logloss:0.498245\tvalidation_1-auc:0.708626\tvalidation_1-error:0.169284\tvalidation_1-logloss:0.512877\n",
      "[5]\tvalidation_0-auc:0.786473\tvalidation_0-error:0.124782\tvalidation_0-logloss:0.475666\tvalidation_1-auc:0.726074\tvalidation_1-error:0.163176\tvalidation_1-logloss:0.491685\n",
      "[6]\tvalidation_0-auc:0.784117\tvalidation_0-error:0.1274\tvalidation_0-logloss:0.456552\tvalidation_1-auc:0.723264\tvalidation_1-error:0.165794\tvalidation_1-logloss:0.475006\n",
      "[7]\tvalidation_0-auc:0.784947\tvalidation_0-error:0.124782\tvalidation_0-logloss:0.440291\tvalidation_1-auc:0.723495\tvalidation_1-error:0.163176\tvalidation_1-logloss:0.460498\n",
      "[8]\tvalidation_0-auc:0.794536\tvalidation_0-error:0.124491\tvalidation_0-logloss:0.426581\tvalidation_1-auc:0.736097\tvalidation_1-error:0.164049\tvalidation_1-logloss:0.44822\n",
      "[9]\tvalidation_0-auc:0.794505\tvalidation_0-error:0.126527\tvalidation_0-logloss:0.414442\tvalidation_1-auc:0.734618\tvalidation_1-error:0.163176\tvalidation_1-logloss:0.438481\n",
      "[10]\tvalidation_0-auc:0.805098\tvalidation_0-error:0.128563\tvalidation_0-logloss:0.404111\tvalidation_1-auc:0.744779\tvalidation_1-error:0.164049\tvalidation_1-logloss:0.429676\n",
      "[11]\tvalidation_0-auc:0.808252\tvalidation_0-error:0.128563\tvalidation_0-logloss:0.395346\tvalidation_1-auc:0.754192\tvalidation_1-error:0.164049\tvalidation_1-logloss:0.422006\n",
      "[12]\tvalidation_0-auc:0.803395\tvalidation_0-error:0.128854\tvalidation_0-logloss:0.387408\tvalidation_1-auc:0.744247\tvalidation_1-error:0.164921\tvalidation_1-logloss:0.415726\n",
      "[13]\tvalidation_0-auc:0.811167\tvalidation_0-error:0.126818\tvalidation_0-logloss:0.380755\tvalidation_1-auc:0.755441\tvalidation_1-error:0.163176\tvalidation_1-logloss:0.41048\n",
      "[14]\tvalidation_0-auc:0.812774\tvalidation_0-error:0.1274\tvalidation_0-logloss:0.375028\tvalidation_1-auc:0.758852\tvalidation_1-error:0.161431\tvalidation_1-logloss:0.405736\n",
      "[15]\tvalidation_0-auc:0.812834\tvalidation_0-error:0.127981\tvalidation_0-logloss:0.369868\tvalidation_1-auc:0.759617\tvalidation_1-error:0.162304\tvalidation_1-logloss:0.401668\n",
      "[16]\tvalidation_0-auc:0.815758\tvalidation_0-error:0.129727\tvalidation_0-logloss:0.365032\tvalidation_1-auc:0.766864\tvalidation_1-error:0.164049\tvalidation_1-logloss:0.398521\n",
      "[17]\tvalidation_0-auc:0.821225\tvalidation_0-error:0.126818\tvalidation_0-logloss:0.360651\tvalidation_1-auc:0.766493\tvalidation_1-error:0.163176\tvalidation_1-logloss:0.39538\n",
      "[18]\tvalidation_0-auc:0.824949\tvalidation_0-error:0.126818\tvalidation_0-logloss:0.357076\tvalidation_1-auc:0.766074\tvalidation_1-error:0.166667\tvalidation_1-logloss:0.392754\n",
      "[19]\tvalidation_0-auc:0.824883\tvalidation_0-error:0.126818\tvalidation_0-logloss:0.354149\tvalidation_1-auc:0.76577\tvalidation_1-error:0.166667\tvalidation_1-logloss:0.390434\n"
     ]
    },
    {
     "data": {
      "text/plain": [
       "XGBClassifier(base_score=0.5, booster='gbtree', colsample_bylevel=1,\n",
       "              colsample_bynode=1, colsample_bytree=1, gamma=0,\n",
       "              learning_rate=0.1, max_delta_step=0, max_depth=3,\n",
       "              min_child_weight=1, missing=None, n_estimators=20, n_jobs=1,\n",
       "              nthread=None, objective='binary:logistic', random_state=82,\n",
       "              reg_alpha=0, reg_lambda=1, scale_pos_weight=1, seed=None,\n",
       "              silent=None, subsample=1, verbosity=1)"
      ]
     },
     "execution_count": 259,
     "metadata": {
      "tags": []
     },
     "output_type": "execute_result"
    }
   ],
   "source": [
    "model.fit(X_train, y_train, eval_metric=[\"auc\",\"error\",\"logloss\"],\n",
    "          early_stopping_rounds=10, eval_set=eval_set,verbose=True)"
   ]
  },
  {
   "cell_type": "code",
   "execution_count": null,
   "metadata": {
    "id": "9WidVxn3Ullj"
   },
   "outputs": [],
   "source": [
    "# retrieve performance metrics\n",
    "results = model.evals_result()\n",
    "numrounds = len(results['validation_0']['error'])\n",
    "x_axis = range(0, numrounds)"
   ]
  },
  {
   "cell_type": "code",
   "execution_count": null,
   "metadata": {
    "colab": {
     "base_uri": "https://localhost:8080/",
     "height": 296
    },
    "id": "2kReFXB1VKSJ",
    "outputId": "a05b3c50-c607-484b-a75f-8f99f4157b96"
   },
   "outputs": [
    {
     "data": {
      "image/png": "[encoded data removed]",
      "text/plain": [
       "<Figure size 864x288 with 1 Axes>"
      ]
     },
     "metadata": {
      "needs_background": "light",
      "tags": []
     },
     "output_type": "display_data"
    }
   ],
   "source": [
    "#Plot Error\n",
    "fig, ax = plt.subplots(figsize=(12, 4))\n",
    "ax.plot(x_axis, results['validation_0']['error'], label='Train-Error')\n",
    "ax.plot(x_axis, results['validation_1']['error'], label='Test-Error')\n",
    "ax.legend()\n",
    "plt.xlabel('Num of rounds(n_estimators)')\n",
    "plt.ylabel('Error')\n",
    "plt.title('XGBoost Error')\n",
    "plt.show()"
   ]
  },
  {
   "cell_type": "code",
   "execution_count": null,
   "metadata": {
    "colab": {
     "base_uri": "https://localhost:8080/",
     "height": 296
    },
    "id": "gCCYtAT9VMM2",
    "outputId": "9a5b9428-8a90-4854-b4f5-5df0d35b5a01"
   },
   "outputs": [
    {
     "data": {
      "image/png": "[encoded data removed]",
      "text/plain": [
       "<Figure size 864x288 with 1 Axes>"
      ]
     },
     "metadata": {
      "needs_background": "light",
      "tags": []
     },
     "output_type": "display_data"
    }
   ],
   "source": [
    "# plot log loss\n",
    "fig, ax = plt.subplots(figsize=(12, 4))\n",
    "ax.plot(x_axis, results['validation_0']['logloss'], label='Train-logloss')\n",
    "ax.plot(x_axis, results['validation_1']['logloss'], label='Test-logloss')\n",
    "ax.legend()\n",
    "plt.xlabel('Num of rounds(n_estimators)')\n",
    "plt.ylabel('Log Loss')\n",
    "plt.title('XGBoost Log Loss')\n",
    "plt.show()"
   ]
  },
  {
   "cell_type": "markdown",
   "metadata": {
    "id": "ScnGJr74VhNi"
   },
   "source": [
    "# Adding Lambda regularization"
   ]
  },
  {
   "cell_type": "code",
   "execution_count": null,
   "metadata": {
    "colab": {
     "base_uri": "https://localhost:8080/",
     "height": 34
    },
    "id": "OTJ1Ig19VPC8",
    "outputId": "657bcbfb-37bb-4bbe-f0af-17f4420bea46"
   },
   "outputs": [
    {
     "data": {
      "text/plain": [
       "{'reg_lambda': [1, 0.5, 0.2, 0.1], 'subsample': [0.3, 0.5, 0.7, 0.9, 1]}"
      ]
     },
     "execution_count": 263,
     "metadata": {
      "tags": []
     },
     "output_type": "execute_result"
    }
   ],
   "source": [
    "subsample = [0.3, 0.5, 0.7, 0.9, 1]  \n",
    "reg_lambda = [1, 0.5, 0.2, 0.1]  \n",
    "\n",
    "param_grid2 = {'subsample':subsample, 'reg_lambda':reg_lambda}\n",
    "param_grid2"
   ]
  },
  {
   "cell_type": "code",
   "execution_count": null,
   "metadata": {
    "colab": {
     "base_uri": "https://localhost:8080/",
     "height": 102
    },
    "id": "ndXFw5uhVoQs",
    "outputId": "15961098-067d-4463-d554-85dc0938bb22"
   },
   "outputs": [
    {
     "name": "stdout",
     "output_type": "stream",
     "text": [
      "Fitting 5 folds for each of 20 candidates, totalling 100 fits\n"
     ]
    },
    {
     "name": "stderr",
     "output_type": "stream",
     "text": [
      "[Parallel(n_jobs=1)]: Using backend SequentialBackend with 1 concurrent workers.\n",
      "[Parallel(n_jobs=1)]: Done 100 out of 100 | elapsed:  1.4min finished\n"
     ]
    },
    {
     "name": "stdout",
     "output_type": "stream",
     "text": [
      "0.8583447581327647\n",
      "{'reg_lambda': 0.5, 'subsample': 0.9}\n"
     ]
    }
   ],
   "source": [
    "#Default values are reg_alpha=0 and reg_lambda=1, Ideally tuned using grid search\n",
    "model = xgb.XGBClassifier(seed = 2017)\n",
    "grid_search = GridSearchCV(clfxgb,param_grid=param_grid2, scoring=\"accuracy\", verbose=1,cv=5 )\n",
    "grid_search.fit(X_train, y_train) #Default 3 folds\n",
    "\n",
    "print(grid_search.best_score_)\n",
    "print(grid_search.best_params_)"
   ]
  },
  {
   "cell_type": "code",
   "execution_count": 456,
   "metadata": {
    "colab": {
     "base_uri": "https://localhost:8080/",
     "height": 34
    },
    "id": "yDPjF2VKV7rG",
    "outputId": "5d0e79d8-3773-4046-ed5a-4b08b5b9a122"
   },
   "outputs": [
    {
     "data": {
      "text/plain": [
       "0.8542757417102966"
      ]
     },
     "execution_count": 456,
     "metadata": {
      "tags": []
     },
     "output_type": "execute_result"
    }
   ],
   "source": [
    "clfxgbwithregu = xgb.XGBClassifier( class_weight= 'balanced',learning_rate= 0.1, n_estimators=200,reg_lambda=0.5,\n",
    "                                   subsample=0.9,\n",
    "                             random_state=82)\n",
    "clfxgbwithregu.fit(X_train,y_train)\n",
    "accuracy_score(y_test,clfxgbwithregu.predict(X_test))"
   ]
  },
  {
   "cell_type": "code",
   "execution_count": 458,
   "metadata": {
    "colab": {
     "base_uri": "https://localhost:8080/",
     "height": 34
    },
    "id": "dhQWcv9e22YD",
    "outputId": "d9c2fcf3-00a4-41e5-f6a2-5293892e3c32"
   },
   "outputs": [
    {
     "name": "stdout",
     "output_type": "stream",
     "text": [
      "auc 0.6053913434766712\n"
     ]
    }
   ],
   "source": [
    "print(\"auc\",roc_auc_score(y_test,clfxgbwithregu.predict(X_test)))"
   ]
  },
  {
   "cell_type": "code",
   "execution_count": 337,
   "metadata": {
    "colab": {
     "base_uri": "https://localhost:8080/",
     "height": 358
    },
    "id": "2n5uMCsaEPUd",
    "outputId": "3e2c4a43-9250-49fc-d379-1e23e8cd1e62"
   },
   "outputs": [
    {
     "name": "stdout",
     "output_type": "stream",
     "text": [
      "[[ 22 163]\n",
      " [ 29 932]]\n"
     ]
    },
    {
     "data": {
      "image/png": "[encoded data removed]",
      "text/plain": [
       "<Figure size 360x360 with 2 Axes>"
      ]
     },
     "metadata": {
      "needs_background": "light",
      "tags": []
     },
     "output_type": "display_data"
    }
   ],
   "source": [
    "targets = [\"Low\", \"High\"]\n",
    "confusion_matrix = metrics.confusion_matrix(y_test,clfxgbwithregu.predict(X_test))\n",
    "print (confusion_matrix)\n",
    "show_confusion_matrix(confusion_matrix, targets)"
   ]
  },
  {
   "cell_type": "code",
   "execution_count": null,
   "metadata": {
    "id": "JhN-nOwJV7rM"
   },
   "outputs": [],
   "source": [
    "preds = clfxgbwithregu.predict_proba(X_test1.values)\n",
    "submithis = pd.DataFrame([X_test1.index,preds[:,1]]).T\n",
    "submithis.columns = ['id','output']\n",
    "submithis.id = submithis.id.astype(int)\n",
    "submithis.to_csv('submissionclfxgbwithreg.csv',index=False)  "
   ]
  },
  {
   "cell_type": "markdown",
   "metadata": {
    "id": "v1tzCzyjZdog"
   },
   "source": [
    "## Interpretation: With Lamdaregularization we have increase accuracy and auc of XG Booster model from 58% to 60%"
   ]
  },
  {
   "cell_type": "markdown",
   "metadata": {
    "id": "iODofhRzI3_4"
   },
   "source": [
    "##Gradient Booster\n",
    "\n",
    "We are trying to find the best hyper parameters for Grdient booster using GridsearchCV and below is the results\n",
    "\n",
    "learning_rate= 0.1, n_estimators=100,subsample=1.0,max_depth=3,random_state=82"
   ]
  },
  {
   "cell_type": "code",
   "execution_count": null,
   "metadata": {
    "colab": {
     "base_uri": "https://localhost:8080/",
     "height": 51
    },
    "id": "4VRC0W_5I8rV",
    "outputId": "524ff2f2-cf55-40a5-86ec-e6b75ab1ad40"
   },
   "outputs": [
    {
     "data": {
      "text/plain": [
       "{'learning_rate': [0.1, 0.5, 0.01, 0.05, 0.001, 0.0001],\n",
       " 'n_estimators': [50, 100, 200, 300, 400, 500, 600, 700]}"
      ]
     },
     "execution_count": 270,
     "metadata": {
      "tags": []
     },
     "output_type": "execute_result"
    }
   ],
   "source": [
    "n_estimators = [ 50, 100, 200, 300,400,500,600,700]  \n",
    "learning_rate = [0.1, 0.5, 0.01, 0.05,0.001,0.0001]  \n",
    "\n",
    "param_grid1 = {'learning_rate':learning_rate, 'n_estimators':n_estimators}\n",
    "param_grid1"
   ]
  },
  {
   "cell_type": "code",
   "execution_count": 271,
   "metadata": {
    "colab": {
     "base_uri": "https://localhost:8080/",
     "height": 527
    },
    "id": "fx7lyuUNI9Bw",
    "outputId": "a5cca8e3-53bb-401f-a049-333ebc6d7698"
   },
   "outputs": [
    {
     "name": "stdout",
     "output_type": "stream",
     "text": [
      "Fitting 5 folds for each of 48 candidates, totalling 240 fits\n"
     ]
    },
    {
     "name": "stderr",
     "output_type": "stream",
     "text": [
      "[Parallel(n_jobs=-1)]: Using backend LokyBackend with 4 concurrent workers.\n",
      "[Parallel(n_jobs=-1)]: Done  42 tasks      | elapsed:  1.6min\n",
      "[Parallel(n_jobs=-1)]: Done 192 tasks      | elapsed:  7.7min\n",
      "[Parallel(n_jobs=-1)]: Done 240 out of 240 | elapsed:  9.9min finished\n"
     ]
    },
    {
     "data": {
      "text/plain": [
       "GridSearchCV(cv=5, error_score=nan,\n",
       "             estimator=GradientBoostingClassifier(ccp_alpha=0.0,\n",
       "                                                  criterion='friedman_mse',\n",
       "                                                  init=None, learning_rate=0.1,\n",
       "                                                  loss='deviance', max_depth=3,\n",
       "                                                  max_features=None,\n",
       "                                                  max_leaf_nodes=None,\n",
       "                                                  min_impurity_decrease=0.0,\n",
       "                                                  min_impurity_split=None,\n",
       "                                                  min_samples_leaf=1,\n",
       "                                                  min_samples_split=2,\n",
       "                                                  min_weight_fraction_leaf=0.0,\n",
       "                                                  n_estimators=100,\n",
       "                                                  n_iter_no_change=None,\n",
       "                                                  presort='deprecated',\n",
       "                                                  random_state=None,\n",
       "                                                  subsample=1.0, tol=0.0001,\n",
       "                                                  validation_fraction=0.1,\n",
       "                                                  verbose=0, warm_start=False),\n",
       "             iid='deprecated', n_jobs=-1,\n",
       "             param_grid={'learning_rate': [0.1, 0.5, 0.01, 0.05, 0.001, 0.0001],\n",
       "                         'n_estimators': [50, 100, 200, 300, 400, 500, 600,\n",
       "                                          700]},\n",
       "             pre_dispatch='2*n_jobs', refit=True, return_train_score=False,\n",
       "             scoring='accuracy', verbose=1)"
      ]
     },
     "execution_count": 271,
     "metadata": {
      "tags": []
     },
     "output_type": "execute_result"
    }
   ],
   "source": [
    "model = GradientBoostingClassifier()\n",
    "grid_search = GridSearchCV(model,param_grid=param_grid1, scoring=\"accuracy\", verbose=1, n_jobs=-1 , cv=5)\n",
    "grid_search.fit(X_train, y_train) #Default 3 folds"
   ]
  },
  {
   "cell_type": "code",
   "execution_count": 659,
   "metadata": {
    "colab": {
     "base_uri": "https://localhost:8080/",
     "height": 51
    },
    "id": "CgGclW1pJpqb",
    "outputId": "c2e7a52e-e24c-4503-f7ad-93fd4531c14e"
   },
   "outputs": [
    {
     "name": "stdout",
     "output_type": "stream",
     "text": [
      "accuracy 0.8472949389179756\n",
      "auc 0.5794048991759709\n"
     ]
    }
   ],
   "source": [
    "clfgb = GradientBoostingClassifier(learning_rate= 0.1, n_estimators=100,min_samples_split=2,\n",
    "                                   subsample=1.0,max_depth=3,\n",
    "                             random_state=82)\n",
    "clfgb.fit(X_train,y_train)\n",
    "print(\"accuracy\",accuracy_score(y_test,clfgb.predict(X_test)))\n",
    "print(\"auc\",roc_auc_score(y_test,clfgb.predict(X_test)))"
   ]
  },
  {
   "cell_type": "code",
   "execution_count": 660,
   "metadata": {
    "colab": {
     "base_uri": "https://localhost:8080/",
     "height": 442
    },
    "id": "kcCBDTYTa3lw",
    "outputId": "4cf7982e-ecb2-453a-9714-e931521cb8b7"
   },
   "outputs": [
    {
     "name": "stdout",
     "output_type": "stream",
     "text": [
      "\n",
      "Model Metrics\n",
      "Observations...............      1146\n",
      "Features...................        30\n",
      "Maximum Tree Depth.........         3\n",
      "Minimum Leaf Size..........         1\n",
      "Minimum split Size.........         2\n",
      "Mean Absolute Error........    0.2126\n",
      "Avg Squared Error..........    0.1112\n",
      "Accuracy...................    0.8473\n",
      "Precision..................    0.8612\n",
      "Recall (Sensitivity).......    0.9750\n",
      "Specificity................    0.1838\n",
      "F1-Score...................    0.9146\n",
      "Total Misclassifications...       175\n",
      "MISC (Misclassification)...     15.3%\n",
      "     class 0                    81.6%\n",
      "     class 1                     2.5%\n",
      "\n",
      "\n",
      "     Confusion     Class     Class\n",
      "       Matrix          0         1\n",
      "  Class 0.....        34       151\n",
      "  Class 1.....        24       937\n",
      "\n"
     ]
    }
   ],
   "source": [
    "display_metrics(clfgb,X_test,y_test.values)"
   ]
  },
  {
   "cell_type": "code",
   "execution_count": 407,
   "metadata": {
    "colab": {
     "base_uri": "https://localhost:8080/",
     "height": 358
    },
    "id": "1Lhu3H5ZKB1g",
    "outputId": "5ba78fda-c152-4cd6-cfd7-0a3b7e517be0"
   },
   "outputs": [
    {
     "name": "stdout",
     "output_type": "stream",
     "text": [
      "[[ 34 151]\n",
      " [ 24 937]]\n"
     ]
    },
    {
     "data": {
      "image/png": "[encoded data removed]",
      "text/plain": [
       "<Figure size 360x360 with 2 Axes>"
      ]
     },
     "metadata": {
      "needs_background": "light",
      "tags": []
     },
     "output_type": "display_data"
    }
   ],
   "source": [
    "targets = [\"Low\", \"High\"]\n",
    "confusion_matrix = metrics.confusion_matrix(y_test,clfgb.predict(X_test))\n",
    "print (confusion_matrix)\n",
    "show_confusion_matrix(confusion_matrix, targets)"
   ]
  },
  {
   "cell_type": "code",
   "execution_count": 402,
   "metadata": {
    "id": "9PdhN8CoNPqu"
   },
   "outputs": [],
   "source": [
    "preds = clfgb.predict_proba(X_test1)\n",
    "submithis = pd.DataFrame([X_test1.index,preds[:,1]]).T\n",
    "submithis.columns = ['id','output']\n",
    "submithis.id = submithis.id.astype(int)\n",
    "submithis.to_csv('submissiongb.csv',index=False)  "
   ]
  },
  {
   "cell_type": "markdown",
   "metadata": {
    "id": "8dJifmThaYaL"
   },
   "source": [
    "Interpretation: We got the misclassification of 15% , but majority 81.2% in 0's . Th is due to Imbalance of the data . we got AUC of 57%"
   ]
  },
  {
   "cell_type": "markdown",
   "metadata": {
    "id": "G7BNk4tiYO0m"
   },
   "source": [
    "## Ada *Boosting*\n",
    "\n",
    "Best hyperparameters for Ada Booster is \n",
    "\n",
    "'learning_rate': 0.1, 'n_estimators': 100"
   ]
  },
  {
   "cell_type": "code",
   "execution_count": 404,
   "metadata": {
    "colab": {
     "base_uri": "https://localhost:8080/",
     "height": 34
    },
    "id": "FnVehxJyYWB1",
    "outputId": "33d40df4-f428-4f3c-ec25-eb0ad83353b9"
   },
   "outputs": [
    {
     "name": "stdout",
     "output_type": "stream",
     "text": [
      "{'learning_rate': 0.1, 'n_estimators': 100} 0.8565988795233743\n"
     ]
    }
   ],
   "source": [
    "param_grid = { \n",
    "    'n_estimators': [10,20,50,70,100],\n",
    "    'learning_rate': [0.1,0.01,0.001],\n",
    "    \n",
    "}\n",
    "clf = AdaBoostClassifier(random_state=82)\n",
    "CV_ada = GridSearchCV(estimator=clf, param_grid=param_grid, cv= 5, n_jobs=-1)\n",
    "CV_ada.fit(X_train,y_train)\n",
    "print (CV_ada.best_params_, CV_ada.best_score_)"
   ]
  },
  {
   "cell_type": "code",
   "execution_count": 643,
   "metadata": {
    "colab": {
     "base_uri": "https://localhost:8080/",
     "height": 51
    },
    "id": "rz6G8zOSYWUZ",
    "outputId": "ca71e4e1-04b4-4d6e-aeee-217882ab70d5"
   },
   "outputs": [
    {
     "data": {
      "text/plain": [
       "AdaBoostClassifier(algorithm='SAMME.R', base_estimator=None, learning_rate=0.1,\n",
       "                   n_estimators=100, random_state=None)"
      ]
     },
     "execution_count": 643,
     "metadata": {
      "tags": []
     },
     "output_type": "execute_result"
    }
   ],
   "source": [
    "\n",
    "\n",
    "clfada = AdaBoostClassifier( n_estimators= 100, learning_rate=0.1)\n",
    "clfada.fit(X_train,y_train)\n"
   ]
  },
  {
   "cell_type": "code",
   "execution_count": 644,
   "metadata": {
    "colab": {
     "base_uri": "https://localhost:8080/",
     "height": 51
    },
    "id": "JI_BtOwkypVo",
    "outputId": "fec701de-ab8d-4753-9f7d-fcf6fbed98a3"
   },
   "outputs": [
    {
     "name": "stdout",
     "output_type": "stream",
     "text": [
      "accuracy 0.8298429319371727\n",
      "auc 0.5297156678009955\n"
     ]
    }
   ],
   "source": [
    "print(\"accuracy\",accuracy_score(y_test,clfada.predict(X_test)))\n",
    "print(\"auc\",roc_auc_score(y_test,clfada.predict(X_test)))"
   ]
  },
  {
   "cell_type": "code",
   "execution_count": 645,
   "metadata": {
    "colab": {
     "base_uri": "https://localhost:8080/",
     "height": 358
    },
    "id": "nIEsi7FnZq0y",
    "outputId": "f6a04ed2-0999-43cd-c7e3-cdaabb5a8468"
   },
   "outputs": [
    {
     "name": "stdout",
     "output_type": "stream",
     "text": [
      "[[ 16 169]\n",
      " [ 26 935]]\n"
     ]
    },
    {
     "data": {
      "image/png": "[encoded data removed]",
      "text/plain": [
       "<Figure size 360x360 with 2 Axes>"
      ]
     },
     "metadata": {
      "needs_background": "light",
      "tags": []
     },
     "output_type": "display_data"
    }
   ],
   "source": [
    "targets = [\"Low\", \"High\"]\n",
    "confusion_matrix = metrics.confusion_matrix(y_test,clfada.predict(X_test))\n",
    "print (confusion_matrix)\n",
    "show_confusion_matrix(confusion_matrix, targets)"
   ]
  },
  {
   "cell_type": "markdown",
   "metadata": {
    "id": "juwPV7q8bVSN"
   },
   "source": [
    "##Interpretation : AdaBooster gave less accuracy compared to other model and AUC of 52%"
   ]
  },
  {
   "cell_type": "markdown",
   "metadata": {
    "id": "O79wAuQsfCEG"
   },
   "source": [
    "## Nueralnet MLP Classifier"
   ]
  },
  {
   "cell_type": "code",
   "execution_count": 410,
   "metadata": {
    "id": "YPwU_Mr3fA9E"
   },
   "outputs": [],
   "source": [
    "from sklearn.neural_network import MLPClassifier\n",
    "param_grid = { \n",
    "    'm_iter': [10,20,50,70,100],\n",
    "    'alpha': [0.0001,0.01,0.001]\n",
    "    \n",
    "}\n",
    "\n"
   ]
  },
  {
   "cell_type": "code",
   "execution_count": null,
   "metadata": {
    "id": "cbHtNv3Ie-FE"
   },
   "outputs": [],
   "source": [
    "clfmlp= MLPClassifier( hidden_layer_sizes=(100,100,100), max_iter=500, alpha=0.0001,\n",
    "                     solver='sgd', verbose=10,  random_state=21,tol=0.000000001)\n",
    "clfmlp.fit(X_train,y_train)\n",
    "accuracy_score(y_test,clfmlp.predict(X_test))"
   ]
  },
  {
   "cell_type": "code",
   "execution_count": 412,
   "metadata": {
    "colab": {
     "base_uri": "https://localhost:8080/",
     "height": 51
    },
    "id": "38j9HFJVjgDF",
    "outputId": "8bcd2e27-b26b-4dac-ac59-d71f69d01a2c"
   },
   "outputs": [
    {
     "name": "stdout",
     "output_type": "stream",
     "text": [
      "accuracy 0.8464223385689355\n",
      "auc 0.5876142531709649\n"
     ]
    }
   ],
   "source": [
    "print(\"accuracy\",accuracy_score(y_test,clfmlp.predict(X_test)))\n",
    "print(\"auc\",roc_auc_score(y_test,clfmlp.predict(X_test)))"
   ]
  },
  {
   "cell_type": "code",
   "execution_count": 413,
   "metadata": {
    "colab": {
     "base_uri": "https://localhost:8080/",
     "height": 358
    },
    "id": "bYukOfQmjKRX",
    "outputId": "1c5a1008-02b1-43b5-9429-472885e070e4"
   },
   "outputs": [
    {
     "name": "stdout",
     "output_type": "stream",
     "text": [
      "[[ 38 147]\n",
      " [ 29 932]]\n"
     ]
    },
    {
     "data": {
      "image/png": "[encoded data removed]",
      "text/plain": [
       "<Figure size 360x360 with 2 Axes>"
      ]
     },
     "metadata": {
      "needs_background": "light",
      "tags": []
     },
     "output_type": "display_data"
    }
   ],
   "source": [
    "targets = [\"Low\", \"High\"]\n",
    "confusion_matrix = metrics.confusion_matrix(y_test,clfmlp.predict(X_test))\n",
    "print (confusion_matrix)\n",
    "show_confusion_matrix(confusion_matrix, targets)"
   ]
  },
  {
   "cell_type": "markdown",
   "metadata": {
    "id": "yBKg3ZP3bq4v"
   },
   "source": [
    "Interpretation: With MLP Nuralnet classifier we got the Auc of 58% and misclassification of 15% with higest in 0's."
   ]
  },
  {
   "cell_type": "markdown",
   "metadata": {
    "id": "vDmW2_5CZ4_7"
   },
   "source": [
    "#Extra Tree Classifier\n",
    "\n",
    "We tried different values hyperparameter values for Extra Tree and below is the best values\n",
    "\n",
    "max_depth': 10, 'min_samples_leaf': 2, 'n_estimators': 20, 'n_jobs': -1"
   ]
  },
  {
   "cell_type": "code",
   "execution_count": 414,
   "metadata": {
    "colab": {
     "base_uri": "https://localhost:8080/",
     "height": 34
    },
    "id": "kUWFzahPaAD8",
    "outputId": "ccc099bf-aba4-485d-a9da-18ad8312c7ac"
   },
   "outputs": [
    {
     "name": "stdout",
     "output_type": "stream",
     "text": [
      "{'max_depth': 10, 'min_samples_leaf': 2, 'n_estimators': 20, 'n_jobs': -1} 0.8673614637283775\n"
     ]
    }
   ],
   "source": [
    "param_grid = { \n",
    "    'n_estimators': [10,20,50,70,100],\n",
    "    'max_depth': [2,4,6,8,10],\n",
    "    'n_jobs':[-1],\n",
    "    'min_samples_leaf':[2,4,6],\n",
    "}\n",
    "\n",
    "clf = ExtraTreesClassifier(random_state=82)\n",
    "CV_etc = GridSearchCV(estimator=clf, param_grid=param_grid, cv= 5, n_jobs=-1)\n",
    "CV_etc.fit(X_train,y_train)\n",
    "print (CV_etc.best_params_, CV_etc.best_score_)"
   ]
  },
  {
   "cell_type": "code",
   "execution_count": 647,
   "metadata": {
    "colab": {
     "base_uri": "https://localhost:8080/",
     "height": 34
    },
    "id": "MlONiT6MaAVC",
    "outputId": "f06717a2-5165-4f5f-ca30-c6444d4c7f34"
   },
   "outputs": [
    {
     "data": {
      "text/plain": [
       "0.837696335078534"
      ]
     },
     "execution_count": 647,
     "metadata": {
      "tags": []
     },
     "output_type": "execute_result"
    }
   ],
   "source": [
    "clfetc = ExtraTreesClassifier( class_weight='balanced', max_depth= 10, min_samples_split= 2, \n",
    "                             n_estimators= 20, n_jobs=-1, random_state=82)\n",
    "clfetc.fit(X_train,y_train)\n",
    "accuracy_score(y_test,clfrfc.predict(X_test))"
   ]
  },
  {
   "cell_type": "code",
   "execution_count": 648,
   "metadata": {
    "colab": {
     "base_uri": "https://localhost:8080/",
     "height": 34
    },
    "id": "AAmStuJ02fm6",
    "outputId": "cc26d02c-b50a-479e-9996-d5993a51cc9d"
   },
   "outputs": [
    {
     "name": "stdout",
     "output_type": "stream",
     "text": [
      "auc 0.7102202098039767\n"
     ]
    }
   ],
   "source": [
    "print(\"auc\",roc_auc_score(y_test,clfetc.predict(X_test)))"
   ]
  },
  {
   "cell_type": "code",
   "execution_count": 649,
   "metadata": {
    "colab": {
     "base_uri": "https://localhost:8080/",
     "height": 442
    },
    "id": "8XiXiIPBbUB0",
    "outputId": "096d0f57-3fab-4f87-ae8e-446dc842f31b"
   },
   "outputs": [
    {
     "name": "stdout",
     "output_type": "stream",
     "text": [
      "\n",
      "Model Metrics\n",
      "Observations...............      1146\n",
      "Features...................        30\n",
      "Maximum Tree Depth.........        10\n",
      "Minimum Leaf Size..........         1\n",
      "Minimum split Size.........         2\n",
      "Mean Absolute Error........    0.3476\n",
      "Avg Squared Error..........    0.1585\n",
      "Accuracy...................    0.8141\n",
      "Precision..................    0.9101\n",
      "Recall (Sensitivity).......    0.8637\n",
      "Specificity................    0.5568\n",
      "F1-Score...................    0.8863\n",
      "Total Misclassifications...       213\n",
      "MISC (Misclassification)...     18.6%\n",
      "     class 0                    44.3%\n",
      "     class 1                    13.6%\n",
      "\n",
      "\n",
      "     Confusion     Class     Class\n",
      "       Matrix          0         1\n",
      "  Class 0.....       103        82\n",
      "  Class 1.....       131       830\n",
      "\n"
     ]
    }
   ],
   "source": [
    "display_metrics(clfetc,X_test,y_test.values)"
   ]
  },
  {
   "cell_type": "code",
   "execution_count": 417,
   "metadata": {
    "colab": {
     "base_uri": "https://localhost:8080/",
     "height": 358
    },
    "id": "oyPFuz0RaAhO",
    "outputId": "6713e3b6-85eb-4e44-abeb-4656734f1f44"
   },
   "outputs": [
    {
     "name": "stdout",
     "output_type": "stream",
     "text": [
      "[[ 28 157]\n",
      " [ 11 950]]\n"
     ]
    },
    {
     "data": {
      "image/png": "[encoded data removed]",
      "text/plain": [
       "<Figure size 360x360 with 2 Axes>"
      ]
     },
     "metadata": {
      "needs_background": "light",
      "tags": []
     },
     "output_type": "display_data"
    }
   ],
   "source": [
    "targets = [\"Low\", \"High\"]\n",
    "confusion_matrix = metrics.confusion_matrix(y_test,clfetc.predict(X_test))\n",
    "print (confusion_matrix)\n",
    "show_confusion_matrix(confusion_matrix, targets)"
   ]
  },
  {
   "cell_type": "markdown",
   "metadata": {
    "id": "jcPCXLSMcn7w"
   },
   "source": []
  },
  {
   "cell_type": "code",
   "execution_count": 299,
   "metadata": {
    "id": "tbCwo3aQcr57"
   },
   "outputs": [],
   "source": [
    "preds = clfetc.predict_proba(X_test1)\n",
    "submithis = pd.DataFrame([X_test1.index,preds[:,1]]).T\n",
    "submithis.columns = ['id','output']\n",
    "submithis.id = submithis.id.astype(int)\n",
    "submithis.to_csv('submissionetc.csv',index=False) "
   ]
  },
  {
   "cell_type": "markdown",
   "metadata": {
    "id": "D0aSCV7jckaP"
   },
   "source": [
    "## Interpretation: Extra Tree gave the higest Auc of 71% with misclassification of 18% , but 44% in 0's which is less compared to other models"
   ]
  },
  {
   "cell_type": "markdown",
   "metadata": {
    "id": "KHefmPIPeSzf"
   },
   "source": [
    "**Support Vector Machines**"
   ]
  },
  {
   "cell_type": "code",
   "execution_count": null,
   "metadata": {
    "colab": {
     "base_uri": "https://localhost:8080/",
     "height": 34
    },
    "id": "-QQjo73eeR9p",
    "outputId": "4754f6aa-695e-46e0-fb15-f182df3f3087"
   },
   "outputs": [
    {
     "name": "stdout",
     "output_type": "stream",
     "text": [
      "{'C': 10, 'kernel': 'rbf'} 0.8707264108471705\n"
     ]
    }
   ],
   "source": [
    "\n",
    "from sklearn.preprocessing import MinMaxScaler\n",
    "scaling = MinMaxScaler(feature_range=(-1,1)).fit(X_train)\n",
    "X_train = scaling.transform(X_train)\n",
    "X_test = scaling.transform(X_test)\n",
    "\n",
    "param_grid = [{'kernel': ['rbf' ,'linear'], 'C': [1, 10, 100, 1000]}]\n",
    "\n",
    "clf = SVC(random_state=82)\n",
    "CV_svc = GridSearchCV(estimator=clf, param_grid=param_grid, cv= 5, n_jobs=-1)\n",
    "CV_svc.fit(X_train,y_train)\n",
    "print (CV_svc.best_params_, CV_svc.best_score_)\n"
   ]
  },
  {
   "cell_type": "code",
   "execution_count": 418,
   "metadata": {
    "colab": {
     "base_uri": "https://localhost:8080/",
     "height": 34
    },
    "id": "E-mh-ipmGbKa",
    "outputId": "04761d23-1ef5-48bf-98f7-f55b807665c6"
   },
   "outputs": [
    {
     "data": {
      "text/plain": [
       "0.8481675392670157"
      ]
     },
     "execution_count": 418,
     "metadata": {
      "tags": []
     },
     "output_type": "execute_result"
    }
   ],
   "source": [
    "CV_svc = SVC(kernel='rbf',C=10 ,probability=True)\n",
    "CV_svc.fit(X_train,y_train)\n",
    "accuracy_score(y_test,CV_svc.predict(X_test))"
   ]
  },
  {
   "cell_type": "code",
   "execution_count": 449,
   "metadata": {
    "colab": {
     "base_uri": "https://localhost:8080/",
     "height": 34
    },
    "id": "AMrFUyl92V7L",
    "outputId": "4070ccc2-63e5-4c07-c8ff-4669efb63411"
   },
   "outputs": [
    {
     "name": "stdout",
     "output_type": "stream",
     "text": [
      "auc 0.5908372472368311\n"
     ]
    }
   ],
   "source": [
    "print(\"auc\",roc_auc_score(y_test,CV_svc.predict(X_test)))"
   ]
  },
  {
   "cell_type": "code",
   "execution_count": 419,
   "metadata": {
    "colab": {
     "base_uri": "https://localhost:8080/",
     "height": 358
    },
    "id": "PxL9HmKVFKgG",
    "outputId": "86476d75-5799-4e10-b19b-2388aa8beec6"
   },
   "outputs": [
    {
     "name": "stdout",
     "output_type": "stream",
     "text": [
      "[[ 39 146]\n",
      " [ 28 933]]\n"
     ]
    },
    {
     "data": {
      "image/png": "[encoded data removed]",
      "text/plain": [
       "<Figure size 360x360 with 2 Axes>"
      ]
     },
     "metadata": {
      "needs_background": "light",
      "tags": []
     },
     "output_type": "display_data"
    }
   ],
   "source": [
    "targets = [\"Low\", \"High\"]\n",
    "confusion_matrix = metrics.confusion_matrix(y_test,CV_svc.predict(X_test))\n",
    "print (confusion_matrix)\n",
    "show_confusion_matrix(confusion_matrix, targets)"
   ]
  },
  {
   "cell_type": "code",
   "execution_count": 420,
   "metadata": {
    "id": "M7I44Jq4HeuQ"
   },
   "outputs": [],
   "source": [
    "preds = CV_svc.predict_proba(X_test1)\n",
    "submithis = pd.DataFrame([X_test1.index,preds[:,1]]).T\n",
    "submithis.columns = ['id','output']\n",
    "submithis.id = submithis.id.astype(int)\n",
    "submithis.to_csv('submissionsvc.csv',index=False)  "
   ]
  },
  {
   "cell_type": "markdown",
   "metadata": {
    "id": "1GAYEwQTdBJD"
   },
   "source": [
    "## **Ensemble method with Random forest ,Extra Tree classifier, Gradient booster and stacking classifier**\n",
    "\n",
    "Based on the accuracy and auc score I choose to Ensemble above three methods and passing the output to staking classifier model which is level1. \n",
    "\n",
    "Cross validation :I have take Kfold of value 5 becasue of unbalanced dataset , i have set class_weights to balanced."
   ]
  },
  {
   "cell_type": "code",
   "execution_count": 650,
   "metadata": {
    "colab": {
     "base_uri": "https://localhost:8080/",
     "height": 102
    },
    "id": "g07BhnZ7FOIE",
    "outputId": "8ad3e949-9ffd-4b5b-cdca-6bb16cda1a12"
   },
   "outputs": [
    {
     "name": "stdout",
     "output_type": "stream",
     "text": [
      "Randon Forest auc 0.6893494951767584\n",
      "XGBooster auc 0.6053913434766712\n",
      "Extra Tree auc 0.7102202098039767\n",
      "Gradient Booster auc 0.5794048991759709\n",
      "Nueralnet auc 0.5876142531709649\n"
     ]
    }
   ],
   "source": [
    "print(\"Randon Forest auc\",roc_auc_score(y_test,clfrfc.predict(X_test)))\n",
    "print(\"XGBooster auc\",roc_auc_score(y_test,clfxgbwithregu.predict(X_test)))\n",
    "print(\"Extra Tree auc\",roc_auc_score(y_test,clfetc.predict(X_test)))\n",
    "print(\"Gradient Booster auc\",roc_auc_score(y_test,clfgb.predict(X_test)))\n"
   ]
  },
  {
   "cell_type": "code",
   "execution_count": 673,
   "metadata": {
    "id": "Qjh8-dioPdnk"
   },
   "outputs": [],
   "source": [
    "def get_stacking():\n",
    "\t# define the base models\n",
    "\tlevel0 = list()\n",
    "\tlevel0.append(('gb', GradientBoostingClassifier(max_depth=3, min_samples_split=2, n_estimators=100,learning_rate=0.1)))\n",
    "##\tlevel0.append(('knn', KNeighborsClassifier(metric='euclidean',n_neighbors=8,weights='distance')))\n",
    "\tlevel0.append(('rfc',RandomForestClassifier(class_weight='balanced',max_depth=10,min_samples_split=2,n_estimators=20,random_state=82)))\n",
    "\tlevel0.append(('etc', ExtraTreesClassifier(class_weight='balanced',max_depth= 10, min_samples_split= 2,n_estimators= 20, n_jobs=-1, random_state=82)))\n",
    "##\tlevel0.append(('mlp', MLPClassifier( hidden_layer_sizes=(100,100,100), max_iter=500, alpha=0.0001,\n",
    " ##                    solver='sgd', verbose=0,  random_state=21,tol=0.000000001)))\n",
    "\n",
    "  \n",
    "\t# define meta learner model\n",
    "\tlevel1 = xgb.XGBClassifier( class_weight= 'balanced',learning_rate= 0.1, n_estimators=200,reg_lambda=0.5,\n",
    "                                   subsample=0.9,\n",
    "                             random_state=82)\n",
    "\t# define the stacking ensemble\n",
    "\tmodel = StackingClassifier(estimators=level0, final_estimator=level1, cv=5)\n",
    "\treturn model\n",
    " "
   ]
  },
  {
   "cell_type": "code",
   "execution_count": 674,
   "metadata": {
    "id": "-q1fHcpSQfLw"
   },
   "outputs": [],
   "source": [
    "# get a list of models to evaluate\n",
    "def get_models():\n",
    "\tmodels = dict()\n",
    "\tmodels['rfc'] = RandomForestClassifier(class_weight= 'balanced', max_depth= 10, min_samples_split= 2, \n",
    "                           n_estimators= 20, random_state=82)\n",
    "\tmodels['gb'] = GradientBoostingClassifier(learning_rate= 0.1, n_estimators=100,subsample=1.0,random_state=82)\n",
    "\n",
    "\tmodels['etc'] = ExtraTreesClassifier(class_weight='balanced',max_depth=10,min_samples_split=2,n_estimators=20,n_jobs=-1,random_state=82)\n",
    "\t##models['knn'] = KNeighborsClassifier(metric='euclidean',n_neighbors=8,weights='distance')\n",
    "##\tmodels['mlp'] = MLPClassifier( hidden_layer_sizes=(100,100,100), max_iter=500, alpha=0.0001,\n",
    " ##                    solver='sgd', verbose=0,  random_state=21,tol=0.000000001 )\n",
    "\tmodels['stacking'] = get_stacking()\n",
    "\treturn models"
   ]
  },
  {
   "cell_type": "code",
   "execution_count": 675,
   "metadata": {
    "id": "MC37Cr2EXaIR"
   },
   "outputs": [],
   "source": [
    "# evaluate a give model using cross-validation\n",
    "def evaluate_model(model, X_train, y_train):\n",
    "\tcv = RepeatedStratifiedKFold(n_splits=5, n_repeats=3, random_state=1)\n",
    "\tscores = cross_val_score(model, X_train, y_train, scoring='accuracy', cv=cv, n_jobs=-1, error_score='raise')\n",
    "\treturn scores\n",
    " \n"
   ]
  },
  {
   "cell_type": "code",
   "execution_count": 682,
   "metadata": {
    "colab": {
     "base_uri": "https://localhost:8080/",
     "height": 561
    },
    "id": "blqkVMY1TzAS",
    "outputId": "10d7d3a9-2d3e-4695-ec0f-a531a80f77f6"
   },
   "outputs": [
    {
     "data": {
      "text/plain": [
       "StackingClassifier(cv=5,\n",
       "                   estimators=[('gb',\n",
       "                                GradientBoostingClassifier(ccp_alpha=0.0,\n",
       "                                                           criterion='friedman_mse',\n",
       "                                                           init=None,\n",
       "                                                           learning_rate=0.1,\n",
       "                                                           loss='deviance',\n",
       "                                                           max_depth=3,\n",
       "                                                           max_features=None,\n",
       "                                                           max_leaf_nodes=None,\n",
       "                                                           min_impurity_decrease=0.0,\n",
       "                                                           min_impurity_split=None,\n",
       "                                                           min_samples_leaf=1,\n",
       "                                                           min_samples_split=2,\n",
       "                                                           min_weight_fraction_leaf=0.0,\n",
       "                                                           n_estimators=100,\n",
       "                                                           n_iter_no_cha...\n",
       "                                                 colsample_bynode=1,\n",
       "                                                 colsample_bytree=1, gamma=0,\n",
       "                                                 learning_rate=0.1,\n",
       "                                                 max_delta_step=0, max_depth=3,\n",
       "                                                 min_child_weight=1,\n",
       "                                                 missing=None, n_estimators=200,\n",
       "                                                 n_jobs=1, nthread=None,\n",
       "                                                 objective='binary:logistic',\n",
       "                                                 random_state=82, reg_alpha=0,\n",
       "                                                 reg_lambda=0.5,\n",
       "                                                 scale_pos_weight=1, seed=None,\n",
       "                                                 silent=None, subsample=0.9,\n",
       "                                                 verbosity=1),\n",
       "                   n_jobs=None, passthrough=False, stack_method='auto',\n",
       "                   verbose=0)"
      ]
     },
     "execution_count": 682,
     "metadata": {
      "tags": []
     },
     "output_type": "execute_result"
    }
   ],
   "source": [
    "from sklearn.ensemble import StackingClassifier\n",
    "model=get_stacking()\n",
    "# fit the model on all available data\n",
    "model.fit(X_train, y_train)\n"
   ]
  },
  {
   "cell_type": "code",
   "execution_count": 680,
   "metadata": {
    "colab": {
     "base_uri": "https://localhost:8080/",
     "height": 85
    },
    "id": "JbojshmQ1KDm",
    "outputId": "b79c65f0-b7e3-441d-88f0-f327da46495f"
   },
   "outputs": [
    {
     "name": "stdout",
     "output_type": "stream",
     "text": [
      ">rfc 0.839 (0.011)\n",
      ">gb 0.864 (0.006)\n",
      ">etc 0.825 (0.013)\n",
      ">stacking 0.857 (0.007)\n"
     ]
    }
   ],
   "source": [
    "from numpy import mean\n",
    "from numpy import std\n",
    " \n",
    "# get the models to evaluate\n",
    "models = get_models()\n",
    "# evaluate the models and store results\n",
    "results, names = list(), list()\n",
    "\n",
    "for name, model in models.items():\n",
    "\tscores = evaluate_model(model, X_train, y_train)\n",
    "\tresults.append(scores)\n",
    "\tnames.append(name)\n",
    "\tprint('>%s %.3f (%.3f)' % (name, mean(scores), std(scores)))\n"
   ]
  },
  {
   "cell_type": "code",
   "execution_count": 678,
   "metadata": {
    "colab": {
     "base_uri": "https://localhost:8080/",
     "height": 265
    },
    "id": "gx4z1tuX0qy8",
    "outputId": "9fe1ffa9-0883-4fe4-ae1b-0e27932e3219"
   },
   "outputs": [
    {
     "data": {
      "image/png": "[encoded data removed]",
      "text/plain": [
       "<Figure size 432x288 with 1 Axes>"
      ]
     },
     "metadata": {
      "needs_background": "light",
      "tags": []
     },
     "output_type": "display_data"
    }
   ],
   "source": [
    "from matplotlib import pyplot \n",
    "# plot model performance for comparison\n",
    "pyplot.boxplot(results, labels=names, showmeans=True)\n",
    "pyplot.show()"
   ]
  },
  {
   "cell_type": "code",
   "execution_count": 683,
   "metadata": {
    "colab": {
     "base_uri": "https://localhost:8080/",
     "height": 51
    },
    "id": "UMKN0eGaAzW0",
    "outputId": "9f4aee8c-88a3-4746-c576-10b37f416f3b"
   },
   "outputs": [
    {
     "name": "stdout",
     "output_type": "stream",
     "text": [
      "accuracy 0.849912739965096\n",
      "auc 0.620249177377169\n"
     ]
    }
   ],
   "source": [
    "\n",
    "print(\"accuracy\",accuracy_score(y_test,model.predict(X_test)))\n",
    "print(\"auc\",roc_auc_score(y_test,model.predict(X_test)))"
   ]
  },
  {
   "cell_type": "code",
   "execution_count": 512,
   "metadata": {
    "colab": {
     "base_uri": "https://localhost:8080/",
     "height": 358
    },
    "id": "QxyEuaz1aFwt",
    "outputId": "e0785530-0203-49a2-c1db-1e0db4a1f6a8"
   },
   "outputs": [
    {
     "name": "stdout",
     "output_type": "stream",
     "text": [
      "[[ 47 138]\n",
      " [ 31 930]]\n"
     ]
    },
    {
     "data": {
      "image/png": "[encoded data removed]",
      "text/plain": [
       "<Figure size 360x360 with 2 Axes>"
      ]
     },
     "metadata": {
      "needs_background": "light",
      "tags": []
     },
     "output_type": "display_data"
    }
   ],
   "source": [
    "from sklearn import metrics\n",
    "targets = [\"Low\", \"High\"]\n",
    "confusion_matrix = metrics.confusion_matrix(y_test,model.predict(X_test))\n",
    "print (confusion_matrix)\n",
    "show_confusion_matrix(confusion_matrix, targets)"
   ]
  },
  {
   "cell_type": "code",
   "execution_count": 513,
   "metadata": {
    "id": "rm4oJgjp2pwF"
   },
   "outputs": [],
   "source": [
    "preds = model.predict_proba(X_test1.values)\n",
    "submithis = pd.DataFrame([X_test1.index,preds[:,1]]).T\n",
    "submithis.columns = ['id','output']\n",
    "submithis.id = submithis.id.astype(int)\n",
    "submithis.to_csv('submissionensemble1.csv',index=False)  "
   ]
  },
  {
   "cell_type": "markdown",
   "metadata": {
    "id": "GWWoxZo0iQXw"
   },
   "source": [
    "## Interpretation:\n",
    "\n",
    "#Stacking model comined all the results of three different models and gave the Auc output of 62%"
   ]
  },
  {
   "cell_type": "markdown",
   "metadata": {
    "id": "51DnHZvoUQJP"
   },
   "source": [
    "## Stacking Random Forest,Extra Tree and Gradient Booster and Level1 is Random Forest\n",
    "\n",
    "All Parameter are same a above"
   ]
  },
  {
   "cell_type": "code",
   "execution_count": 616,
   "metadata": {
    "id": "SZc87_3OljhQ"
   },
   "outputs": [],
   "source": [
    "# Some useful parameters which will come in handy later on\n",
    "ntrain = X_train.shape[0]\n",
    "ntest = X_test.shape[0]\n",
    "\n",
    "SEED = 0 # for reproducibility\n",
    "NFOLDS = 5 # set folds for out-of-fold prediction\n",
    "kf = KFold(n_splits= NFOLDS,shuffle=True, random_state=SEED)\n",
    "\n",
    "# Sklearn classifier\n",
    "class SklearnHelper:\n",
    "    def __init__(self, clf, seed=0, params=None):\n",
    "        params['random_state'] = seed\n",
    "        self.clf = clf(**params)\n",
    "\n",
    "    def train(self, x_train, y_train):\n",
    "        self.clf.fit(x_train, y_train)\n",
    "\n",
    "    def predict(self, x):\n",
    "        return self.clf.predict(x)\n",
    "    \n",
    "    def predict_proba(self, x):\n",
    "        return self.clf.predict_proba(x)\n",
    "    \n",
    "    def fit(self,x,y):\n",
    "        return self.clf.fit(x,y)\n",
    "    \n",
    "    def feature_importances(self,x,y):\n",
    "        print(self.clf.fit(x,y).feature_importances_)"
   ]
  },
  {
   "cell_type": "code",
   "execution_count": 539,
   "metadata": {
    "id": "vintNiDfHSiu"
   },
   "outputs": [],
   "source": [
    "def get_oof(clf, x_train, y_train, x_test):\n",
    "    oof_train = np.zeros((ntrain,))\n",
    "    oof_test = np.zeros((ntest,))\n",
    "    oof_test_skf = np.empty((NFOLDS, ntest))\n",
    "\n",
    "    for i, (train_index, test_index) in enumerate(kf.split(x_train)):\n",
    "        x_tr = x_train[train_index]\n",
    "        y_tr = y_train[train_index]\n",
    "        x_te = x_train[test_index]\n",
    "\n",
    "        clf.train(x_tr, y_tr)\n",
    "\n",
    "        oof_train[test_index] = clf.predict_proba(x_te)[:,1]\n",
    "        oof_test_skf[i, :] = clf.predict_proba(x_test)[:,1]\n",
    "\n",
    "    oof_test[:] = oof_test_skf.mean(axis=0)\n",
    "    return oof_train.reshape(-1, 1), oof_test.reshape(-1, 1)"
   ]
  },
  {
   "cell_type": "code",
   "execution_count": 540,
   "metadata": {
    "id": "-xS6VEb7Habb"
   },
   "outputs": [],
   "source": [
    "# Put in our parameters for said classifiers\n",
    "# Random Forest parameters\n",
    "rf_params = {\n",
    "    'max_depth': 10, \n",
    "    'min_samples_split': 2,\n",
    "\t  'n_estimators': 20,\n",
    "\t  'class_weight' : 'balanced',\n",
    "    'verbose': 0\n",
    "}\n",
    "\n",
    "# Extra Trees Parameters\n",
    "et_params = {\n",
    "    'n_jobs': -1,\n",
    "    'n_estimators':20,\n",
    "    'max_depth': 10,\n",
    "    'min_samples_leaf': 2,\n",
    "    'verbose': 0\n",
    "}\n",
    "\n",
    "\n",
    "# Gradient Boosting parameters\n",
    "gb_params = {\n",
    "    'n_estimators': 300,\n",
    "    'max_depth': 5,\n",
    "    'min_samples_leaf': 2,\n",
    "    'verbose': 0\n",
    "}\n",
    "\n"
   ]
  },
  {
   "cell_type": "code",
   "execution_count": 541,
   "metadata": {
    "id": "dbdgfBKdH2pJ"
   },
   "outputs": [],
   "source": [
    "# Create 5 objects that represent our 3 models\n",
    "rf = SklearnHelper(clf=RandomForestClassifier, seed=SEED, params=rf_params)\n",
    "et = SklearnHelper(clf=ExtraTreesClassifier, seed=SEED, params=et_params)\n",
    "gb = SklearnHelper(clf=GradientBoostingClassifier, seed=SEED, params=gb_params)\n"
   ]
  },
  {
   "cell_type": "code",
   "execution_count": 617,
   "metadata": {
    "colab": {
     "base_uri": "https://localhost:8080/",
     "height": 34
    },
    "id": "mU3pFOFmH7RP",
    "outputId": "bba2d13b-ed1a-4f95-fb0b-616ce0e0b07d"
   },
   "outputs": [
    {
     "name": "stdout",
     "output_type": "stream",
     "text": [
      "Training is complete\n"
     ]
    }
   ],
   "source": [
    "# Create our OOF train and test predictions. These base results will be used as new features\n",
    "rf_oof_train, rf_oof_test = get_oof(rf,X_train.values, y_train.values, X_test) # Random Forest\n",
    "et_oof_train, et_oof_test = get_oof(et, X_train.values, y_train.values, X_test) # Extra Trees\n",
    "gb_oof_train, gb_oof_test = get_oof(gb,X_train.values, y_train.values, X_test) # Gradient Boost\n",
    "#knn_oof_train, knn_oof_test = get_oof(knn,X_train, Y_train, X_test) # Support Vector Classifier\n",
    "\n",
    "print(\"Training is complete\")"
   ]
  },
  {
   "cell_type": "code",
   "execution_count": 606,
   "metadata": {
    "colab": {
     "base_uri": "https://localhost:8080/",
     "height": 204
    },
    "id": "PSfrgzsQISpH",
    "outputId": "714f2a08-e8d9-46c4-995a-7260c9120718"
   },
   "outputs": [
    {
     "data": {
      "text/html": [
       "<div>\n",
       "<style scoped>\n",
       "    .dataframe tbody tr th:only-of-type {\n",
       "        vertical-align: middle;\n",
       "    }\n",
       "\n",
       "    .dataframe tbody tr th {\n",
       "        vertical-align: top;\n",
       "    }\n",
       "\n",
       "    .dataframe thead th {\n",
       "        text-align: right;\n",
       "    }\n",
       "</style>\n",
       "<table border=\"1\" class=\"dataframe\">\n",
       "  <thead>\n",
       "    <tr style=\"text-align: right;\">\n",
       "      <th></th>\n",
       "      <th>ExtraTrees</th>\n",
       "      <th>RandomForest</th>\n",
       "      <th>GradientBoost</th>\n",
       "    </tr>\n",
       "  </thead>\n",
       "  <tbody>\n",
       "    <tr>\n",
       "      <th>0</th>\n",
       "      <td>0.875038</td>\n",
       "      <td>0.627870</td>\n",
       "      <td>0.992552</td>\n",
       "    </tr>\n",
       "    <tr>\n",
       "      <th>1</th>\n",
       "      <td>0.764446</td>\n",
       "      <td>0.830529</td>\n",
       "      <td>0.950955</td>\n",
       "    </tr>\n",
       "    <tr>\n",
       "      <th>2</th>\n",
       "      <td>0.926062</td>\n",
       "      <td>0.903794</td>\n",
       "      <td>0.994377</td>\n",
       "    </tr>\n",
       "    <tr>\n",
       "      <th>3</th>\n",
       "      <td>0.890235</td>\n",
       "      <td>0.731331</td>\n",
       "      <td>0.986017</td>\n",
       "    </tr>\n",
       "    <tr>\n",
       "      <th>4</th>\n",
       "      <td>0.900245</td>\n",
       "      <td>0.690367</td>\n",
       "      <td>0.971468</td>\n",
       "    </tr>\n",
       "  </tbody>\n",
       "</table>\n",
       "</div>"
      ],
      "text/plain": [
       "   ExtraTrees  RandomForest  GradientBoost\n",
       "0    0.875038      0.627870       0.992552\n",
       "1    0.764446      0.830529       0.950955\n",
       "2    0.926062      0.903794       0.994377\n",
       "3    0.890235      0.731331       0.986017\n",
       "4    0.900245      0.690367       0.971468"
      ]
     },
     "execution_count": 606,
     "metadata": {
      "tags": []
     },
     "output_type": "execute_result"
    }
   ],
   "source": [
    "base_predictions_train = pd.DataFrame( {\n",
    "     'ExtraTrees': et_oof_train.ravel(),\n",
    "     'RandomForest': rf_oof_train.ravel(),\n",
    "     'GradientBoost': gb_oof_train.ravel()\n",
    "     #'SVM': svc_oof_train.ravel()                                   \n",
    "    })\n",
    "base_predictions_train.head()"
   ]
  },
  {
   "cell_type": "code",
   "execution_count": 607,
   "metadata": {
    "colab": {
     "base_uri": "https://localhost:8080/",
     "height": 142
    },
    "id": "-EJuqYV_IdEq",
    "outputId": "a8ccb3fa-646d-419b-fad2-2014ad4fa93a"
   },
   "outputs": [
    {
     "data": {
      "text/html": [
       "<div>\n",
       "<style scoped>\n",
       "    .dataframe tbody tr th:only-of-type {\n",
       "        vertical-align: middle;\n",
       "    }\n",
       "\n",
       "    .dataframe tbody tr th {\n",
       "        vertical-align: top;\n",
       "    }\n",
       "\n",
       "    .dataframe thead th {\n",
       "        text-align: right;\n",
       "    }\n",
       "</style>\n",
       "<table border=\"1\" class=\"dataframe\">\n",
       "  <thead>\n",
       "    <tr style=\"text-align: right;\">\n",
       "      <th></th>\n",
       "      <th>ExtraTrees</th>\n",
       "      <th>RandomForest</th>\n",
       "      <th>GradientBoost</th>\n",
       "    </tr>\n",
       "  </thead>\n",
       "  <tbody>\n",
       "    <tr>\n",
       "      <th>ExtraTrees</th>\n",
       "      <td>1.000000</td>\n",
       "      <td>0.783733</td>\n",
       "      <td>0.809132</td>\n",
       "    </tr>\n",
       "    <tr>\n",
       "      <th>RandomForest</th>\n",
       "      <td>0.783733</td>\n",
       "      <td>1.000000</td>\n",
       "      <td>0.638013</td>\n",
       "    </tr>\n",
       "    <tr>\n",
       "      <th>GradientBoost</th>\n",
       "      <td>0.809132</td>\n",
       "      <td>0.638013</td>\n",
       "      <td>1.000000</td>\n",
       "    </tr>\n",
       "  </tbody>\n",
       "</table>\n",
       "</div>"
      ],
      "text/plain": [
       "               ExtraTrees  RandomForest  GradientBoost\n",
       "ExtraTrees       1.000000      0.783733       0.809132\n",
       "RandomForest     0.783733      1.000000       0.638013\n",
       "GradientBoost    0.809132      0.638013       1.000000"
      ]
     },
     "execution_count": 607,
     "metadata": {
      "tags": []
     },
     "output_type": "execute_result"
    }
   ],
   "source": [
    "#You are looking for models that score high individually but uncorrelated \n",
    "base_predictions_train.corr()"
   ]
  },
  {
   "cell_type": "code",
   "execution_count": 623,
   "metadata": {
    "id": "YQR5JG8Qpfrb"
   },
   "outputs": [],
   "source": [
    "x_train = np.concatenate(( et_oof_train, rf_oof_train,  gb_oof_train), axis=1)\n",
    "x_test = np.concatenate(( et_oof_test, rf_oof_test, gb_oof_test), axis=1)"
   ]
  },
  {
   "cell_type": "code",
   "execution_count": 624,
   "metadata": {
    "id": "svJ-I70Hpo-z"
   },
   "outputs": [],
   "source": [
    "rfc = RandomForestClassifier(\n",
    " class_weight= 'balanced', n_estimators=20,min_samples_split=2,max_depth=10,\n",
    "                                  random_state=82).fit(x_train, y_train)\n",
    "\n",
    "predictions = rfc.predict_proba(x_test)"
   ]
  },
  {
   "cell_type": "code",
   "execution_count": 625,
   "metadata": {
    "colab": {
     "base_uri": "https://localhost:8080/",
     "height": 51
    },
    "id": "dYxnzWmsLnsc",
    "outputId": "16f42c1d-dd2c-47ac-a5b7-b8fa7b5de4d0"
   },
   "outputs": [
    {
     "name": "stdout",
     "output_type": "stream",
     "text": [
      "accuracy 0.8211169284467714\n",
      "auc 0.696923249992969\n"
     ]
    }
   ],
   "source": [
    "print(\"accuracy\",accuracy_score(y_test,rfc.predict(x_test)))\n",
    "print(\"auc\",roc_auc_score(y_test,rfc.predict(x_test)))"
   ]
  },
  {
   "cell_type": "code",
   "execution_count": 614,
   "metadata": {
    "id": "AQ5x9XLRqAc_"
   },
   "outputs": [],
   "source": [
    "\n",
    "submithis = pd.DataFrame([X_test1.index,predictions[:,1]]).T\n",
    "submithis.columns = ['id','output']\n",
    "submithis.id = submithis.id.astype(int)\n",
    "submithis.to_csv('submissionensemble.csv',index=False)  "
   ]
  },
  {
   "cell_type": "markdown",
   "metadata": {
    "id": "7PrPKb27kE-o"
   },
   "source": [
    "## Interpretation: Stacking three model together gave the AUC of 69% which is the average of all the models."
   ]
  },
  {
   "cell_type": "markdown",
   "metadata": {
    "id": "GDAkSjtFHwQh"
   },
   "source": [
    "##All The Methods above gave AUC less than 70% , so we tried below nueral net model"
   ]
  },
  {
   "cell_type": "markdown",
   "metadata": {
    "id": "kvgg_Q9w5-wx"
   },
   "source": [
    "#Neural Network:\n"
   ]
  },
  {
   "cell_type": "markdown",
   "metadata": {
    "id": "PF1cQXjci9Hl"
   },
   "source": [
    "We will be exploring Neural networks here. Our assumption is that neural network will perform better as it might be able to learn and predict better for which the other models were unable to perform well. \n",
    "\n",
    "We had calculated the class weights as the data set is highly imbalanced. Upon running multiple models, we noticed that the models with class weights did not do very well and thus we have not utilized class weights in our final model. \n",
    "\n",
    "Our strategy for finding the best neural network was to create a base line model and then perform iterative grid search on each of the following parameters and hyperparameters:\n",
    "\n",
    "\n",
    "* number of epochs\n",
    "* batch_size\n",
    "*   drop out rate\n",
    "*   number of layers\n",
    "*   learn rate\n",
    "*   momentum if the ideal parameter was SGD\n"
   ]
  },
  {
   "cell_type": "code",
   "execution_count": null,
   "metadata": {
    "id": "q1rjPEnNZkFZ"
   },
   "outputs": [],
   "source": [
    "#Estimating class weights\n",
    "from sklearn.utils import class_weight\n",
    "\n",
    "class_weights = dict(zip(np.unique(y_train), class_weight.compute_class_weight('balanced',\n",
    "                                                 np.unique(y_train),\n",
    "                                                 y_train))) "
   ]
  },
  {
   "cell_type": "code",
   "execution_count": null,
   "metadata": {
    "colab": {
     "base_uri": "https://localhost:8080/",
     "height": 34
    },
    "id": "aufUTpuLaBLw",
    "outputId": "95abd00d-35fc-4332-f51a-78a1e787ab79"
   },
   "outputs": [
    {
     "data": {
      "text/plain": [
       "{0: 3.3235930735930737, 1: 0.58853967037179}"
      ]
     },
     "execution_count": 222,
     "metadata": {
      "tags": []
     },
     "output_type": "execute_result"
    }
   ],
   "source": [
    "class_weights"
   ]
  },
  {
   "cell_type": "markdown",
   "metadata": {
    "id": "8JZRaCv75-w8"
   },
   "source": [
    "\n",
    "\n",
    "**NEURAL NETWORKS BASELINE METHOD** "
   ]
  },
  {
   "cell_type": "code",
   "execution_count": null,
   "metadata": {
    "id": "qx9ONX2H5-w8"
   },
   "outputs": [],
   "source": [
    "from numpy.random import seed\n",
    "from tensorflow import keras\n",
    "from tensorflow.keras import layers\n",
    "\n",
    "def create_model(lyrs=[12,8], act='relu', opt='SGD',learn_rate=0.01,momentum=0,dr=0.2):\n",
    "    \n",
    "    # set random seed for reproducibility\n",
    "    seed(1)\n",
    "\n",
    "    model = Sequential()\n",
    "    \n",
    "    # create first hidden layer\n",
    "    model.add(Dense(lyrs[0], input_dim=X_train.shape[1], activation=act))\n",
    "    \n",
    "    if(len(lyrs)>1):\n",
    "      # create additional hidden layers\n",
    "      for i in range(1,len(lyrs)):\n",
    "          model.add(Dense(lyrs[i], activation=act))\n",
    "    else:\n",
    "      # add dropout, default is none\n",
    "      model.add(Dropout(dr))\n",
    "      \n",
    "    model.add(Dropout(dr))\n",
    "\n",
    "    # create output layer\n",
    "    model.add(Dense(1, activation='sigmoid'))  # output layer\n",
    "    \n",
    "   # optimizer=keras.optimizers.SGD(lr=learn_rate,momentum=momentum)\n",
    "    model.compile(loss='binary_crossentropy', optimizer=opt, metrics=['accuracy'])\n",
    "    \n",
    "    return model"
   ]
  },
  {
   "cell_type": "code",
   "execution_count": null,
   "metadata": {
    "colab": {
     "base_uri": "https://localhost:8080/",
     "height": 306
    },
    "id": "4NjyGI4j5-w-",
    "outputId": "d2c31494-3d21-477b-8eed-6c92973cecc6"
   },
   "outputs": [
    {
     "name": "stdout",
     "output_type": "stream",
     "text": [
      "Model: \"sequential_1\"\n",
      "_________________________________________________________________\n",
      "Layer (type)                 Output Shape              Param #   \n",
      "=================================================================\n",
      "dense_6 (Dense)              (None, 12)                612       \n",
      "_________________________________________________________________\n",
      "dense_7 (Dense)              (None, 8)                 104       \n",
      "_________________________________________________________________\n",
      "dropout_1 (Dropout)          (None, 8)                 0         \n",
      "_________________________________________________________________\n",
      "dense_8 (Dense)              (None, 1)                 9         \n",
      "=================================================================\n",
      "Total params: 725\n",
      "Trainable params: 725\n",
      "Non-trainable params: 0\n",
      "_________________________________________________________________\n",
      "None\n"
     ]
    }
   ],
   "source": [
    "\n",
    "model = create_model()\n",
    "print(model.summary())"
   ]
  },
  {
   "cell_type": "code",
   "execution_count": null,
   "metadata": {
    "colab": {
     "base_uri": "https://localhost:8080/",
     "height": 51
    },
    "id": "VR6vYjQ35-xA",
    "outputId": "52062956-465b-4c0b-851b-7730b16b4206"
   },
   "outputs": [
    {
     "name": "stdout",
     "output_type": "stream",
     "text": [
      "\n",
      "val_acc: 83.54%\n"
     ]
    }
   ],
   "source": [
    "# train model on full train set and validation set\n",
    "training_results = model.fit(X_train, y_train, batch_size=64, epochs=50, validation_data=(X_test, y_test), verbose=0)\n",
    "val_acc = np.mean(training_results.history['val_accuracy'])\n",
    "print(\"\\n%s: %.2f%%\" % ('val_acc', val_acc*100))"
   ]
  },
  {
   "cell_type": "code",
   "execution_count": null,
   "metadata": {
    "colab": {
     "base_uri": "https://localhost:8080/",
     "height": 68
    },
    "id": "SzNiXt5N5-xD",
    "outputId": "24032418-97d8-49a4-f017-789c19b1b60f"
   },
   "outputs": [
    {
     "name": "stdout",
     "output_type": "stream",
     "text": [
      "96/96 [==============================] - 0s 2ms/step - loss: 0.3681 - accuracy: 0.8499\n",
      "\n",
      "accuracy: 84.99%\n"
     ]
    }
   ],
   "source": [
    "# evaluate the model\n",
    "scores = model.evaluate(X_train, y_train)\n",
    "print(\"\\n%s: %.2f%%\" % (model.metrics_names[1], scores[1]*100))\n",
    "\n"
   ]
  },
  {
   "cell_type": "code",
   "execution_count": null,
   "metadata": {
    "colab": {
     "base_uri": "https://localhost:8080/",
     "height": 390
    },
    "id": "T8fG-G675-xE",
    "outputId": "334dc2ff-aabf-4765-97e4-c287cd7c1746"
   },
   "outputs": [
    {
     "data": {
      "image/png": "[encoded data removed]",
      "text/plain": [
       "<Figure size 864x432 with 2 Axes>"
      ]
     },
     "metadata": {
      "needs_background": "light",
      "tags": []
     },
     "output_type": "display_data"
    }
   ],
   "source": [
    "acc = [training_results.history['accuracy'], training_results.history['val_accuracy']]\n",
    "loss = [training_results.history['loss'], training_results.history['val_loss']]\n",
    "\n",
    "epoch = range(50)\n",
    "\n",
    "plt.figure(figsize=(12, 6))\n",
    "plt.subplot(1, 2, 1)\n",
    "plt.plot(epoch, acc[0], label='Training Accuracy')\n",
    "plt.plot(epoch, acc[1], label='Validation Accuracy')\n",
    "plt.legend(loc='lower right')\n",
    "plt.title('Training and Validation Accuracy')\n",
    "\n",
    "plt.subplot(1, 2, 2)\n",
    "plt.plot(epoch, loss[0], label='Training Loss')\n",
    "plt.plot(epoch, loss[1], label='Validation Loss')\n",
    "plt.legend(loc='upper right')\n",
    "plt.title('Training and Validation Loss')\n",
    "plt.show()"
   ]
  },
  {
   "cell_type": "markdown",
   "metadata": {
    "id": "Vww6Q5oI5-xG"
   },
   "source": [
    "**Fixing batch size and epochs**\n"
   ]
  },
  {
   "cell_type": "code",
   "execution_count": null,
   "metadata": {
    "id": "Nkn3wzpC5-xG"
   },
   "outputs": [],
   "source": [
    "# create model\n",
    "model = KerasClassifier(build_fn=create_model, verbose=0)\n",
    "\n",
    "# define the grid search parameters\n",
    "batch_size = [16, 32, 64]\n",
    "epochs = [50,100,200]\n",
    "param_grid = dict(batch_size=batch_size, epochs=epochs)\n",
    "\n",
    "# search the grid\n",
    "grid = GridSearchCV(estimator=model, \n",
    "                    param_grid=param_grid,\n",
    "                    cv=3,\n",
    "                    verbose=2)  # include n_jobs=-1 if you are using CPU\n",
    "\n",
    "grid_result = grid.fit(X_train, y_train)"
   ]
  },
  {
   "cell_type": "code",
   "execution_count": null,
   "metadata": {
    "colab": {
     "base_uri": "https://localhost:8080/",
     "height": 187
    },
    "id": "8EceM1k_5-xI",
    "outputId": "1d05bf8a-07cc-4e87-a725-accccea5b6e1"
   },
   "outputs": [
    {
     "name": "stdout",
     "output_type": "stream",
     "text": [
      "Best: 0.849562 using {'batch_size': 32, 'epochs': 50}\n",
      "0.849236 (0.002952) with: {'batch_size': 16, 'epochs': 50}\n",
      "0.844354 (0.008765) with: {'batch_size': 16, 'epochs': 100}\n",
      "0.846306 (0.004324) with: {'batch_size': 16, 'epochs': 200}\n",
      "0.849562 (0.002695) with: {'batch_size': 32, 'epochs': 50}\n",
      "0.849236 (0.002952) with: {'batch_size': 32, 'epochs': 100}\n",
      "0.849236 (0.002952) with: {'batch_size': 32, 'epochs': 200}\n",
      "0.849562 (0.002695) with: {'batch_size': 64, 'epochs': 50}\n",
      "0.849562 (0.002695) with: {'batch_size': 64, 'epochs': 100}\n",
      "0.848911 (0.003254) with: {'batch_size': 64, 'epochs': 200}\n"
     ]
    }
   ],
   "source": [
    "# summarize results\n",
    "print(\"Best: %f using %s\" % (grid_result.best_score_, grid_result.best_params_))\n",
    "means = grid_result.cv_results_['mean_test_score']\n",
    "stds = grid_result.cv_results_['std_test_score']\n",
    "params = grid_result.cv_results_['params']\n",
    "for mean, stdev, param in zip(means, stds, params):\n",
    "    print(\"%f (%f) with: %r\" % (mean, stdev, param))"
   ]
  },
  {
   "cell_type": "markdown",
   "metadata": {
    "id": "BRhZcKSZ5-xJ"
   },
   "source": [
    "**Fixing Optimizer**"
   ]
  },
  {
   "cell_type": "code",
   "execution_count": null,
   "metadata": {
    "id": "hi1VVi5h5-xJ"
   },
   "outputs": [],
   "source": [
    "# create model\n",
    "model = KerasClassifier(build_fn=create_model, epochs=50, batch_size=32, verbose=0)\n",
    "\n",
    "# define the grid search parameters\n",
    "optimizer = ['SGD', 'RMSprop', 'Adagrad', 'Adadelta', 'Adam', 'Nadam']\n",
    "param_grid = dict(opt=optimizer)\n",
    "\n",
    "# search the grid\n",
    "grid = GridSearchCV(estimator=model, param_grid=param_grid, verbose=2)\n",
    "grid_result = grid.fit(X_train, y_train)"
   ]
  },
  {
   "cell_type": "code",
   "execution_count": null,
   "metadata": {
    "colab": {
     "base_uri": "https://localhost:8080/",
     "height": 136
    },
    "id": "XTEmxk335-xM",
    "outputId": "37c0a1fb-7615-48c2-d8c9-6188b26eff72"
   },
   "outputs": [
    {
     "name": "stdout",
     "output_type": "stream",
     "text": [
      "Best: 0.850211 using {'opt': 'RMSprop'}\n",
      "0.849560 (0.006418) with: {'opt': 'SGD'}\n",
      "0.850211 (0.006688) with: {'opt': 'RMSprop'}\n",
      "0.849560 (0.006418) with: {'opt': 'Adagrad'}\n",
      "0.806614 (0.057154) with: {'opt': 'Adadelta'}\n",
      "0.849562 (0.007654) with: {'opt': 'Adam'}\n",
      "0.845982 (0.009802) with: {'opt': 'Nadam'}\n"
     ]
    }
   ],
   "source": [
    "# summarize results\n",
    "print(\"Best: %f using %s\" % (grid_result.best_score_, grid_result.best_params_))\n",
    "means = grid_result.cv_results_['mean_test_score']\n",
    "stds = grid_result.cv_results_['std_test_score']\n",
    "params = grid_result.cv_results_['params']\n",
    "for mean, stdev, param in zip(means, stds, params):\n",
    "    print(\"%f (%f) with: %r\" % (mean, stdev, param))"
   ]
  },
  {
   "cell_type": "markdown",
   "metadata": {
    "id": "1Ol03mnK5-xO"
   },
   "source": [
    "**Optimizing Hidden layers**"
   ]
  },
  {
   "cell_type": "code",
   "execution_count": null,
   "metadata": {
    "id": "EcQVHm6K5-xO"
   },
   "outputs": [],
   "source": [
    "# create model\n",
    "model = KerasClassifier(build_fn=create_model, \n",
    "                        epochs=50, batch_size=32, verbose=0)\n",
    "\n",
    "# define the grid search parameters\n",
    "layers = [(12,8,4),(128,64,32,16,8),(64,32,16),(256,128,64,32,16)]\n",
    "optimizer = ['RMSprop']\n",
    "\n",
    "\n",
    "param_grid = dict(lyrs=layers,opt=optimizer)\n",
    "\n",
    "# search the grid\n",
    "grid = GridSearchCV(estimator=model, param_grid=param_grid, verbose=2)\n",
    "grid_result = grid.fit(X_train, y_train)"
   ]
  },
  {
   "cell_type": "code",
   "execution_count": null,
   "metadata": {
    "colab": {
     "base_uri": "https://localhost:8080/",
     "height": 102
    },
    "id": "2oIuuEQj5-xQ",
    "outputId": "db4ff684-3bd9-4d63-8701-7d6195c4dcb3"
   },
   "outputs": [
    {
     "name": "stdout",
     "output_type": "stream",
     "text": [
      "Best: 0.857704 using {'lyrs': (256, 128, 64, 32, 16), 'opt': 'RMSprop'}\n",
      "0.848908 (0.006650) with: {'lyrs': (12, 8, 4), 'opt': 'RMSprop'}\n",
      "0.840113 (0.031406) with: {'lyrs': (128, 64, 32, 16, 8), 'opt': 'RMSprop'}\n",
      "0.852820 (0.011550) with: {'lyrs': (64, 32, 16), 'opt': 'RMSprop'}\n",
      "0.857704 (0.007692) with: {'lyrs': (256, 128, 64, 32, 16), 'opt': 'RMSprop'}\n"
     ]
    }
   ],
   "source": [
    "# summarize results\n",
    "print(\"Best: %f using %s\" % (grid_result.best_score_, grid_result.best_params_))\n",
    "means = grid_result.cv_results_['mean_test_score']\n",
    "stds = grid_result.cv_results_['std_test_score']\n",
    "params = grid_result.cv_results_['params']\n",
    "for mean, stdev, param in zip(means, stds, params):\n",
    "    print(\"%f (%f) with: %r\" % (mean, stdev, param))"
   ]
  },
  {
   "cell_type": "markdown",
   "metadata": {
    "id": "5Z_oL9_55-xR"
   },
   "source": [
    "**Optimizing Dropout Rate**"
   ]
  },
  {
   "cell_type": "code",
   "execution_count": null,
   "metadata": {
    "id": "oBmlmoM15-xS"
   },
   "outputs": [],
   "source": [
    "model = KerasClassifier(build_fn=create_model, \n",
    "                        epochs=50, batch_size=32, verbose=0)\n",
    "\n",
    "# define the grid search parameters\n",
    "drops = [0.0, 0.01, 0.05, 0.1, 0.2, 0.5]\n",
    "optimizer = ['RMSprop']\n",
    "layers = [(256, 128, 64, 32, 16)]\n",
    "param_grid = dict(dr=drops,lyrs=layers,opt=optimizer)\n",
    "grid = GridSearchCV(estimator=model, param_grid=param_grid, verbose=2)\n",
    "grid_result = grid.fit(X_train, y_train)"
   ]
  },
  {
   "cell_type": "code",
   "execution_count": null,
   "metadata": {
    "colab": {
     "base_uri": "https://localhost:8080/",
     "height": 136
    },
    "id": "5fb4pNMx5-xT",
    "outputId": "ccd25b9d-f8e9-431f-863e-61d82e080542"
   },
   "outputs": [
    {
     "name": "stdout",
     "output_type": "stream",
     "text": [
      "Best: 0.860637 using {'dr': 0.2, 'lyrs': (256, 128, 64, 32, 16), 'opt': 'RMSprop'}\n",
      "0.856398 (0.002402) with: {'dr': 0.0, 'lyrs': (256, 128, 64, 32, 16), 'opt': 'RMSprop'}\n",
      "0.855097 (0.003525) with: {'dr': 0.01, 'lyrs': (256, 128, 64, 32, 16), 'opt': 'RMSprop'}\n",
      "0.850544 (0.014718) with: {'dr': 0.05, 'lyrs': (256, 128, 64, 32, 16), 'opt': 'RMSprop'}\n",
      "0.846965 (0.016206) with: {'dr': 0.1, 'lyrs': (256, 128, 64, 32, 16), 'opt': 'RMSprop'}\n",
      "0.860637 (0.009337) with: {'dr': 0.2, 'lyrs': (256, 128, 64, 32, 16), 'opt': 'RMSprop'}\n",
      "0.847940 (0.013023) with: {'dr': 0.5, 'lyrs': (256, 128, 64, 32, 16), 'opt': 'RMSprop'}\n"
     ]
    }
   ],
   "source": [
    "# summarize results\n",
    "print(\"Best: %f using %s\" % (grid_result.best_score_, grid_result.best_params_))\n",
    "means = grid_result.cv_results_['mean_test_score']\n",
    "stds = grid_result.cv_results_['std_test_score']\n",
    "params = grid_result.cv_results_['params']\n",
    "for mean, stdev, param in zip(means, stds, params):\n",
    "    print(\"%f (%f) with: %r\" % (mean, stdev, param))"
   ]
  },
  {
   "cell_type": "markdown",
   "metadata": {
    "id": "VFyZvCdE5-xV"
   },
   "source": [
    "**Learning Rate**"
   ]
  },
  {
   "cell_type": "code",
   "execution_count": null,
   "metadata": {
    "id": "ZBKl89Up5-xV"
   },
   "outputs": [],
   "source": [
    "from numpy.random import seed\n",
    "from tensorflow import keras\n",
    "from tensorflow.keras import layers\n",
    "\n",
    "def create_model(lyrs=(256, 128, 64, 32, 16), act='relu', opt='RMSprop',learn_rate=0.1,momentum=0,dr=0.2):\n",
    "    \n",
    "    # set random seed for reproducibility\n",
    "    seed(1)\n",
    "\n",
    "    model = Sequential()\n",
    "    \n",
    "    # create first hidden layer\n",
    "    model.add(Dense(lyrs[0], input_dim=X_train.shape[1], activation=act,kernel_initializer='he_uniform'))\n",
    "    \n",
    "    if(len(lyrs)>1):\n",
    "      # create additional hidden layers\n",
    "      for i in range(1,len(lyrs)):\n",
    "          model.add(Dense(lyrs[i], activation=act,kernel_initializer='he_uniform'))\n",
    "    else:\n",
    "      # add dropout, default is none\n",
    "      model.add(Dropout(dr))\n",
    "    \n",
    "    model.add(Dropout(dr))\n",
    "\n",
    "    # create output layer\n",
    "    model.add(Dense(1, activation='sigmoid'))  # output layer\n",
    "    \n",
    "\n",
    "    optimizer=keras.optimizers.RMSprop(lr=learn_rate)\n",
    "    model.compile(loss='binary_crossentropy', optimizer=optimizer, metrics=['accuracy'])\n",
    "    \n",
    "    return model"
   ]
  },
  {
   "cell_type": "code",
   "execution_count": null,
   "metadata": {
    "id": "4vLIbXG-5-xY"
   },
   "outputs": [],
   "source": [
    "model = KerasClassifier(build_fn=create_model, \n",
    "                        epochs=50, batch_size=32, verbose=0)\n",
    "\n",
    "# define the grid search parameters\n",
    "lr=[0,0.1,0.01,0.001,0.0001,0.2]\n",
    "#momentum = [0.0, 0.2, 0.4, 0.6, 0.8, 0.9]\n",
    "param_grid = dict(learn_rate=lr)\n",
    "grid = GridSearchCV(estimator=model, param_grid=param_grid, verbose=2)\n",
    "grid_result = grid.fit(X_train, y_train)"
   ]
  },
  {
   "cell_type": "code",
   "execution_count": null,
   "metadata": {
    "colab": {
     "base_uri": "https://localhost:8080/",
     "height": 136
    },
    "id": "PXcUeBzP5-xa",
    "outputId": "8c322a46-78d4-4c80-8ebb-67332f72de62"
   },
   "outputs": [
    {
     "name": "stdout",
     "output_type": "stream",
     "text": [
      "Best: 0.860960 using {'learn_rate': 0.001}\n",
      "0.433177 (0.342514) with: {'learn_rate': 0}\n",
      "0.849560 (0.006418) with: {'learn_rate': 0.1}\n",
      "0.850538 (0.007860) with: {'learn_rate': 0.01}\n",
      "0.860960 (0.005541) with: {'learn_rate': 0.001}\n",
      "0.846306 (0.011918) with: {'learn_rate': 0.0001}\n",
      "0.849560 (0.006418) with: {'learn_rate': 0.2}\n"
     ]
    }
   ],
   "source": [
    "# summarize results\n",
    "print(\"Best: %f using %s\" % (grid_result.best_score_, grid_result.best_params_))\n",
    "means = grid_result.cv_results_['mean_test_score']\n",
    "stds = grid_result.cv_results_['std_test_score']\n",
    "params = grid_result.cv_results_['params']\n",
    "for mean, stdev, param in zip(means, stds, params):\n",
    "    print(\"%f (%f) with: %r\" % (mean, stdev, param))"
   ]
  },
  {
   "cell_type": "markdown",
   "metadata": {
    "id": "SGI_ZN8T5-xb"
   },
   "source": [
    "\n",
    "#Final Model for Neural Network\n"
   ]
  },
  {
   "cell_type": "code",
   "execution_count": null,
   "metadata": {
    "id": "bBXzXm4k5-xb"
   },
   "outputs": [],
   "source": [
    "\n",
    "def create_model(lyrs=(256, 128, 64, 32, 16), act='relu', opt='RMSprop',learn_rate=0.001,momentum=0,dr=0.2):\n",
    "    \n",
    "    # set random seed for reproducibility\n",
    "    seed(1)\n",
    "\n",
    "    model = Sequential()\n",
    "    \n",
    "    # create first hidden layer\n",
    "    model.add(Dense(lyrs[0], input_dim=X_train.shape[1], activation=act,kernel_initializer='he_uniform'))\n",
    "    \n",
    "    if(len(lyrs)>1):\n",
    "      # create additional hidden layers\n",
    "      for i in range(1,len(lyrs)):\n",
    "          model.add(Dense(lyrs[i], activation=act,kernel_initializer='he_uniform'))\n",
    "    else:\n",
    "      # add dropout, default is none\n",
    "      model.add(Dropout(dr))\n",
    "    \n",
    "    model.add(Dropout(dr))\n",
    "\n",
    "    # create output layer\n",
    "    model.add(Dense(1, activation='sigmoid'))  # output layer\n",
    "    \n",
    "\n",
    "    optimizer=keras.optimizers.RMSprop(lr=learn_rate)\n",
    "    model.compile(loss='binary_crossentropy', optimizer=optimizer, metrics=['accuracy'])\n",
    "    \n",
    "    return model"
   ]
  },
  {
   "cell_type": "code",
   "execution_count": null,
   "metadata": {
    "colab": {
     "base_uri": "https://localhost:8080/",
     "height": 408
    },
    "id": "A6BWWUIz5-xd",
    "outputId": "3e27c2d0-493b-4beb-a7c9-6bb1c6a39ab3"
   },
   "outputs": [
    {
     "name": "stdout",
     "output_type": "stream",
     "text": [
      "Model: \"sequential_145\"\n",
      "_________________________________________________________________\n",
      "Layer (type)                 Output Shape              Param #   \n",
      "=================================================================\n",
      "dense_670 (Dense)            (None, 256)               13056     \n",
      "_________________________________________________________________\n",
      "dense_671 (Dense)            (None, 128)               32896     \n",
      "_________________________________________________________________\n",
      "dense_672 (Dense)            (None, 64)                8256      \n",
      "_________________________________________________________________\n",
      "dense_673 (Dense)            (None, 32)                2080      \n",
      "_________________________________________________________________\n",
      "dense_674 (Dense)            (None, 16)                528       \n",
      "_________________________________________________________________\n",
      "dropout_145 (Dropout)        (None, 16)                0         \n",
      "_________________________________________________________________\n",
      "dense_675 (Dense)            (None, 1)                 17        \n",
      "=================================================================\n",
      "Total params: 56,833\n",
      "Trainable params: 56,833\n",
      "Non-trainable params: 0\n",
      "_________________________________________________________________\n",
      "None\n"
     ]
    }
   ],
   "source": [
    "model = create_model()\n",
    "print(model.summary())"
   ]
  },
  {
   "cell_type": "code",
   "execution_count": null,
   "metadata": {
    "colab": {
     "base_uri": "https://localhost:8080/",
     "height": 51
    },
    "id": "go4K0KoA5-xe",
    "outputId": "8e304436-cdcf-4f32-95ce-472d70a38111"
   },
   "outputs": [
    {
     "name": "stdout",
     "output_type": "stream",
     "text": [
      "\n",
      "val_acc: 84.46%\n"
     ]
    }
   ],
   "source": [
    "#weights = {0:0.15, 1:0.85}\n",
    "\n",
    "training_results = model.fit(X_train, y_train, validation_data=(X_test, y_test),batch_size=32, epochs=50, verbose=0,shuffle=False)\n",
    "val_acc = np.mean(training_results.history['val_accuracy'])\n",
    "print(\"\\n%s: %.2f%%\" % ('val_acc', val_acc*100))\n"
   ]
  },
  {
   "cell_type": "code",
   "execution_count": null,
   "metadata": {
    "colab": {
     "base_uri": "https://localhost:8080/",
     "height": 390
    },
    "id": "N7kDwYue5-xi",
    "outputId": "71909b8d-6c7b-43e8-ee08-4d0df463c860"
   },
   "outputs": [
    {
     "data": {
      "image/png": "[encoded data removed]",
      "text/plain": [
       "<Figure size 864x432 with 2 Axes>"
      ]
     },
     "metadata": {
      "needs_background": "light",
      "tags": []
     },
     "output_type": "display_data"
    }
   ],
   "source": [
    "acc = [training_results.history['accuracy'], training_results.history['val_accuracy']]\n",
    "loss = [training_results.history['loss'], training_results.history['val_loss']]\n",
    "\n",
    "epoch = range(50)\n",
    "\n",
    "plt.figure(figsize=(12, 6))\n",
    "plt.subplot(1, 2, 1)\n",
    "plt.plot(epoch, acc[0], label='Training Accuracy')\n",
    "plt.plot(epoch, acc[1], label='Validation Accuracy')\n",
    "plt.legend(loc='lower right')\n",
    "plt.title('Training and Validation Accuracy')\n",
    "\n",
    "plt.subplot(1, 2, 2)\n",
    "plt.plot(epoch, loss[0], label='Training Loss')\n",
    "plt.plot(epoch, loss[1], label='Validation Loss')\n",
    "plt.legend(loc='upper right')\n",
    "plt.title('Training and Validation Loss')\n",
    "plt.show()"
   ]
  },
  {
   "cell_type": "code",
   "execution_count": null,
   "metadata": {
    "id": "sGKNpdUslTim"
   },
   "outputs": [],
   "source": [
    "#Predict on test set\n",
    "predictions_NN_prob = model.predict(X_test)"
   ]
  },
  {
   "cell_type": "code",
   "execution_count": null,
   "metadata": {
    "colab": {
     "base_uri": "https://localhost:8080/",
     "height": 34
    },
    "id": "Z5o4qgimlWaU",
    "outputId": "98175025-95cc-4495-e74d-5c5fea8c56c8"
   },
   "outputs": [
    {
     "data": {
      "text/plain": [
       "0.7516823623608357"
      ]
     },
     "execution_count": 125,
     "metadata": {
      "tags": []
     },
     "output_type": "execute_result"
    }
   ],
   "source": [
    "import sklearn.metrics as metrics\n",
    "\n",
    "auc = metrics.roc_auc_score(y_test,predictions_NN_prob )\n",
    "auc"
   ]
  },
  {
   "cell_type": "code",
   "execution_count": null,
   "metadata": {
    "id": "9MHfaZe-5-xp"
   },
   "outputs": [],
   "source": [
    "predictions = model.predict_proba(X_test1)\n",
    "preds_NN=predictions[:,1]"
   ]
  },
  {
   "cell_type": "code",
   "execution_count": null,
   "metadata": {
    "id": "nxcQiG2t5-xq"
   },
   "outputs": [],
   "source": [
    "data = pd.read_csv(\"/content/sample_solution.csv\")\n",
    "data['output'] = predictions\n",
    "data.to_csv('/content/sample_nnwith50.csv')"
   ]
  },
  {
   "cell_type": "markdown",
   "metadata": {
    "id": "2eLxIDFwjzgW"
   },
   "source": [
    "## Interpretation:The final optimal model gave a validation accuracy of around 85% and auc of 75% , but the model is overfitting.This model is further utilized in the voting classifier. "
   ]
  },
  {
   "cell_type": "markdown",
   "metadata": {
    "id": "C3oDpZUx6Zbx"
   },
   "source": [
    "#Voting with Neural Network, XGB and KNN\n",
    "\n",
    "\n",
    "\n"
   ]
  },
  {
   "cell_type": "markdown",
   "metadata": {
    "id": "cgznFU9bnbpv"
   },
   "source": [
    "Voting techniques are used to improve model performance, ideally achieving better performance than any single model used in the ensemble.Since this is a case of classification, after a majority vote, the maximum probability of a label has been taken into account. This method has helped achieve the highest test accuracy as per kaggle. "
   ]
  },
  {
   "cell_type": "code",
   "execution_count": null,
   "metadata": {
    "id": "EtAahIgv6cEQ"
   },
   "outputs": [],
   "source": [
    "#Combining the probability predicitons of NN, KNN and XGB into a single dataframe\n",
    "allpreds_df = pd.DataFrame({'nn': preds_NN,'knn': preds_knn,'xgb': preds_xgbregu}, columns=['nn','knn','xgb'])\n"
   ]
  },
  {
   "cell_type": "code",
   "execution_count": null,
   "metadata": {
    "colab": {
     "base_uri": "https://localhost:8080/",
     "height": 111
    },
    "id": "NeJGkifK8DdP",
    "outputId": "354408a9-6439-43b4-e201-5d5d3f3f36be"
   },
   "outputs": [
    {
     "data": {
      "text/html": [
       "<div>\n",
       "<style scoped>\n",
       "    .dataframe tbody tr th:only-of-type {\n",
       "        vertical-align: middle;\n",
       "    }\n",
       "\n",
       "    .dataframe tbody tr th {\n",
       "        vertical-align: top;\n",
       "    }\n",
       "\n",
       "    .dataframe thead th {\n",
       "        text-align: right;\n",
       "    }\n",
       "</style>\n",
       "<table border=\"1\" class=\"dataframe\">\n",
       "  <thead>\n",
       "    <tr style=\"text-align: right;\">\n",
       "      <th></th>\n",
       "      <th>nn</th>\n",
       "      <th>knn</th>\n",
       "      <th>xgb</th>\n",
       "    </tr>\n",
       "  </thead>\n",
       "  <tbody>\n",
       "    <tr>\n",
       "      <th>0</th>\n",
       "      <td>0.955097</td>\n",
       "      <td>0.874998</td>\n",
       "      <td>0.984347</td>\n",
       "    </tr>\n",
       "    <tr>\n",
       "      <th>1</th>\n",
       "      <td>0.025554</td>\n",
       "      <td>1.000000</td>\n",
       "      <td>0.966594</td>\n",
       "    </tr>\n",
       "  </tbody>\n",
       "</table>\n",
       "</div>"
      ],
      "text/plain": [
       "         nn       knn       xgb\n",
       "0  0.955097  0.874998  0.984347\n",
       "1  0.025554  1.000000  0.966594"
      ]
     },
     "execution_count": 256,
     "metadata": {
      "tags": []
     },
     "output_type": "execute_result"
    }
   ],
   "source": [
    "allpreds_df.head(2)"
   ]
  },
  {
   "cell_type": "code",
   "execution_count": null,
   "metadata": {
    "id": "HYR4Gvy4nzVC"
   },
   "outputs": [],
   "source": [
    "allpreds_df[\"count_prob>0.5\"] = allpreds_df.apply(lambda row: sum(row[0:5]>0.5) ,axis=1)\n",
    "allpreds_df[\"max_prob\"] = allpreds_df[['nn','knn','xgb']].max(axis = 1)\n",
    "allpreds_df[\"min_prob\"] = allpreds_df[['nn','knn','xgb']].min(axis = 1)\n"
   ]
  },
  {
   "cell_type": "code",
   "execution_count": null,
   "metadata": {
    "colab": {
     "base_uri": "https://localhost:8080/",
     "height": 111
    },
    "id": "YVtbdA1F6v1E",
    "outputId": "e9c5fa4e-38c4-4ff3-b3b6-fa66735edd46"
   },
   "outputs": [
    {
     "data": {
      "text/html": [
       "<div>\n",
       "<style scoped>\n",
       "    .dataframe tbody tr th:only-of-type {\n",
       "        vertical-align: middle;\n",
       "    }\n",
       "\n",
       "    .dataframe tbody tr th {\n",
       "        vertical-align: top;\n",
       "    }\n",
       "\n",
       "    .dataframe thead th {\n",
       "        text-align: right;\n",
       "    }\n",
       "</style>\n",
       "<table border=\"1\" class=\"dataframe\">\n",
       "  <thead>\n",
       "    <tr style=\"text-align: right;\">\n",
       "      <th></th>\n",
       "      <th>nn</th>\n",
       "      <th>knn</th>\n",
       "      <th>xgb</th>\n",
       "      <th>count_prob&gt;0.5</th>\n",
       "      <th>max_prob</th>\n",
       "      <th>min_prob</th>\n",
       "    </tr>\n",
       "  </thead>\n",
       "  <tbody>\n",
       "    <tr>\n",
       "      <th>0</th>\n",
       "      <td>0.955097</td>\n",
       "      <td>0.874998</td>\n",
       "      <td>0.984347</td>\n",
       "      <td>3</td>\n",
       "      <td>0.984347</td>\n",
       "      <td>0.874998</td>\n",
       "    </tr>\n",
       "    <tr>\n",
       "      <th>1</th>\n",
       "      <td>0.025554</td>\n",
       "      <td>1.000000</td>\n",
       "      <td>0.966594</td>\n",
       "      <td>2</td>\n",
       "      <td>1.000000</td>\n",
       "      <td>0.025554</td>\n",
       "    </tr>\n",
       "  </tbody>\n",
       "</table>\n",
       "</div>"
      ],
      "text/plain": [
       "         nn       knn       xgb  count_prob>0.5  max_prob  min_prob\n",
       "0  0.955097  0.874998  0.984347               3  0.984347  0.874998\n",
       "1  0.025554  1.000000  0.966594               2  1.000000  0.025554"
      ]
     },
     "execution_count": 262,
     "metadata": {
      "tags": []
     },
     "output_type": "execute_result"
    }
   ],
   "source": [
    "allpreds_df.head(2)"
   ]
  },
  {
   "cell_type": "code",
   "execution_count": null,
   "metadata": {
    "id": "VRig5Cv77Cj1"
   },
   "outputs": [],
   "source": [
    "for i in allpreds_df.index:\n",
    "    if(allpreds_df['count_prob>0.5'][i]>=2):\n",
    "        allpreds_df.at[i, 'final_prob'] = allpreds_df.at[i, 'max_prob']\n",
    "    else:\n",
    "       allpreds_df.at[i, 'final_prob'] = allpreds_df.at[i, 'min_prob']\n"
   ]
  },
  {
   "cell_type": "code",
   "execution_count": null,
   "metadata": {
    "colab": {
     "base_uri": "https://localhost:8080/",
     "height": 221
    },
    "id": "5aKNAKwy7LRE",
    "outputId": "ae4bc3f9-bb4c-4976-aed9-72bf9dcb36c0"
   },
   "outputs": [
    {
     "data": {
      "text/plain": [
       "0       0.984347\n",
       "1       1.000000\n",
       "2       0.375012\n",
       "3       0.874991\n",
       "4       1.000000\n",
       "          ...   \n",
       "1727    0.977504\n",
       "1728    0.919975\n",
       "1729    0.875069\n",
       "1730    1.000000\n",
       "1731    0.957080\n",
       "Name: final_prob, Length: 1732, dtype: float64"
      ]
     },
     "execution_count": 265,
     "metadata": {
      "tags": []
     },
     "output_type": "execute_result"
    }
   ],
   "source": [
    "finalpreds=allpreds_df['final_prob']\n",
    "finalpreds\n"
   ]
  },
  {
   "cell_type": "code",
   "execution_count": null,
   "metadata": {
    "id": "dwgMRKcN8hNG"
   },
   "outputs": [],
   "source": [
    "data = pd.read_csv(\"/content/sample_solution.csv\")\n",
    "data['output'] = finalpreds\n",
    "data.to_csv('/content/sample_combinedpreds50boruta.csv')"
   ]
  },
  {
   "cell_type": "markdown",
   "metadata": {
    "id": "fsha8thSpFLX"
   },
   "source": [
    "## The predictions made by this voting classifier helped get the maximum score on kaggle of .07215."
   ]
  },
  {
   "cell_type": "markdown",
   "metadata": {
    "id": "ZlIxfbp2TGqw"
   },
   "source": [
    "# Another ensemble method with KNN, Random Forest, Decision Tree and XGboost to understand the AUC\n",
    "\n",
    "We created another stacking classifier to see if different combinations of the classifiers helped maximize the AUC. The AUC can be visualized in the graphs below. The stacking methods never gave the highest AUC or F1 score in comparison to XGB or \n",
    "\n",
    "The following code has been adapted from the following link: https://towardsdatascience.com/stacking-classifiers-for-higher-predictive-performance-566f963e4840\n",
    "\n"
   ]
  },
  {
   "cell_type": "code",
   "execution_count": null,
   "metadata": {
    "id": "dOCYF3CKTNP_"
   },
   "outputs": [],
   "source": [
    "from mlxtend.classifier import StackingCVClassifier\n",
    "classifier1 = RandomForestClassifier(class_weight= 'balanced', max_depth= 10, min_samples_split= 6, \n",
    "                             n_estimators= 50, random_state=82)\n",
    "\n",
    "# Initializing Multi-layer perceptron  classifier\n",
    "classifier2 = xgb.XGBClassifier(class_weight= 'balanced',learning_rate= 0.1, n_estimators=500,reg_lambda=1,subsample=1,\n",
    "                             random_state=82)\n",
    "\n",
    "# Initialing Nu Support Vector classifier\n",
    "classifier3 = GradientBoostingClassifier(learning_rate= 0.1, n_estimators=400,max_depth=4,min_samples_leaf=4,subsample=0.7,\n",
    "                             random_state=82)\n",
    "\n",
    "# Initializing Random Forest classifier\n",
    "classifier4 = KNeighborsClassifier(metric='euclidean',n_neighbors=12,weights='distance')\n",
    "\n"
   ]
  },
  {
   "cell_type": "code",
   "execution_count": null,
   "metadata": {
    "id": "abGSCwX_TlpU"
   },
   "outputs": [],
   "source": [
    "# Initializing the StackingCV classifier\n",
    "sclf = StackingCVClassifier(classifiers = [ classifier1, classifier2, classifier3, classifier4],\n",
    "                            shuffle = False,\n",
    "                            use_probas = True,\n",
    "                            cv = 5,\n",
    "                            meta_classifier = GradientBoostingClassifier(learning_rate= 0.05, n_estimators=600,max_depth=5,min_samples_leaf=4,subsample=0.7,\n",
    "                             random_state=82))"
   ]
  },
  {
   "cell_type": "code",
   "execution_count": null,
   "metadata": {
    "id": "AQ9O-cbTTnBz"
   },
   "outputs": [],
   "source": [
    "# Create list to store classifiers\n",
    "classifiers = {\"RFC\": classifier1,\n",
    "               \"XGB\": classifier2,\n",
    "               \"GB\": classifier3,\n",
    "               \"KNN\": classifier4,\n",
    "               \"Stack\": sclf}\n"
   ]
  },
  {
   "cell_type": "code",
   "execution_count": null,
   "metadata": {
    "id": "-RYQ3wJDUAIY"
   },
   "outputs": [],
   "source": [
    "# Train classifiers\n",
    "for key in classifiers:\n",
    "    # Get classifier\n",
    "    classifier = classifiers[key]\n",
    "    \n",
    "    # Fit classifier\n",
    "    classifier.fit(X_train.values, y_train)\n",
    "        \n",
    "    # Save fitted classifier\n",
    "    classifiers[key] = classifier"
   ]
  },
  {
   "cell_type": "code",
   "execution_count": null,
   "metadata": {
    "id": "hDOJdKadUEvp"
   },
   "outputs": [],
   "source": [
    "results = pd.DataFrame()\n",
    "for key in classifiers:\n",
    "    # Make prediction on test set\n",
    "    y_pred = classifiers[key].predict_proba(X_test.values)[:,1]\n",
    "    \n",
    "    # Save results in pandas dataframe object\n",
    "    results[f\"{key}\"] = y_pred\n",
    "\n",
    "# Add the test set to the results object\n",
    "results[\"Target\"] = y_test"
   ]
  },
  {
   "cell_type": "code",
   "execution_count": null,
   "metadata": {
    "colab": {
     "base_uri": "https://localhost:8080/",
     "height": 34
    },
    "id": "No8DSFPq4BuQ",
    "outputId": "98fd10e7-67b6-42f7-8c0a-fd2aff24df88"
   },
   "outputs": [
    {
     "data": {
      "text/plain": [
       "0.8631857237276933"
      ]
     },
     "execution_count": 219,
     "metadata": {
      "tags": []
     },
     "output_type": "execute_result"
    }
   ],
   "source": [
    "y_pred2 = classifiers[key].predict(X_test.values)\n",
    "accuracy_score(y_test,y_pred2)"
   ]
  },
  {
   "cell_type": "code",
   "execution_count": null,
   "metadata": {
    "id": "KIoPM9Lf-Jha"
   },
   "outputs": [],
   "source": [
    " #Calculating test probabilities\n",
    " y_pred1 = classifiers[\"Stack\"].predict_proba(X_test1.values)"
   ]
  },
  {
   "cell_type": "code",
   "execution_count": null,
   "metadata": {
    "id": "LfVRvTY6_Gmx"
   },
   "outputs": [],
   "source": [
    "submithis = pd.DataFrame([X_test1.index,y_pred1[:,1]]).T\n",
    "submithis.columns = ['id','output']\n",
    "submithis.id = submithis.id.astype(int)\n",
    "submithis.to_csv('submission_stacking10_model2.csv',index=False)"
   ]
  },
  {
   "cell_type": "code",
   "execution_count": null,
   "metadata": {
    "colab": {
     "base_uri": "https://localhost:8080/",
     "height": 293
    },
    "id": "p_TRooEOhped",
    "outputId": "9e03e2ed-fc90-4053-de80-9fb63695c1d9"
   },
   "outputs": [
    {
     "data": {
      "image/png": "[encoded data removed]",
      "text/plain": [
       "<Figure size 936x288 with 5 Axes>"
      ]
     },
     "metadata": {
      "tags": []
     },
     "output_type": "display_data"
    }
   ],
   "source": [
    "#Visualising Results\n",
    "# Probability Distributions Figure\n",
    "# Set graph style\n",
    "\n",
    "import warnings\n",
    "warnings.simplefilter(action='ignore', category=FutureWarning)\n",
    "\n",
    "sns.set(font_scale = 1)\n",
    "sns.set_style({\"axes.facecolor\": \"1.0\", \"axes.edgecolor\": \"0.85\", \"grid.color\": \"0.85\",\n",
    "               \"grid.linestyle\": \"-\", 'axes.labelcolor': '0.4', \"xtick.color\": \"0.4\",\n",
    "               'ytick.color': '0.4'})\n",
    "\n",
    "# Plot\n",
    "f, ax = plt.subplots(figsize=(13, 4), nrows=1, ncols = 5)\n",
    "\n",
    "for key, counter in zip(classifiers, range(5)):\n",
    "    # Get predictions\n",
    "    y_pred = results[key]\n",
    "    \n",
    "    # Get AUC\n",
    "    auc = metrics.roc_auc_score(y_test, y_pred)\n",
    "    textstr = f\"AUC: {auc:.3f}\"\n",
    "\n",
    "    # Plot false distribution\n",
    "    false_pred = results[results[\"Target\"] == 0]\n",
    "    sns.distplot(false_pred[key], hist=True, kde=False, \n",
    "                 bins=int(25), color = 'red',\n",
    "                 hist_kws={'edgecolor':'black'}, ax = ax[counter])\n",
    "    \n",
    "    # Plot true distribution\n",
    "    true_pred = results[results[\"Target\"] == 1]\n",
    "    sns.distplot(results[key], hist=True, kde=False, \n",
    "                 bins=int(25), color = 'green',\n",
    "                 hist_kws={'edgecolor':'black'}, ax = ax[counter])\n",
    "    \n",
    "    \n",
    "    # These are matplotlib.patch.Patch properties\n",
    "    props = dict(boxstyle='round', facecolor='white', alpha=0.5)\n",
    "    \n",
    "    # Place a text box in upper left in axes coords\n",
    "    ax[counter].text(0.05, 0.95, textstr, transform=ax[counter].transAxes, fontsize=14,\n",
    "                    verticalalignment = \"top\", bbox=props)\n",
    "    \n",
    "    # Set axis limits and labels\n",
    "    ax[counter].set_title(f\"{key} Distribution\")\n",
    "    ax[counter].set_xlim(0,1)\n",
    "    ax[counter].set_xlabel(\"Probability\")\n",
    "\n",
    "# Tight layout\n",
    "plt.tight_layout()\n",
    "\n",
    "# Save Figure\n",
    "plt.savefig(\"Probability Distribution for each Classifier.png\", dpi = 1080)"
   ]
  },
  {
   "cell_type": "markdown",
   "metadata": {
    "id": "opfd--MYT_z3"
   },
   "source": [
    "FEATURE IMPORTANCE"
   ]
  },
  {
   "cell_type": "code",
   "execution_count": null,
   "metadata": {
    "colab": {
     "base_uri": "https://localhost:8080/",
     "height": 448
    },
    "id": "6_Scmk0MTLZE",
    "outputId": "f31ab3af-6c4f-42c6-dacc-8ac7e4caa095"
   },
   "outputs": [
    {
     "data": {
      "image/png": "[encoded data removed]",
      "text/plain": [
       "<Figure size 864x576 with 1 Axes>"
      ]
     },
     "metadata": {
      "needs_background": "light",
      "tags": []
     },
     "output_type": "display_data"
    }
   ],
   "source": [
    "colnames=X_boruta.columns\n",
    "\n",
    "importance = pd.DataFrame({'feature': colnames, 'importance_col':clfxgb.feature_importances_})\n",
    "importance.sort_values(['importance_col', 'feature'], ascending=[0, 1], inplace=True)\n",
    "\n",
    "#Plotting top n important features\n",
    "#importance = importance.iloc[0:5,]\n",
    "plt.figure(1,figsize=(12, 8))\n",
    "h = plt.bar(range(len(importance.importance_col)),importance.importance_col,label=importance.feature)\n",
    "plt.subplots_adjust(bottom=0.3)\n",
    "xticks_pos = [0.65*patch.get_width() + patch.get_xy()[0] for patch in h]\n",
    "plt.xticks(xticks_pos,importance.feature[0:20],  ha='right', rotation=45)\n",
    "plt.title(\"Feature importances - XGBoost\")\n",
    "plt.xlabel(\"Training Data - Column Names\")\n",
    "plt.show()"
   ]
  },
  {
   "cell_type": "markdown",
   "metadata": {
    "id": "ThhF9rF8Hzx1"
   },
   "source": [
    "We can see here SubjectG,M,K has higer Importance than the other features\n",
    "\n",
    "\n",
    "\n",
    "\n",
    "\n",
    "\n",
    "\n",
    "\n",
    "\n",
    "\n"
   ]
  },
  {
   "cell_type": "code",
   "execution_count": 685,
   "metadata": {
    "colab": {
     "base_uri": "https://localhost:8080/",
     "height": 279
    },
    "id": "qNSaaNyoID6U",
    "outputId": "6d4d85ff-6846-426f-f73e-a166f2d44b34"
   },
   "outputs": [
    {
     "data": {
      "image/png": "[encoded data removed]",
      "text/plain": [
       "<Figure size 432x288 with 1 Axes>"
      ]
     },
     "metadata": {
      "needs_background": "light",
      "tags": []
     },
     "output_type": "display_data"
    }
   ],
   "source": [
    "f, ax = plt.subplots(figsize=(6, 4))\n",
    "sns.countplot(x=\"subject\", hue=\"output\", data=df_train);"
   ]
  }
 ],
 "metadata": {
  "accelerator": "GPU",
  "colab": {
   "collapsed_sections": [],
   "machine_shape": "hm",
   "name": "AbaracadataHomework3.ipynb",
   "provenance": []
  },
  "kernelspec": {
   "display_name": "Python 3",
   "language": "python",
   "name": "python3"
  },
  "language_info": {
   "codemirror_mode": {
    "name": "ipython",
    "version": 3
   },
   "file_extension": ".py",
   "mimetype": "text/x-python",
   "name": "python",
   "nbconvert_exporter": "python",
   "pygments_lexer": "ipython3",
   "version": "3.8.5"
  }
 },
 "nbformat": 4,
 "nbformat_minor": 1
}
